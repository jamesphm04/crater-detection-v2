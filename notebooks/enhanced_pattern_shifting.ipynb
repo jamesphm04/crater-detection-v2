{
 "cells": [
  {
   "cell_type": "code",
   "execution_count": 1,
   "outputs": [],
   "source": [
    "from typing import Tuple\n",
    "import numpy as np\n",
    "from itertools import combinations"
   ],
   "metadata": {
    "collapsed": false,
    "pycharm": {
     "name": "#%%\n"
    }
   }
  },
  {
   "cell_type": "markdown",
   "source": [
    "## Lexicographic pattern"
   ],
   "metadata": {
    "collapsed": false
   }
  },
  {
   "cell_type": "code",
   "execution_count": 2,
   "outputs": [
    {
     "name": "stderr",
     "output_type": "stream",
     "text": [
      "C:\\Users\\w_dop\\miniconda3\\envs\\crater-detection\\lib\\site-packages\\ipykernel_launcher.py:5: DeprecationWarning: `np.int` is a deprecated alias for the builtin `int`. To silence this warning, use `int` by itself. Doing this will not modify any behavior and is safe. When replacing `np.int`, you may wish to use e.g. `np.int64` or `np.int32` to specify the precision. If you wish to review your current use, check the release note link for additional information.\n",
      "Deprecated in NumPy 1.20; for more details and guidance: https://numpy.org/devdocs/release/1.20.0-notes.html#deprecations\n",
      "  \"\"\"\n"
     ]
    },
    {
     "data": {
      "text/plain": "array([[ 0,  1,  2],\n       [ 0,  1,  3],\n       [ 0,  1,  4],\n       ...,\n       [20, 21, 23],\n       [20, 22, 23],\n       [21, 22, 23]])"
     },
     "execution_count": 2,
     "metadata": {},
     "output_type": "execute_result"
    }
   ],
   "source": [
    "from numba import njit\n",
    "n_det = 24\n",
    "\n",
    "n_comb = int((n_det * (n_det - 1) * (n_det - 2)) / 6)\n",
    "crater_triads = np.empty((n_comb, 3), np.int)\n",
    "for i, el in enumerate(combinations(np.arange(n_det), 3)):\n",
    "    crater_triads[i] = el\n",
    "\n",
    "crater_triads"
   ],
   "metadata": {
    "collapsed": false,
    "pycharm": {
     "name": "#%%\n"
    }
   }
  },
  {
   "cell_type": "markdown",
   "source": [
    "## Enhanced Pattern Shifting\n",
    "Arnas, D., Fialho, M. A. A., & Mortari, D. (2017). Fast and robust kernel generators for star trackers. Acta Astronautica,\n",
    "134 (August 2016), 291–302. https://doi.org/10.1016/j.actaastro.2017.02.016"
   ],
   "metadata": {
    "collapsed": false
   }
  },
  {
   "cell_type": "code",
   "execution_count": 10,
   "outputs": [],
   "source": [
    "# Verify with p. 292 from https://doi.org/10.1016/j.actaastro.2017.02.016\n",
    "@njit\n",
    "def enhanced_pattern_shifting(n) -> Tuple[int, int, int]:\n",
    "    if n < 3:\n",
    "        raise ValueError(\"Number of detections must be equal or higher than 3!\")\n",
    "\n",
    "    for dj in range(1, n - 1):\n",
    "        for dk in range(1, n - dj):\n",
    "            for ii in range(1, 4):\n",
    "                for i in range(ii, n - dj - dk + 1, 3):\n",
    "                    j = i + dj\n",
    "                    k = j + dk\n",
    "                    yield i - 1, j - 1, k - 1"
   ],
   "metadata": {
    "collapsed": false,
    "pycharm": {
     "name": "#%%\n"
    }
   }
  },
  {
   "cell_type": "code",
   "execution_count": 4,
   "outputs": [
    {
     "name": "stdout",
     "output_type": "stream",
     "text": [
      "(0, 1, 2)\n",
      "(3, 4, 5)\n",
      "(6, 7, 8)\n",
      "(1, 2, 3)\n",
      "(4, 5, 6)\n",
      "(2, 3, 4)\n",
      "(5, 6, 7)\n",
      "(0, 1, 3)\n",
      "(3, 4, 6)\n",
      "(1, 2, 4)\n",
      "(4, 5, 7)\n",
      "(2, 3, 5)\n",
      "(5, 6, 8)\n",
      "(0, 1, 4)\n",
      "(3, 4, 7)\n",
      "(1, 2, 5)\n",
      "(4, 5, 8)\n",
      "(2, 3, 6)\n",
      "(0, 1, 5)\n",
      "(3, 4, 8)\n",
      "(1, 2, 6)\n",
      "(2, 3, 7)\n",
      "(0, 1, 6)\n",
      "(1, 2, 7)\n",
      "(2, 3, 8)\n",
      "(0, 1, 7)\n",
      "(1, 2, 8)\n",
      "(0, 1, 8)\n",
      "(0, 2, 3)\n",
      "(3, 5, 6)\n",
      "(1, 3, 4)\n",
      "(4, 6, 7)\n",
      "(2, 4, 5)\n",
      "(5, 7, 8)\n",
      "(0, 2, 4)\n",
      "(3, 5, 7)\n",
      "(1, 3, 5)\n",
      "(4, 6, 8)\n",
      "(2, 4, 6)\n",
      "(0, 2, 5)\n",
      "(3, 5, 8)\n",
      "(1, 3, 6)\n",
      "(2, 4, 7)\n",
      "(0, 2, 6)\n",
      "(1, 3, 7)\n",
      "(2, 4, 8)\n",
      "(0, 2, 7)\n",
      "(1, 3, 8)\n",
      "(0, 2, 8)\n",
      "(0, 3, 4)\n",
      "(3, 6, 7)\n",
      "(1, 4, 5)\n",
      "(4, 7, 8)\n",
      "(2, 5, 6)\n",
      "(0, 3, 5)\n",
      "(3, 6, 8)\n",
      "(1, 4, 6)\n",
      "(2, 5, 7)\n",
      "(0, 3, 6)\n",
      "(1, 4, 7)\n",
      "(2, 5, 8)\n",
      "(0, 3, 7)\n",
      "(1, 4, 8)\n",
      "(0, 3, 8)\n",
      "(0, 4, 5)\n",
      "(3, 7, 8)\n",
      "(1, 5, 6)\n",
      "(2, 6, 7)\n",
      "(0, 4, 6)\n",
      "(1, 5, 7)\n",
      "(2, 6, 8)\n",
      "(0, 4, 7)\n",
      "(1, 5, 8)\n",
      "(0, 4, 8)\n",
      "(0, 5, 6)\n",
      "(1, 6, 7)\n",
      "(2, 7, 8)\n",
      "(0, 5, 7)\n",
      "(1, 6, 8)\n",
      "(0, 5, 8)\n",
      "(0, 6, 7)\n",
      "(1, 7, 8)\n",
      "(0, 6, 8)\n",
      "(0, 7, 8)\n"
     ]
    }
   ],
   "source": [
    "crater_triads = np.empty((n_comb, 3), np.uint32)\n",
    "for it, (i, j, k) in enumerate(enhanced_pattern_shifting(9)):\n",
    "    print((i, j, k))"
   ],
   "metadata": {
    "collapsed": false,
    "pycharm": {
     "name": "#%%\n"
    }
   }
  },
  {
   "cell_type": "code",
   "execution_count": 5,
   "outputs": [
    {
     "name": "stdout",
     "output_type": "stream",
     "text": [
      "0 (0, 1, 2)\n",
      "1 (3, 4, 5)\n",
      "2 (6, 7, 8)\n",
      "3 (9, 10, 11)\n",
      "4 (12, 13, 14)\n",
      "5 (15, 16, 17)\n",
      "6 (18, 19, 20)\n",
      "7 (21, 22, 23)\n",
      "8 (1, 2, 3)\n",
      "9 (4, 5, 6)\n",
      "10 (7, 8, 9)\n",
      "11 (10, 11, 12)\n",
      "12 (13, 14, 15)\n",
      "13 (16, 17, 18)\n",
      "14 (19, 20, 21)\n",
      "15 (2, 3, 4)\n",
      "16 (5, 6, 7)\n",
      "17 (8, 9, 10)\n",
      "18 (11, 12, 13)\n",
      "19 (14, 15, 16)\n",
      "20 (17, 18, 19)\n",
      "21 (20, 21, 22)\n",
      "22 (0, 1, 3)\n",
      "23 (3, 4, 6)\n",
      "24 (6, 7, 9)\n",
      "25 (9, 10, 12)\n",
      "26 (12, 13, 15)\n",
      "27 (15, 16, 18)\n",
      "28 (18, 19, 21)\n",
      "29 (1, 2, 4)\n",
      "0 (4, 5, 7)\n",
      "1 (7, 8, 10)\n",
      "2 (10, 11, 13)\n",
      "3 (13, 14, 16)\n",
      "4 (16, 17, 19)\n",
      "5 (19, 20, 22)\n",
      "6 (2, 3, 5)\n",
      "7 (5, 6, 8)\n",
      "8 (8, 9, 11)\n",
      "9 (11, 12, 14)\n",
      "10 (14, 15, 17)\n",
      "11 (17, 18, 20)\n",
      "12 (20, 21, 23)\n",
      "13 (0, 1, 4)\n",
      "14 (3, 4, 7)\n",
      "15 (6, 7, 10)\n",
      "16 (9, 10, 13)\n",
      "17 (12, 13, 16)\n",
      "18 (15, 16, 19)\n",
      "19 (18, 19, 22)\n",
      "20 (1, 2, 5)\n",
      "21 (4, 5, 8)\n",
      "22 (7, 8, 11)\n",
      "23 (10, 11, 14)\n",
      "24 (13, 14, 17)\n",
      "25 (16, 17, 20)\n",
      "26 (19, 20, 23)\n",
      "27 (2, 3, 6)\n",
      "28 (5, 6, 9)\n",
      "29 (8, 9, 12)\n"
     ]
    }
   ],
   "source": [
    "batch_size = 30\n",
    "eps_gen = enhanced_pattern_shifting(n_det)\n",
    "\n",
    "for i in range(2):\n",
    "\n",
    "    for index, (i, j, k) in enumerate(eps_gen):\n",
    "        print(index, (i, j, k))\n",
    "        if index >= batch_size -1:\n",
    "            break"
   ],
   "metadata": {
    "collapsed": false,
    "pycharm": {
     "name": "#%%\n"
    }
   }
  },
  {
   "cell_type": "code",
   "execution_count": 32,
   "outputs": [],
   "source": [
    "@njit\n",
    "def eps_array(n):\n",
    "    n_comb = int((n * (n - 1) * (n - 2)) // 6)\n",
    "\n",
    "    out = np.empty((n_comb, 3), np.uint32)\n",
    "\n",
    "    for ii, (i, j, k) in enumerate(enhanced_pattern_shifting(n)):\n",
    "        out[ii, 0] = i\n",
    "        out[ii, 1] = j\n",
    "        out[ii, 2] = k\n",
    "\n",
    "    return out"
   ],
   "metadata": {
    "collapsed": false,
    "pycharm": {
     "name": "#%%\n"
    }
   }
  },
  {
   "cell_type": "code",
   "execution_count": 37,
   "outputs": [
    {
     "name": "stdout",
     "output_type": "stream",
     "text": [
      "Wall time: 1.12 s\n"
     ]
    }
   ],
   "source": [
    "%%time\n",
    "crater_triads = eps_array(900)"
   ],
   "metadata": {
    "collapsed": false,
    "pycharm": {
     "name": "#%%\n"
    }
   }
  },
  {
   "cell_type": "code",
   "execution_count": 38,
   "outputs": [
    {
     "data": {
      "text/plain": "array([[  0,   1,   2],\n       [  3,   4,   5],\n       [  6,   7,   8],\n       ...,\n       [  1, 898, 899],\n       [  0, 897, 899],\n       [  0, 898, 899]], dtype=uint32)"
     },
     "execution_count": 38,
     "metadata": {},
     "output_type": "execute_result"
    }
   ],
   "source": [
    "crater_triads"
   ],
   "metadata": {
    "collapsed": false,
    "pycharm": {
     "name": "#%%\n"
    }
   }
  },
  {
   "cell_type": "code",
   "execution_count": null,
   "outputs": [],
   "source": [],
   "metadata": {
    "collapsed": false,
    "pycharm": {
     "name": "#%%\n"
    }
   }
  }
 ],
 "metadata": {
  "kernelspec": {
   "name": "pycharm-ca2c6f67",
   "language": "python",
   "display_name": "PyCharm (crater-detection)"
  },
  "language_info": {
   "codemirror_mode": {
    "name": "ipython",
    "version": 2
   },
   "file_extension": ".py",
   "mimetype": "text/x-python",
   "name": "python",
   "nbconvert_exporter": "python",
   "pygments_lexer": "ipython2",
   "version": "2.7.6"
  }
 },
 "nbformat": 4,
 "nbformat_minor": 0
}