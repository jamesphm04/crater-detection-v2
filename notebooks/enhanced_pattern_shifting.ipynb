{
 "cells": [
  {
   "cell_type": "code",
   "execution_count": 2,
   "metadata": {
    "collapsed": true
   },
   "outputs": [],
   "source": [
    "import numpy as np\n",
    "from itertools import combinations"
   ]
  },
  {
   "cell_type": "markdown",
   "source": [
    "## Lexicographic pattern"
   ],
   "metadata": {
    "collapsed": false,
    "pycharm": {
     "name": "#%% md\n"
    }
   }
  },
  {
   "cell_type": "code",
   "execution_count": 42,
   "outputs": [
    {
     "data": {
      "text/plain": "array([[ 0,  1,  2],\n       [ 0,  1,  3],\n       [ 0,  1,  4],\n       ...,\n       [20, 21, 23],\n       [20, 22, 23],\n       [21, 22, 23]])"
     },
     "execution_count": 42,
     "metadata": {},
     "output_type": "execute_result"
    }
   ],
   "source": [
    "n_det = 24\n",
    "\n",
    "n_comb = int((n_det * (n_det - 1) * (n_det - 2)) / 6)\n",
    "crater_triads = np.empty((n_comb, 3), np.int)\n",
    "for i, el in enumerate(combinations(np.arange(n_det), 3)):\n",
    "    crater_triads[i] = el\n",
    "\n",
    "crater_triads"
   ],
   "metadata": {
    "collapsed": false,
    "pycharm": {
     "name": "#%%\n"
    }
   }
  },
  {
   "cell_type": "markdown",
   "source": [
    "## Enhanced Pattern Shifting\n",
    "Arnas, D., Fialho, M. A. A., & Mortari, D. (2017). Fast and robust kernel generators for star trackers. Acta Astronautica,\n",
    "134 (August 2016), 291–302. https://doi.org/10.1016/j.actaastro.2017.02.016"
   ],
   "metadata": {
    "collapsed": false,
    "pycharm": {
     "name": "#%% md\n"
    }
   }
  },
  {
   "cell_type": "code",
   "execution_count": 43,
   "outputs": [
    {
     "data": {
      "text/plain": "array([[ 0,  1,  2],\n       [ 3,  4,  5],\n       [ 6,  7,  8],\n       ...,\n       [20, 21, 23],\n       [20, 22, 23],\n       [21, 22, 23]])"
     },
     "execution_count": 43,
     "metadata": {},
     "output_type": "execute_result"
    }
   ],
   "source": [
    "def enhanced_pattern_shifting(n):\n",
    "    for dj in range(1, n-2):\n",
    "        for dk in range(1, n-dj-1):\n",
    "            for ii in range(0, 3):\n",
    "                for i in range(ii, n-dj-dk, 3):\n",
    "                    j = i + dj\n",
    "                    k = j + dk\n",
    "                    yield i, j, k\n",
    "\n",
    "for it, (i, j, k) in enumerate(enhanced_pattern_shifting(n_det)):\n",
    "    crater_triads[it] = np.array([i, j, k])\n",
    "crater_triads"
   ],
   "metadata": {
    "collapsed": false,
    "pycharm": {
     "name": "#%%\n"
    }
   }
  },
  {
   "cell_type": "code",
   "execution_count": 38,
   "outputs": [
    {
     "data": {
      "text/plain": "array([[1, 4, 5]])"
     },
     "execution_count": 38,
     "metadata": {},
     "output_type": "execute_result"
    }
   ],
   "source": [
    "np.array([i, j, k])[None, :]"
   ],
   "metadata": {
    "collapsed": false,
    "pycharm": {
     "name": "#%%\n"
    }
   }
  },
  {
   "cell_type": "code",
   "execution_count": null,
   "outputs": [],
   "source": [],
   "metadata": {
    "collapsed": false,
    "pycharm": {
     "name": "#%%\n"
    }
   }
  }
 ],
 "metadata": {
  "kernelspec": {
   "display_name": "Python 3",
   "language": "python",
   "name": "python3"
  },
  "language_info": {
   "codemirror_mode": {
    "name": "ipython",
    "version": 2
   },
   "file_extension": ".py",
   "mimetype": "text/x-python",
   "name": "python",
   "nbconvert_exporter": "python",
   "pygments_lexer": "ipython2",
   "version": "2.7.6"
  }
 },
 "nbformat": 4,
 "nbformat_minor": 0
}