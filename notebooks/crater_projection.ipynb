{
 "cells": [
  {
   "cell_type": "code",
   "execution_count": 15,
   "outputs": [],
   "source": [
    "from craterdetection.matching.database import CraterDatabase\n",
    "from craterdetection.matching.database import extract_robbins_dataset, load_craters\n",
    "from craterdetection.matching.projective_invariants import crater_representation, matrix_adjugate\n",
    "\n",
    "import numpy as np\n",
    "import numpy.linalg as LA"
   ],
   "metadata": {
    "collapsed": false,
    "pycharm": {
     "name": "#%%\n"
    }
   }
  },
  {
   "cell_type": "code",
   "execution_count": 5,
   "outputs": [
    {
     "name": "stdout",
     "output_type": "stream",
     "text": [
      "CPU times: user 3.76 s, sys: 570 ms, total: 4.33 s\n",
      "Wall time: 4.36 s\n"
     ]
    }
   ],
   "source": [
    "%%time\n",
    "lat, long, major, minor, psi, crater_id = extract_robbins_dataset(\n",
    "    load_craters(\"../data/lunar_crater_database_robbins_2018.csv\")\n",
    ")"
   ],
   "metadata": {
    "collapsed": false,
    "pycharm": {
     "name": "#%%\n"
    }
   }
  },
  {
   "cell_type": "markdown",
   "source": [
    "#### Convert coordinates to 3D selenographic position"
   ],
   "metadata": {
    "collapsed": false,
    "pycharm": {
     "name": "#%% md\n"
    }
   }
  },
  {
   "cell_type": "code",
   "execution_count": 7,
   "outputs": [],
   "source": [
    "R_moon = 1737.1\n",
    "\n",
    "p_Mi = R_moon*np.array([\n",
    "    np.cos(lat)*np.cos(long),\n",
    "    np.cos(lat)*np.sin(long),\n",
    "    np.sin(lat)\n",
    "]).T[:, :, None]"
   ],
   "metadata": {
    "collapsed": false,
    "pycharm": {
     "name": "#%%\n"
    }
   }
  },
  {
   "cell_type": "markdown",
   "source": [
    "#### Define local ENU coordinate system"
   ],
   "metadata": {
    "collapsed": false,
    "pycharm": {
     "name": "#%% md\n"
    }
   }
  },
  {
   "cell_type": "code",
   "execution_count": 8,
   "outputs": [
    {
     "name": "stdout",
     "output_type": "stream",
     "text": [
      "(3, 1)\n"
     ]
    }
   ],
   "source": [
    "k = np.array([0, 0, 1])[:, None]\n",
    "print(k.shape)\n",
    "\n",
    "u_i = p_Mi / R_moon\n",
    "\n",
    "e_i = np.cross(k.squeeze(), u_i.squeeze())[:, :, None]\n",
    "e_i /= np.tile(LA.norm(e_i, ord=2, axis=(1,2)), (3, 1)).T[:, :, None]\n",
    "\n",
    "n_i = np.cross(u_i.squeeze(), e_i.squeeze())[:, :, None]\n",
    "n_i /= np.tile(LA.norm(n_i, ord=2, axis=(1,2)), (3, 1)).T[:, :, None]\n",
    "\n",
    "T_EM = np.moveaxis(np.array([e_i, n_i, u_i]), 0, 1).squeeze()"
   ],
   "metadata": {
    "collapsed": false,
    "pycharm": {
     "name": "#%%\n"
    }
   }
  },
  {
   "cell_type": "code",
   "execution_count": 9,
   "outputs": [],
   "source": [
    "planes = np.concatenate([u_i, -R_moon*np.ones(p_Mi.shape[0])[:, None, None]], axis=1)\n",
    "S = np.concatenate((np.identity(2), np.zeros((1, 2))), axis=0)\n",
    "S = np.tile(S, (p_Mi.shape[0], 1, 1))"
   ],
   "metadata": {
    "collapsed": false,
    "pycharm": {
     "name": "#%%\n"
    }
   }
  },
  {
   "cell_type": "code",
   "execution_count": 10,
   "outputs": [],
   "source": [
    "H_Mi = np.concatenate((T_EM @ S, p_Mi), axis=-1)"
   ],
   "metadata": {
    "collapsed": false,
    "pycharm": {
     "name": "#%%\n"
    }
   }
  },
  {
   "cell_type": "code",
   "execution_count": 11,
   "outputs": [],
   "source": [
    "x_quadric = np.concatenate((H_Mi, np.tile(k.T, (p_Mi.shape[0], 1, 1))), axis=1)"
   ],
   "metadata": {
    "collapsed": false,
    "pycharm": {
     "name": "#%%\n"
    }
   }
  },
  {
   "cell_type": "code",
   "execution_count": 16,
   "outputs": [],
   "source": [
    "C = crater_representation(0, 0, major, minor, psi)\n",
    "C_star = matrix_adjugate(C)"
   ],
   "metadata": {
    "collapsed": false,
    "pycharm": {
     "name": "#%%\n"
    }
   }
  },
  {
   "cell_type": "code",
   "execution_count": 24,
   "outputs": [],
   "source": [
    "Q_star = x_quadric @ C_star @ x_quadric.transpose(0, 2, 1)"
   ],
   "metadata": {
    "collapsed": false,
    "pycharm": {
     "name": "#%%\n"
    }
   }
  },
  {
   "cell_type": "code",
   "execution_count": 25,
   "outputs": [
    {
     "data": {
      "text/plain": "array([[[-9.46515333e+01,  2.92248503e+01,  1.64036627e+01,\n         -1.64876266e-02],\n        [ 2.92248503e+01,  2.76119549e+02,  7.38479660e+01,\n         -1.76558521e-01],\n        [ 1.64036627e+01,  7.38479660e+01, -4.63774024e+01,\n         -6.41581112e-02],\n        [-1.64876266e-02, -1.76558521e-01, -6.41581112e-02,\n          1.08558107e-04]],\n\n       [[ 1.94486983e+02,  3.22354313e+02, -1.48513690e+01,\n         -2.40312263e-01],\n        [ 3.22354313e+02,  3.92170934e+02, -1.50750684e+01,\n         -2.92436042e-01],\n        [-1.48513690e+01, -1.50750684e+01, -6.43260735e+01,\n          1.28918725e-02],\n        [-2.40312263e-01, -2.92436042e-01,  1.28918725e-02,\n          2.18023236e-04]],\n\n       [[-7.09377062e+01,  1.43996550e+01,  1.67396803e+01,\n         -1.28074919e-02],\n        [ 1.43996550e+01,  1.82746552e+02,  2.25344555e+02,\n         -2.00938833e-01],\n        [ 1.67396803e+01,  2.25344555e+02,  2.72949306e+02,\n         -2.33124855e-01],\n        [-1.28074919e-02, -2.00938833e-01, -2.33124855e-01,\n          1.77329101e-04]],\n\n       ...,\n\n       [[ 1.35075542e+02,  1.12474370e+02, -1.23323716e+03,\n          7.18190578e-01],\n        [ 1.12474370e+02,  6.70543026e+01, -9.22477518e+02,\n          5.35710888e-01],\n        [-1.23323716e+03, -9.22477518e+02,  1.00252544e+04,\n         -5.83904631e+00],\n        [ 7.18190578e-01,  5.35710888e-01, -5.83904631e+00,\n          3.40071906e-03]],\n\n       [[ 1.80160729e+04,  8.97849104e+03, -7.36285261e+04,\n          4.39417681e+01],\n        [ 8.97849104e+03,  4.47096916e+03, -3.66884664e+04,\n          2.18953445e+01],\n        [-7.36285261e+04, -3.66884664e+04,  3.00856089e+05,\n         -1.79552172e+02],\n        [ 4.39417681e+01,  2.18953445e+01, -1.79552172e+02,\n          1.07157410e-01]],\n\n       [[ 2.82199628e+03,  5.37517810e+02,  1.23278388e+04,\n         -7.28781396e+00],\n        [ 5.37517810e+02,  9.48415748e+01,  2.34037391e+03,\n         -1.38455720e+00],\n        [ 1.23278388e+04,  2.34037391e+03,  5.37210397e+04,\n         -3.17583912e+01],\n        [-7.28781396e+00, -1.38455720e+00, -3.17583912e+01,\n          1.87745430e-02]]])"
     },
     "execution_count": 25,
     "metadata": {},
     "output_type": "execute_result"
    }
   ],
   "source": [
    "Q_star"
   ],
   "metadata": {
    "collapsed": false,
    "pycharm": {
     "name": "#%%\n"
    }
   }
  },
  {
   "cell_type": "code",
   "execution_count": null,
   "outputs": [],
   "source": [],
   "metadata": {
    "collapsed": false,
    "pycharm": {
     "name": "#%%\n"
    }
   }
  }
 ],
 "metadata": {
  "kernelspec": {
   "name": "python3",
   "language": "python",
   "display_name": "Python 3"
  },
  "language_info": {
   "codemirror_mode": {
    "name": "ipython",
    "version": 2
   },
   "file_extension": ".py",
   "mimetype": "text/x-python",
   "name": "python",
   "nbconvert_exporter": "python",
   "pygments_lexer": "ipython2",
   "version": "3.7.9-final"
  }
 },
 "nbformat": 4,
 "nbformat_minor": 0
}