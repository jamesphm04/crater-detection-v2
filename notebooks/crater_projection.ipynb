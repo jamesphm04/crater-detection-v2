{
 "cells": [
  {
   "cell_type": "code",
   "execution_count": 19,
   "outputs": [],
   "source": [
    "from craterdetection.matching.database import CraterDatabase\n",
    "from craterdetection.matching.database import extract_robbins_dataset, load_craters\n",
    "from craterdetection.matching.projective_invariants import crater_representation, matrix_adjugate\n",
    "\n",
    "import numpy as np\n",
    "import numpy.linalg as LA"
   ],
   "metadata": {
    "collapsed": false,
    "pycharm": {
     "name": "#%%\n"
    }
   }
  },
  {
   "cell_type": "code",
   "execution_count": 2,
   "outputs": [
    {
     "name": "stdout",
     "output_type": "stream",
     "text": [
      "Wall time: 1.83 s\n"
     ]
    }
   ],
   "source": [
    "lat, long, major, minor, psi, crater_id = extract_robbins_dataset(\n",
    "    load_craters(\"../data/lunar_crater_database_robbins_2018.csv\")\n",
    ")"
   ],
   "metadata": {
    "collapsed": false,
    "pycharm": {
     "name": "#%%\n"
    }
   }
  },
  {
   "cell_type": "markdown",
   "source": [
    "### Mathematical Representation of a Crater\n",
    "#### Convert coordinates to 3D selenographic position"
   ],
   "metadata": {
    "collapsed": false,
    "pycharm": {
     "name": "#%% md\n"
    }
   }
  },
  {
   "cell_type": "code",
   "execution_count": 3,
   "outputs": [],
   "source": [
    "R_moon = 1737.1\n",
    "\n",
    "p_Mi = R_moon*np.array([\n",
    "    np.cos(lat)*np.cos(long),\n",
    "    np.cos(lat)*np.sin(long),\n",
    "    np.sin(lat)\n",
    "]).T[:, :, None]"
   ],
   "metadata": {
    "collapsed": false,
    "pycharm": {
     "name": "#%%\n"
    }
   }
  },
  {
   "cell_type": "markdown",
   "source": [
    "#### Define local ENU coordinate system"
   ],
   "metadata": {
    "collapsed": false,
    "pycharm": {
     "name": "#%% md\n"
    }
   }
  },
  {
   "cell_type": "code",
   "execution_count": 4,
   "outputs": [
    {
     "name": "stdout",
     "output_type": "stream",
     "text": [
      "(3, 1)\n"
     ]
    }
   ],
   "source": [
    "k = np.array([0, 0, 1])[:, None]\n",
    "print(k.shape)\n",
    "\n",
    "u_i = p_Mi / R_moon\n",
    "\n",
    "e_i = np.cross(k.squeeze(), u_i.squeeze())[:, :, None]\n",
    "e_i /= np.tile(LA.norm(e_i, ord=2, axis=(1,2)), (3, 1)).T[:, :, None]\n",
    "\n",
    "n_i = np.cross(u_i.squeeze(), e_i.squeeze())[:, :, None]\n",
    "n_i /= np.tile(LA.norm(n_i, ord=2, axis=(1,2)), (3, 1)).T[:, :, None]\n",
    "\n",
    "T_EM = np.moveaxis(np.array([e_i, n_i, u_i]), 0, 1).squeeze()"
   ],
   "metadata": {
    "collapsed": false,
    "pycharm": {
     "name": "#%%\n"
    }
   }
  },
  {
   "cell_type": "code",
   "execution_count": 14,
   "outputs": [],
   "source": [
    "planes = np.concatenate([u_i, -R_moon*np.ones(p_Mi.shape[0])[:, None, None]], axis=1)\n",
    "S = np.concatenate((np.identity(2), np.zeros((1, 2))), axis=0)"
   ],
   "metadata": {
    "collapsed": false,
    "pycharm": {
     "name": "#%%\n"
    }
   }
  },
  {
   "cell_type": "code",
   "execution_count": 15,
   "outputs": [],
   "source": [
    "H_Mi = np.concatenate((T_EM @ S, p_Mi), axis=-1)"
   ],
   "metadata": {
    "collapsed": false,
    "pycharm": {
     "name": "#%%\n"
    }
   }
  },
  {
   "cell_type": "code",
   "execution_count": 16,
   "outputs": [],
   "source": [
    "x_quadric = np.concatenate((H_Mi, np.tile(k.T, (p_Mi.shape[0], 1, 1))), axis=1)"
   ],
   "metadata": {
    "collapsed": false,
    "pycharm": {
     "name": "#%%\n"
    }
   }
  },
  {
   "cell_type": "code",
   "execution_count": 17,
   "outputs": [],
   "source": [
    "C = crater_representation(0, 0, major, minor, psi)\n",
    "C_star = matrix_adjugate(C)"
   ],
   "metadata": {
    "collapsed": false,
    "pycharm": {
     "name": "#%%\n"
    }
   }
  },
  {
   "cell_type": "code",
   "execution_count": 18,
   "outputs": [],
   "source": [
    "Q_star = x_quadric @ C_star @ x_quadric.transpose(0, 2, 1)"
   ],
   "metadata": {
    "collapsed": false,
    "pycharm": {
     "name": "#%%\n"
    }
   }
  },
  {
   "cell_type": "markdown",
   "source": [
    "### Homography and Action of a Projective Camera on a Crater Disk Quadric"
   ],
   "metadata": {
    "collapsed": false,
    "pycharm": {
     "name": "#%% md\n"
    }
   }
  },
  {
   "cell_type": "code",
   "execution_count": null,
   "outputs": [],
   "source": [],
   "metadata": {
    "collapsed": false,
    "pycharm": {
     "name": "#%%\n"
    }
   }
  }
 ],
 "metadata": {
  "kernelspec": {
   "name": "python3",
   "language": "python",
   "display_name": "Python 3"
  },
  "language_info": {
   "codemirror_mode": {
    "name": "ipython",
    "version": 2
   },
   "file_extension": ".py",
   "mimetype": "text/x-python",
   "name": "python",
   "nbconvert_exporter": "python",
   "pygments_lexer": "ipython2",
   "version": "3.7.9-final"
  }
 },
 "nbformat": 4,
 "nbformat_minor": 0
}