{
 "cells": [
  {
   "cell_type": "code",
   "execution_count": 2,
   "metadata": {
    "collapsed": true
   },
   "outputs": [
    {
     "name": "stdout",
     "output_type": "stream",
     "text": [
      "1 2 3 , 3 4 5 , "
     ]
    }
   ],
   "source": [
    "\n",
    "# Python3 implementation of the approach\n",
    "import numpy as np\n",
    "\n",
    "MAX = 100\n",
    "\n",
    "# Stores the vertices\n",
    "store = [0]* MAX\n",
    "\n",
    "# Graph\n",
    "graph = np.zeros((MAX, MAX))\n",
    "\n",
    "# Degree of the vertices\n",
    "d = [0] * MAX\n",
    "\n",
    "# Function to check if the given set of vertices\n",
    "# in store array is a clique or not\n",
    "def is_clique(b) :\n",
    "\n",
    "\t# Run a loop for all the set of edges\n",
    "\t# for the select vertex\n",
    "\tfor i in range(1, b) :\n",
    "\t\tfor j in range(i + 1, b) :\n",
    "\n",
    "\t\t\t# If any edge is missing\n",
    "\t\t\tif (graph[store[i]][store[j]] == 0) :\n",
    "\t\t\t\treturn False\n",
    "\n",
    "\treturn True\n",
    "\n",
    "# Function to print the clique\n",
    "def print_cli(n) :\n",
    "\n",
    "\tfor i in range(1, n) :\n",
    "\t\tprint(store[i], end = \" \");\n",
    "\tprint(\",\", end=\" \");\n",
    "\n",
    "# Function to find all the cliques of size s\n",
    "def findCliques(i, l, s) :\n",
    "\n",
    "\t# Check if any vertices from i+1 can be inserted\n",
    "\tfor j in range( i + 1, n -(s - l) + 1) :\n",
    "\n",
    "\t\t# If the degree of the graph is sufficient\n",
    "\t\tif (d[j] >= s - 1) :\n",
    "\n",
    "\t\t\t# Add the vertex to store\n",
    "\t\t\tstore[l] = j;\n",
    "\n",
    "\t\t\t# If the graph is not a clique of size k\n",
    "\t\t\t# then it cannot be a clique\n",
    "\t\t\t# by adding another edge\n",
    "\t\t\tif (is_clique(l + 1)) :\n",
    "\n",
    "\t\t\t\t# If the length of the clique is\n",
    "\t\t\t\t# still less than the desired size\n",
    "\t\t\t\tif (l < s) :\n",
    "\n",
    "\t\t\t\t\t# Recursion to add vertices\n",
    "\t\t\t\t\tfindCliques(j, l + 1, s);\n",
    "\n",
    "\t\t\t\t# Size is met\n",
    "\t\t\t\telse :\n",
    "\t\t\t\t\tprint_cli(l + 1);\n",
    "\n",
    "# Driver code\n",
    "if __name__ == \"__main__\" :\n",
    "\n",
    "\tedges = [ [ 1, 2 ],\n",
    "\t\t\t[ 2, 3 ],\n",
    "\t\t\t[ 3, 1 ],\n",
    "\t\t\t[ 4, 3 ],\n",
    "\t\t\t[ 4, 5 ],\n",
    "\t\t\t[ 5, 3 ] ]\n",
    "\tk = 3\n",
    "\tsize = len(edges)\n",
    "\tn = 5\n",
    "\n",
    "\tfor i in range(size) :\n",
    "\t\tgraph[edges[i][0]][edges[i][1]] = 1\n",
    "\t\tgraph[edges[i][1]][edges[i][0]] = 1\n",
    "\t\td[edges[i][0]] += 1\n",
    "\t\td[edges[i][1]] += 1\n",
    "\n",
    "\n",
    "\tfindCliques(0, 1, k)"
   ]
  },
  {
   "cell_type": "code",
   "execution_count": null,
   "outputs": [],
   "source": [],
   "metadata": {
    "collapsed": false,
    "pycharm": {
     "name": "#%%\n"
    }
   }
  }
 ],
 "metadata": {
  "kernelspec": {
   "name": "pycharm-ca2c6f67",
   "language": "python",
   "display_name": "PyCharm (crater-detection)"
  },
  "language_info": {
   "codemirror_mode": {
    "name": "ipython",
    "version": 2
   },
   "file_extension": ".py",
   "mimetype": "text/x-python",
   "name": "python",
   "nbconvert_exporter": "python",
   "pygments_lexer": "ipython2",
   "version": "2.7.6"
  }
 },
 "nbformat": 4,
 "nbformat_minor": 0
}