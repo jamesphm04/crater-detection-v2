{
 "cells": [
  {
   "cell_type": "code",
   "execution_count": 1,
   "metadata": {
    "collapsed": true
   },
   "outputs": [],
   "source": [
    "import os\n",
    "from pathlib import Path\n",
    "import urllib\n",
    "\n",
    "import datetime\n",
    "import numpy as np\n",
    "import pandas as pd\n",
    "from matplotlib import pyplot as plt\n",
    "import spiceypy as spice\n",
    "\n",
    "_BASE_URL = 'https://naif.jpl.nasa.gov/pub/naif/'\n",
    "_KERNEL_ROOT = Path('../data/spice_kernels')"
   ]
  },
  {
   "cell_type": "code",
   "execution_count": 2,
   "outputs": [],
   "source": [
    "def download_kernel(file_path, base_url=_BASE_URL, base_folder=_KERNEL_ROOT):\n",
    "    if isinstance(file_path, str):\n",
    "        file_path = Path(file_path)\n",
    "\n",
    "    local_path = base_folder / file_path\n",
    "    url = base_url + file_path.as_posix()\n",
    "\n",
    "    # Create necessary sub-directories in the DL_PATH direction\n",
    "    local_path.parent.mkdir(parents=True, exist_ok=True)\n",
    "\n",
    "    try:\n",
    "        # If the file is not present in the download directory -> download it\n",
    "        if not os.path.isfile(local_path):\n",
    "            print(f\"Downloading {url}\", end=\"  \")\n",
    "            # Download the file with the urllib  package\n",
    "            urllib.request.urlretrieve(str(url), str(local_path))\n",
    "            print(\"Done.\")\n",
    "        else:\n",
    "            print(f\"{base_folder / file_path} already exists!\")\n",
    "    except urllib.error.HTTPError as e:\n",
    "        print(f\"Error: \\n{url} could not be found: \", e)"
   ],
   "metadata": {
    "collapsed": false,
    "pycharm": {
     "name": "#%%\n"
    }
   }
  },
  {
   "cell_type": "code",
   "execution_count": 3,
   "outputs": [],
   "source": [
    "kernels = list(map(Path, [\n",
    "    'generic_kernels/lsk/naif0012.tls',\n",
    "    'generic_kernels/pck/pck00010.tpc',\n",
    "    'pds/data/lro-l-spice-6-v1.0/lrosp_1000/data/ck/lrosc_2020255_2020259_v01.lbl',\n",
    "    'pds/data/lro-l-spice-6-v1.0/lrosp_1000/data/ck/lrosc_2020255_2020259_v01.bc',\n",
    "    'pds/data/lro-l-spice-6-v1.0/lrosp_1000/data/spk/lrorg_2020167_2020259_v01.bsp',\n",
    "    'pds/data/lro-l-spice-6-v1.0/lrosp_1000/data/spk/de421.bsp',\n",
    "    'pds/data/lro-l-spice-6-v1.0/lrosp_1000/data/fk/moon_assoc_pa.tf',\n",
    "    'pds/data/lro-l-spice-6-v1.0/lrosp_1000/data/fk/moon_080317.tf',\n",
    "    'pds/data/lro-l-spice-6-v1.0/lrosp_1000/data/sclk/lro_clkcor_2020259_v00.tsc',\n",
    "    'pds/data/lro-l-spice-6-v1.0/lrosp_1000/data/fk/lro_frames_2012255_v02.tf',\n",
    "    'pds/data/lro-l-spice-6-v1.0/lrosp_1000/data/pck/moon_pa_de421_1900_2050.bpc'\n",
    "]))"
   ],
   "metadata": {
    "collapsed": false,
    "pycharm": {
     "name": "#%%\n"
    }
   }
  },
  {
   "cell_type": "code",
   "source": [
    "for k in kernels:\n",
    "    download_kernel(k)\n",
    "\n",
    "spice.furnsh(map(str, list(map(lambda x: _KERNEL_ROOT / x, kernels))))"
   ],
   "metadata": {
    "collapsed": false,
    "pycharm": {
     "name": "#%%\n"
    }
   },
   "execution_count": 4,
   "outputs": [
    {
     "name": "stdout",
     "output_type": "stream",
     "text": [
      "..\\data\\spice_kernels\\generic_kernels\\lsk\\naif0012.tls already exists!\n",
      "..\\data\\spice_kernels\\generic_kernels\\pck\\pck00010.tpc already exists!\n",
      "..\\data\\spice_kernels\\pds\\data\\lro-l-spice-6-v1.0\\lrosp_1000\\data\\ck\\lrosc_2020255_2020259_v01.lbl already exists!\n",
      "..\\data\\spice_kernels\\pds\\data\\lro-l-spice-6-v1.0\\lrosp_1000\\data\\ck\\lrosc_2020255_2020259_v01.bc already exists!\n",
      "..\\data\\spice_kernels\\pds\\data\\lro-l-spice-6-v1.0\\lrosp_1000\\data\\spk\\lrorg_2020167_2020259_v01.bsp already exists!\n",
      "..\\data\\spice_kernels\\pds\\data\\lro-l-spice-6-v1.0\\lrosp_1000\\data\\spk\\de421.bsp already exists!\n",
      "..\\data\\spice_kernels\\pds\\data\\lro-l-spice-6-v1.0\\lrosp_1000\\data\\fk\\moon_assoc_pa.tf already exists!\n",
      "..\\data\\spice_kernels\\pds\\data\\lro-l-spice-6-v1.0\\lrosp_1000\\data\\fk\\moon_080317.tf already exists!\n",
      "..\\data\\spice_kernels\\pds\\data\\lro-l-spice-6-v1.0\\lrosp_1000\\data\\sclk\\lro_clkcor_2020259_v00.tsc already exists!\n",
      "..\\data\\spice_kernels\\pds\\data\\lro-l-spice-6-v1.0\\lrosp_1000\\data\\fk\\lro_frames_2012255_v02.tf already exists!\n",
      "..\\data\\spice_kernels\\pds\\data\\lro-l-spice-6-v1.0\\lrosp_1000\\data\\pck\\moon_pa_de421_1900_2050.bpc already exists!\n"
     ]
    }
   ]
  },
  {
   "cell_type": "code",
   "execution_count": 5,
   "outputs": [],
   "source": [
    "# convert the datetime to a string, replacing the time with midnight\n",
    "DATE_TODAY = '2012-05-01T00:00:00'\n",
    "\n",
    "# convert the utc midnight string to the corresponding ET\n",
    "ET_TODAY_MIDNIGHT = spice.utc2et(DATE_TODAY)"
   ],
   "metadata": {
    "collapsed": false,
    "pycharm": {
     "name": "#%%\n"
    }
   }
  },
  {
   "cell_type": "code",
   "execution_count": 12,
   "outputs": [
    {
     "data": {
      "text/plain": "array([-6.93090998e+07, -1.33980127e+08, -1.83336820e+06])"
     },
     "execution_count": 12,
     "metadata": {},
     "output_type": "execute_result"
    }
   ],
   "source": [
    "MOON_POS_REL_SUN, _ = spice.spkpos(targ='MOON', et=ET_TODAY_MIDNIGHT, ref='MOON_ME', abcorr='NONE', obs='SUN')\n",
    "MOON_POS_REL_SUN"
   ],
   "metadata": {
    "collapsed": false,
    "pycharm": {
     "name": "#%%\n"
    }
   }
  },
  {
   "cell_type": "code",
   "execution_count": 14,
   "outputs": [
    {
     "data": {
      "text/plain": "(4.772755767662035, 1.1506911698160833, 5.845425345327612, 0.0)"
     },
     "execution_count": 14,
     "metadata": {},
     "output_type": "execute_result"
    }
   ],
   "source": [
    "spice.bodeul(301, ET_TODAY_MIDNIGHT)"
   ],
   "metadata": {
    "collapsed": false,
    "pycharm": {
     "name": "#%%\n"
    }
   }
  },
  {
   "cell_type": "code",
   "execution_count": null,
   "outputs": [],
   "source": [],
   "metadata": {
    "collapsed": false,
    "pycharm": {
     "name": "#%%\n"
    }
   }
  }
 ],
 "metadata": {
  "kernelspec": {
   "display_name": "Python 3",
   "language": "python",
   "name": "python3"
  },
  "language_info": {
   "codemirror_mode": {
    "name": "ipython",
    "version": 2
   },
   "file_extension": ".py",
   "mimetype": "text/x-python",
   "name": "python",
   "nbconvert_exporter": "python",
   "pygments_lexer": "ipython2",
   "version": "2.7.6"
  }
 },
 "nbformat": 4,
 "nbformat_minor": 0
}