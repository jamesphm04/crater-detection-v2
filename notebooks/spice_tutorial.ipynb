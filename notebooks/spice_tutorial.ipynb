{
 "cells": [
  {
   "cell_type": "code",
   "execution_count": 1,
   "metadata": {
    "collapsed": true
   },
   "outputs": [],
   "source": [
    "import os\n",
    "from pathlib import Path\n",
    "import urllib\n",
    "\n",
    "import datetime\n",
    "import numpy as np\n",
    "import pandas as pd\n",
    "from matplotlib import pyplot as plt\n",
    "import spiceypy as spice\n",
    "\n",
    "_BASE_URL = 'https://naif.jpl.nasa.gov/pub/naif/'\n",
    "_KERNEL_ROOT = Path('../data/spice_kernels')"
   ]
  },
  {
   "cell_type": "code",
   "execution_count": 2,
   "outputs": [],
   "source": [
    "def download_kernel(file_path, base_url=_BASE_URL, base_folder=_KERNEL_ROOT):\n",
    "    if isinstance(file_path, str):\n",
    "        file_path = Path(file_path)\n",
    "\n",
    "    local_path = base_folder / file_path\n",
    "    url = base_url + file_path.as_posix()\n",
    "\n",
    "    # Create necessary sub-directories in the DL_PATH direction\n",
    "    local_path.parent.mkdir(parents=True, exist_ok=True)\n",
    "\n",
    "    try:\n",
    "        # If the file is not present in the download directory -> download it\n",
    "        if not os.path.isfile(local_path):\n",
    "            print(f\"Downloading {url}\", end=\"  \")\n",
    "            # Download the file with the urllib  package\n",
    "            urllib.request.urlretrieve(str(url), str(local_path))\n",
    "            print(\"Done.\")\n",
    "        else:\n",
    "            print(f\"{base_folder / file_path} already exists!\")\n",
    "    except urllib.error.HTTPError as e:\n",
    "        print(f\"Error: \\n{url} could not be found: \", e)"
   ],
   "metadata": {
    "collapsed": false,
    "pycharm": {
     "name": "#%%\n"
    }
   }
  },
  {
   "cell_type": "code",
   "execution_count": 3,
   "outputs": [],
   "source": [
    "kernels = list(map(Path, [\n",
    "    'generic_kernels/lsk/naif0012.tls',\n",
    "    'generic_kernels/pck/pck00010.tpc',\n",
    "    'pds/data/lro-l-spice-6-v1.0/lrosp_1000/data/ck/lrosc_2020255_2020259_v01.lbl',\n",
    "    'pds/data/lro-l-spice-6-v1.0/lrosp_1000/data/ck/lrosc_2020255_2020259_v01.bc',\n",
    "    'pds/data/lro-l-spice-6-v1.0/lrosp_1000/data/spk/lrorg_2020167_2020259_v01.bsp',\n",
    "    'pds/data/lro-l-spice-6-v1.0/lrosp_1000/data/spk/de421.bsp',\n",
    "    'pds/data/lro-l-spice-6-v1.0/lrosp_1000/data/fk/moon_assoc_pa.tf',\n",
    "    'pds/data/lro-l-spice-6-v1.0/lrosp_1000/data/fk/moon_080317.tf',\n",
    "    'pds/data/lro-l-spice-6-v1.0/lrosp_1000/data/sclk/lro_clkcor_2020259_v00.tsc',\n",
    "    'pds/data/lro-l-spice-6-v1.0/lrosp_1000/data/fk/lro_frames_2012255_v02.tf',\n",
    "    'pds/data/lro-l-spice-6-v1.0/lrosp_1000/data/pck/moon_pa_de421_1900_2050.bpc'\n",
    "]))"
   ],
   "metadata": {
    "collapsed": false,
    "pycharm": {
     "name": "#%%\n"
    }
   }
  },
  {
   "cell_type": "code",
   "source": [
    "for k in kernels:\n",
    "    download_kernel(k)\n",
    "\n",
    "spice.furnsh(map(str, list(map(lambda x: _KERNEL_ROOT / x, kernels))))"
   ],
   "metadata": {
    "collapsed": false,
    "pycharm": {
     "name": "#%%\n"
    }
   },
   "execution_count": 4,
   "outputs": [
    {
     "name": "stdout",
     "output_type": "stream",
     "text": [
      "Downloading https://naif.jpl.nasa.gov/pub/naif/generic_kernels/lsk/naif0012.tls  Done.\n",
      "Downloading https://naif.jpl.nasa.gov/pub/naif/generic_kernels/pck/pck00010.tpc  Done.\n",
      "Downloading https://naif.jpl.nasa.gov/pub/naif/pds/data/lro-l-spice-6-v1.0/lrosp_1000/data/ck/lrosc_2020255_2020259_v01.lbl  Done.\n",
      "Downloading https://naif.jpl.nasa.gov/pub/naif/pds/data/lro-l-spice-6-v1.0/lrosp_1000/data/ck/lrosc_2020255_2020259_v01.bc  Done.\n",
      "Downloading https://naif.jpl.nasa.gov/pub/naif/pds/data/lro-l-spice-6-v1.0/lrosp_1000/data/spk/lrorg_2020167_2020259_v01.bsp  Done.\n",
      "Downloading https://naif.jpl.nasa.gov/pub/naif/pds/data/lro-l-spice-6-v1.0/lrosp_1000/data/spk/de421.bsp  Done.\n",
      "Downloading https://naif.jpl.nasa.gov/pub/naif/pds/data/lro-l-spice-6-v1.0/lrosp_1000/data/fk/moon_assoc_pa.tf  Done.\n",
      "Downloading https://naif.jpl.nasa.gov/pub/naif/pds/data/lro-l-spice-6-v1.0/lrosp_1000/data/fk/moon_080317.tf  Done.\n",
      "Downloading https://naif.jpl.nasa.gov/pub/naif/pds/data/lro-l-spice-6-v1.0/lrosp_1000/data/sclk/lro_clkcor_2020259_v00.tsc  Done.\n",
      "Downloading https://naif.jpl.nasa.gov/pub/naif/pds/data/lro-l-spice-6-v1.0/lrosp_1000/data/fk/lro_frames_2012255_v02.tf  Done.\n",
      "Downloading https://naif.jpl.nasa.gov/pub/naif/pds/data/lro-l-spice-6-v1.0/lrosp_1000/data/pck/moon_pa_de421_1900_2050.bpc  Done.\n"
     ]
    }
   ]
  },
  {
   "cell_type": "code",
   "execution_count": 12,
   "outputs": [],
   "source": [
    "# convert the datetime to a string, replacing the time with midnight\n",
    "DATE_TODAY = '2012-05-01T00:00:00'\n",
    "\n",
    "# convert the utc midnight string to the corresponding ET\n",
    "ET_TODAY_MIDNIGHT = spice.utc2et(DATE_TODAY)"
   ],
   "metadata": {
    "collapsed": false,
    "pycharm": {
     "name": "#%%\n"
    }
   }
  },
  {
   "cell_type": "code",
   "execution_count": 13,
   "outputs": [
    {
     "data": {
      "text/plain": "array([-1.14330369e+08, -9.84192704e+07, -3.08960766e+04])"
     },
     "execution_count": 13,
     "metadata": {},
     "output_type": "execute_result"
    }
   ],
   "source": [
    "MOON_POS_REL_SUN, _ = spice.spkpos(targ='MOON', et=ET_TODAY_MIDNIGHT, ref='ECLIPJ2000', abcorr='NONE', obs='SUN')\n",
    "MOON_POS_REL_SUN"
   ],
   "metadata": {
    "collapsed": false,
    "pycharm": {
     "name": "#%%\n"
    }
   }
  },
  {
   "cell_type": "code",
   "execution_count": 14,
   "outputs": [
    {
     "ename": "SpiceNOFRAMECONNECT",
     "evalue": "\n================================================================================\n\nToolkit version: CSPICE66\n\nSPICE(NOFRAMECONNECT) --\n\nAt epoch 3.8910246618548E+08 TDB (2012 MAY 01 00:01:06.185 TDB), there is insufficient information available to transform from reference frame -85621 (LRO_LROCWAC_VIS) to reference frame 31000 (MOON_PA). Frame LRO_LROCWAC_VIS could be transformed to frame -85000 (LRO_SC_BUS). The latter is a CK frame; a CK file containing data for instrument or structure -85000 at the epoch shown above, as well as a corresponding SCLK kernel, must be loaded in order to use this frame. Frame MOON_PA could be transformed to frame 1 (J2000). Failure to find required CK data could be due to one or more CK files not having been loaded, or to the epoch shown above lying within a coverage gap or beyond the coverage bounds of the loaded CK files. It is also possible that no loaded CK file has required angular velocity data for the input epoch, even if a loaded CK does have attitude data for that epoch. You can use CKBRIEF with the -dump option to display coverage intervals of a CK file.\n\npxform_c --> PXFORM --> REFCHG\n\n================================================================================",
     "output_type": "error",
     "traceback": [
      "\u001B[1;31m---------------------------------------------------------------------------\u001B[0m",
      "\u001B[1;31mSpiceNOFRAMECONNECT\u001B[0m                       Traceback (most recent call last)",
      "\u001B[1;32m<ipython-input-14-aa958472ba35>\u001B[0m in \u001B[0;36m<module>\u001B[1;34m\u001B[0m\n\u001B[1;32m----> 1\u001B[1;33m \u001B[0mspice\u001B[0m\u001B[1;33m.\u001B[0m\u001B[0mpxform\u001B[0m\u001B[1;33m(\u001B[0m\u001B[1;34m\"LRO_LROCWAC_VIS\"\u001B[0m\u001B[1;33m,\u001B[0m \u001B[1;34m\"MOON_PA\"\u001B[0m\u001B[1;33m,\u001B[0m \u001B[0met\u001B[0m\u001B[1;33m=\u001B[0m\u001B[0mET_TODAY_MIDNIGHT\u001B[0m\u001B[1;33m)\u001B[0m\u001B[1;33m\u001B[0m\u001B[1;33m\u001B[0m\u001B[0m\n\u001B[0m\u001B[0;32m      2\u001B[0m \u001B[1;33m\u001B[0m\u001B[0m\n",
      "\u001B[1;32m~\\miniconda3\\envs\\crater-detection\\lib\\site-packages\\spiceypy\\spiceypy.py\u001B[0m in \u001B[0;36mwith_errcheck\u001B[1;34m(*args, **kwargs)\u001B[0m\n\u001B[0;32m    106\u001B[0m         \u001B[1;32mtry\u001B[0m\u001B[1;33m:\u001B[0m\u001B[1;33m\u001B[0m\u001B[1;33m\u001B[0m\u001B[0m\n\u001B[0;32m    107\u001B[0m             \u001B[0mres\u001B[0m \u001B[1;33m=\u001B[0m \u001B[0mf\u001B[0m\u001B[1;33m(\u001B[0m\u001B[1;33m*\u001B[0m\u001B[0margs\u001B[0m\u001B[1;33m,\u001B[0m \u001B[1;33m**\u001B[0m\u001B[0mkwargs\u001B[0m\u001B[1;33m)\u001B[0m\u001B[1;33m\u001B[0m\u001B[1;33m\u001B[0m\u001B[0m\n\u001B[1;32m--> 108\u001B[1;33m             \u001B[0mcheck_for_spice_error\u001B[0m\u001B[1;33m(\u001B[0m\u001B[0mf\u001B[0m\u001B[1;33m)\u001B[0m\u001B[1;33m\u001B[0m\u001B[1;33m\u001B[0m\u001B[0m\n\u001B[0m\u001B[0;32m    109\u001B[0m             \u001B[1;32mreturn\u001B[0m \u001B[0mres\u001B[0m\u001B[1;33m\u001B[0m\u001B[1;33m\u001B[0m\u001B[0m\n\u001B[0;32m    110\u001B[0m         \u001B[1;32mexcept\u001B[0m \u001B[0mBaseException\u001B[0m\u001B[1;33m:\u001B[0m\u001B[1;33m\u001B[0m\u001B[1;33m\u001B[0m\u001B[0m\n",
      "\u001B[1;32m~\\miniconda3\\envs\\crater-detection\\lib\\site-packages\\spiceypy\\spiceypy.py\u001B[0m in \u001B[0;36mcheck_for_spice_error\u001B[1;34m(f)\u001B[0m\n\u001B[0;32m     90\u001B[0m         \u001B[0mreset\u001B[0m\u001B[1;33m(\u001B[0m\u001B[1;33m)\u001B[0m\u001B[1;33m\u001B[0m\u001B[1;33m\u001B[0m\u001B[0m\n\u001B[0;32m     91\u001B[0m         raise stypes.dynamically_instantiate_spiceyerror(\n\u001B[1;32m---> 92\u001B[1;33m             \u001B[0mshort\u001B[0m\u001B[1;33m=\u001B[0m\u001B[0mshort\u001B[0m\u001B[1;33m,\u001B[0m \u001B[0mexplain\u001B[0m\u001B[1;33m=\u001B[0m\u001B[0mexplain\u001B[0m\u001B[1;33m,\u001B[0m \u001B[0mlong\u001B[0m\u001B[1;33m=\u001B[0m\u001B[0mlong\u001B[0m\u001B[1;33m,\u001B[0m \u001B[0mtraceback\u001B[0m\u001B[1;33m=\u001B[0m\u001B[0mtraceback\u001B[0m\u001B[1;33m\u001B[0m\u001B[1;33m\u001B[0m\u001B[0m\n\u001B[0m\u001B[0;32m     93\u001B[0m         )\n\u001B[0;32m     94\u001B[0m \u001B[1;33m\u001B[0m\u001B[0m\n",
      "\u001B[1;31mSpiceNOFRAMECONNECT\u001B[0m: \n================================================================================\n\nToolkit version: CSPICE66\n\nSPICE(NOFRAMECONNECT) --\n\nAt epoch 3.8910246618548E+08 TDB (2012 MAY 01 00:01:06.185 TDB), there is insufficient information available to transform from reference frame -85621 (LRO_LROCWAC_VIS) to reference frame 31000 (MOON_PA). Frame LRO_LROCWAC_VIS could be transformed to frame -85000 (LRO_SC_BUS). The latter is a CK frame; a CK file containing data for instrument or structure -85000 at the epoch shown above, as well as a corresponding SCLK kernel, must be loaded in order to use this frame. Frame MOON_PA could be transformed to frame 1 (J2000). Failure to find required CK data could be due to one or more CK files not having been loaded, or to the epoch shown above lying within a coverage gap or beyond the coverage bounds of the loaded CK files. It is also possible that no loaded CK file has required angular velocity data for the input epoch, even if a loaded CK does have attitude data for that epoch. You can use CKBRIEF with the -dump option to display coverage intervals of a CK file.\n\npxform_c --> PXFORM --> REFCHG\n\n================================================================================"
     ]
    }
   ],
   "source": [
    "spice.pxform(\"LRO_LROCWAC_VIS\", \"MOON_PA\", et=ET_TODAY_MIDNIGHT)"
   ],
   "metadata": {
    "collapsed": false,
    "pycharm": {
     "name": "#%%\n"
    }
   }
  },
  {
   "cell_type": "code",
   "execution_count": null,
   "outputs": [],
   "source": [],
   "metadata": {
    "collapsed": false,
    "pycharm": {
     "name": "#%%\n"
    }
   }
  }
 ],
 "metadata": {
  "kernelspec": {
   "display_name": "Python 3",
   "language": "python",
   "name": "python3"
  },
  "language_info": {
   "codemirror_mode": {
    "name": "ipython",
    "version": 2
   },
   "file_extension": ".py",
   "mimetype": "text/x-python",
   "name": "python",
   "nbconvert_exporter": "python",
   "pygments_lexer": "ipython2",
   "version": "2.7.6"
  }
 },
 "nbformat": 4,
 "nbformat_minor": 0
}