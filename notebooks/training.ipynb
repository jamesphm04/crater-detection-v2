{
 "cells": [
  {
   "cell_type": "code",
   "execution_count": 1,
   "metadata": {
    "collapsed": true
   },
   "outputs": [],
   "source": [
    "import math\n",
    "import time\n",
    "\n",
    "import h5py\n",
    "import matplotlib.pyplot as plt\n",
    "import mlflow\n",
    "import numpy as np\n",
    "from numpy.random import choice\n",
    "import torch\n",
    "import torch.nn as nn\n",
    "from torch.cuda.amp import autocast\n",
    "from torch.optim import SGD, Optimizer, Adam, RMSprop\n",
    "from torch.optim.lr_scheduler import ReduceLROnPlateau, StepLR\n",
    "from torch.utils.data import DataLoader, Dataset\n",
    "from torchvision import transforms\n",
    "\n",
    "from tqdm.auto import tqdm as tq\n",
    "from craterdetection.detection.loss_functions.dice import f_score, BCEDiceLoss, SoftDiceLoss\n",
    "\n",
    "from craterdetection.detection.deepmoon import DeepMoon\n",
    "from craterdetection.detection.loss_functions.tversky import TverskyLoss\n",
    "from craterdetection.detection.unetmini import UNetMini\n",
    "from craterdetection.detection.training import CraterDataset, RAdam, dice_coefficient\n",
    "\n",
    "from craterdetection.detection.loss_functions.lovasz import LovaszHingeLoss\n",
    "\n",
    "from torchsummary import summary\n",
    "\n",
    "device = torch.device('cuda' if torch.cuda.is_available() else 'cpu')"
   ]
  },
  {
   "cell_type": "code",
   "execution_count": 2,
   "outputs": [],
   "source": [
    "mlflow.set_tracking_uri(\"http://localhost:5000/\")\n",
    "mlflow.set_experiment(\"crater-detection\")"
   ],
   "metadata": {
    "collapsed": false,
    "pycharm": {
     "name": "#%%\n"
    }
   }
  },
  {
   "cell_type": "code",
   "execution_count": 3,
   "outputs": [],
   "source": [
    "dataset_path = \"../data/dataset_nadir.h5\"\n",
    "train_dataset = CraterDataset(dataset_path, \"training\", device)\n",
    "train_loader = DataLoader(train_dataset, batch_size=32, shuffle=True, num_workers=0)\n",
    "\n",
    "validation_dataset = CraterDataset(dataset_path, \"validation\", device)\n",
    "validation_loader = DataLoader(validation_dataset, batch_size=32, num_workers=0)\n",
    "\n",
    "test_dataset = CraterDataset(dataset_path, \"test\", device)\n",
    "test_loader = DataLoader(test_dataset, batch_size=6, shuffle=True, num_workers=0)"
   ],
   "metadata": {
    "collapsed": false,
    "pycharm": {
     "name": "#%%\n"
    }
   }
  },
  {
   "cell_type": "code",
   "execution_count": 4,
   "outputs": [
    {
     "data": {
      "text/plain": "BCEWithLogitsLoss()"
     },
     "execution_count": 4,
     "metadata": {},
     "output_type": "execute_result"
    }
   ],
   "source": [
    "model = DeepMoon(sigmoid=False)\n",
    "model.load_state_dict(torch.load(\"../blobs/DeepMoon.pth\"))\n",
    "\n",
    "optimizer = RMSprop(model.parameters(), lr=1e-4, weight_decay=1e-7, momentum=0.4)\n",
    "# optimizer = SGD(model.parameters(), lr=1e-3, momentum=0.9, weight_decay=1e-9)\n",
    "# optimizer = Adam(model.parameters(), lr=1e-4, weight_decay=1e-3)\n",
    "# optimizer = RAdam(model.parameters(), lr=1e-5)\n",
    "# loss_function = SoftDiceLoss()\n",
    "loss_function = nn.BCEWithLogitsLoss()\n",
    "# loss_function = BCEDiceLoss(lambda_bce=1.0, lambda_dice=1.0)\n",
    "# loss_function = TverskyLoss(alpha=0.1, beta=0.9)\n",
    "# loss_function = LovaszHingeLoss()\n",
    "\n",
    "# scheduler = torch.optim.lr_scheduler.ReduceLROnPlateau(optimizer, factor=0.1, patience=2, verbose=True, cooldown=2)\n",
    "scheduler = ReduceLROnPlateau(optimizer, 'min', patience=1, verbose=True, factor=0.5)\n",
    "# scheduler = StepLR(optimizer, step_size=1, gamma=0.1)\n",
    "\n",
    "model.to(device)\n",
    "loss_function.to(device)"
   ],
   "metadata": {
    "collapsed": false,
    "pycharm": {
     "name": "#%%\n"
    }
   }
  },
  {
   "cell_type": "code",
   "execution_count": null,
   "outputs": [
    {
     "name": "stdout",
     "output_type": "stream",
     "text": [
      "\n",
      "-----Epoch 1 started-----\n",
      "\n"
     ]
    },
    {
     "data": {
      "text/plain": "Training [1]:   0%|          | 0/313 [00:00<?, ?it/s, train_loss=0]",
      "application/vnd.jupyter.widget-view+json": {
       "version_major": 2,
       "version_minor": 0,
       "model_id": "7bb4e8b8694f4eb19fbd0609c43aa00a"
      }
     },
     "metadata": {},
     "output_type": "display_data"
    },
    {
     "data": {
      "text/plain": "Validation [1]:   0%|          | 0/16 [00:00<?, ?it/s, dice_score=0, valid_loss=0]",
      "application/vnd.jupyter.widget-view+json": {
       "version_major": 2,
       "version_minor": 0,
       "model_id": "418f3358ff4f4a3f9a7e08c9c56afd8b"
      }
     },
     "metadata": {},
     "output_type": "display_data"
    },
    {
     "name": "stdout",
     "output_type": "stream",
     "text": [
      "\n",
      "Summary:\n",
      " \tEpoch: 1/10\n",
      " \tAverage train loss: 0.6809490453720093\n",
      " \tAverage validation loss: 0.34365207981318235\n",
      " \tAverage Dice score: 0.05167253687977791\n",
      " \tDuration: 4m 21s\n",
      "-----Epoch 1 finished.-----\n",
      "\n",
      "\n",
      "-----Epoch 2 started-----\n",
      "\n"
     ]
    },
    {
     "data": {
      "text/plain": "Training [2]:   0%|          | 0/313 [00:00<?, ?it/s, train_loss=0]",
      "application/vnd.jupyter.widget-view+json": {
       "version_major": 2,
       "version_minor": 0,
       "model_id": "539d0aa697e14f69988625acd2f4bacb"
      }
     },
     "metadata": {},
     "output_type": "display_data"
    },
    {
     "data": {
      "text/plain": "Validation [2]:   0%|          | 0/16 [00:00<?, ?it/s, dice_score=0, valid_loss=0]",
      "application/vnd.jupyter.widget-view+json": {
       "version_major": 2,
       "version_minor": 0,
       "model_id": "4c783cc5875e44bb87f4e64d91744b31"
      }
     },
     "metadata": {},
     "output_type": "display_data"
    },
    {
     "name": "stdout",
     "output_type": "stream",
     "text": [
      "\n",
      "Summary:\n",
      " \tEpoch: 2/10\n",
      " \tAverage train loss: 0.6172478971958161\n",
      " \tAverage validation loss: 0.8580085597932339\n",
      " \tAverage Dice score: 0.03117095958441496\n",
      " \tDuration: 4m 24s\n",
      "-----Epoch 2 finished.-----\n",
      "\n",
      "\n",
      "-----Epoch 3 started-----\n",
      "\n"
     ]
    },
    {
     "data": {
      "text/plain": "Training [3]:   0%|          | 0/313 [00:00<?, ?it/s, train_loss=0]",
      "application/vnd.jupyter.widget-view+json": {
       "version_major": 2,
       "version_minor": 0,
       "model_id": "2fbac9bc52c24be3ac90fcd3993981b3"
      }
     },
     "metadata": {},
     "output_type": "display_data"
    },
    {
     "data": {
      "text/plain": "Validation [3]:   0%|          | 0/16 [00:00<?, ?it/s, dice_score=0, valid_loss=0]",
      "application/vnd.jupyter.widget-view+json": {
       "version_major": 2,
       "version_minor": 0,
       "model_id": "717d04bc20a147f294f899ccf50792f6"
      }
     },
     "metadata": {},
     "output_type": "display_data"
    },
    {
     "name": "stdout",
     "output_type": "stream",
     "text": [
      "\n",
      "Summary:\n",
      " \tEpoch: 3/10\n",
      " \tAverage train loss: 0.6041901497840881\n",
      " \tAverage validation loss: 0.14846702478826046\n",
      " \tAverage Dice score: 0.05119808833114803\n",
      " \tDuration: 4m 21s\n",
      "-----Epoch 3 finished.-----\n",
      "\n",
      "\n",
      "-----Epoch 4 started-----\n",
      "\n"
     ]
    },
    {
     "data": {
      "text/plain": "Training [4]:   0%|          | 0/313 [00:00<?, ?it/s, train_loss=0]",
      "application/vnd.jupyter.widget-view+json": {
       "version_major": 2,
       "version_minor": 0,
       "model_id": "5ab9ce0915e44b18a6675b7c1b4fe322"
      }
     },
     "metadata": {},
     "output_type": "display_data"
    },
    {
     "data": {
      "text/plain": "Validation [4]:   0%|          | 0/16 [00:00<?, ?it/s, dice_score=0, valid_loss=0]",
      "application/vnd.jupyter.widget-view+json": {
       "version_major": 2,
       "version_minor": 0,
       "model_id": "80b0b3a2c05e4df89c0753a5146d161d"
      }
     },
     "metadata": {},
     "output_type": "display_data"
    },
    {
     "name": "stdout",
     "output_type": "stream",
     "text": [
      "\n",
      "Summary:\n",
      " \tEpoch: 4/10\n",
      " \tAverage train loss: 1.37441713848114\n",
      " \tAverage validation loss: 0.23231422249227762\n",
      " \tAverage Dice score: 0.053803010610863566\n",
      " \tDuration: 4m 23s\n",
      "-----Epoch 4 finished.-----\n",
      "\n",
      "\n",
      "-----Epoch 5 started-----\n",
      "\n"
     ]
    },
    {
     "data": {
      "text/plain": "Training [5]:   0%|          | 0/313 [00:00<?, ?it/s, train_loss=0]",
      "application/vnd.jupyter.widget-view+json": {
       "version_major": 2,
       "version_minor": 0,
       "model_id": "13c8dd0125f943a6a81590b1c72587bb"
      }
     },
     "metadata": {},
     "output_type": "display_data"
    },
    {
     "data": {
      "text/plain": "Validation [5]:   0%|          | 0/16 [00:00<?, ?it/s, dice_score=0, valid_loss=0]",
      "application/vnd.jupyter.widget-view+json": {
       "version_major": 2,
       "version_minor": 0,
       "model_id": "8a24b1cca50d4d8bb036e704418600b3"
      }
     },
     "metadata": {},
     "output_type": "display_data"
    },
    {
     "name": "stdout",
     "output_type": "stream",
     "text": [
      "Epoch     5: reducing learning rate of group 0 to 5.0000e-05.\n",
      "\n",
      "Summary:\n",
      " \tEpoch: 5/10\n",
      " \tAverage train loss: 1.3201143079757691\n",
      " \tAverage validation loss: 2.528978541493416\n",
      " \tAverage Dice score: 0.052185540553182364\n",
      " \tDuration: 4m 28s\n",
      "-----Epoch 5 finished.-----\n",
      "\n",
      "\n",
      "-----Epoch 6 started-----\n",
      "\n"
     ]
    },
    {
     "data": {
      "text/plain": "Training [6]:   0%|          | 0/313 [00:00<?, ?it/s, train_loss=0]",
      "application/vnd.jupyter.widget-view+json": {
       "version_major": 2,
       "version_minor": 0,
       "model_id": "0cc1068466274d678bbf2002d9936eab"
      }
     },
     "metadata": {},
     "output_type": "display_data"
    },
    {
     "data": {
      "text/plain": "Validation [6]:   0%|          | 0/16 [00:00<?, ?it/s, dice_score=0, valid_loss=0]",
      "application/vnd.jupyter.widget-view+json": {
       "version_major": 2,
       "version_minor": 0,
       "model_id": "423f569039ad437da1f0e3442d68875e"
      }
     },
     "metadata": {},
     "output_type": "display_data"
    },
    {
     "name": "stdout",
     "output_type": "stream",
     "text": [
      "\n",
      "Summary:\n",
      " \tEpoch: 6/10\n",
      " \tAverage train loss: 0.9442288325309753\n",
      " \tAverage validation loss: 2.3286938443779945\n",
      " \tAverage Dice score: 0.052645354298874736\n",
      " \tDuration: 4m 21s\n",
      "-----Epoch 6 finished.-----\n",
      "\n",
      "\n",
      "-----Epoch 7 started-----\n",
      "\n"
     ]
    },
    {
     "data": {
      "text/plain": "Training [7]:   0%|          | 0/313 [00:00<?, ?it/s, train_loss=0]",
      "application/vnd.jupyter.widget-view+json": {
       "version_major": 2,
       "version_minor": 0,
       "model_id": "1a3063f9b60a411690258219c75800b7"
      }
     },
     "metadata": {},
     "output_type": "display_data"
    },
    {
     "data": {
      "text/plain": "Validation [7]:   0%|          | 0/16 [00:00<?, ?it/s, dice_score=0, valid_loss=0]",
      "application/vnd.jupyter.widget-view+json": {
       "version_major": 2,
       "version_minor": 0,
       "model_id": "27f2840472b8478d96c685bac1a55e41"
      }
     },
     "metadata": {},
     "output_type": "display_data"
    },
    {
     "name": "stdout",
     "output_type": "stream",
     "text": [
      "Epoch     7: reducing learning rate of group 0 to 2.5000e-05.\n",
      "\n",
      "Summary:\n",
      " \tEpoch: 7/10\n",
      " \tAverage train loss: 1.4212873108386994\n",
      " \tAverage validation loss: 1.3457100056111813\n",
      " \tAverage Dice score: 0.0517115849070251\n",
      " \tDuration: 4m 25s\n",
      "-----Epoch 7 finished.-----\n",
      "\n",
      "\n",
      "-----Epoch 8 started-----\n",
      "\n"
     ]
    },
    {
     "data": {
      "text/plain": "Training [8]:   0%|          | 0/313 [00:00<?, ?it/s, train_loss=0]",
      "application/vnd.jupyter.widget-view+json": {
       "version_major": 2,
       "version_minor": 0,
       "model_id": "09954c88ad91404087129c3db1a304cc"
      }
     },
     "metadata": {},
     "output_type": "display_data"
    },
    {
     "data": {
      "text/plain": "Validation [8]:   0%|          | 0/16 [00:00<?, ?it/s, dice_score=0, valid_loss=0]",
      "application/vnd.jupyter.widget-view+json": {
       "version_major": 2,
       "version_minor": 0,
       "model_id": "92b335df6cee47c59fe3081538ecc8f7"
      }
     },
     "metadata": {},
     "output_type": "display_data"
    },
    {
     "name": "stdout",
     "output_type": "stream",
     "text": [
      "\n",
      "Summary:\n",
      " \tEpoch: 8/10\n",
      " \tAverage train loss: 1.6363797616958617\n",
      " \tAverage validation loss: 2.184800758957863\n",
      " \tAverage Dice score: 0.048136952333152294\n",
      " \tDuration: 4m 22s\n",
      "-----Epoch 8 finished.-----\n",
      "\n",
      "\n",
      "-----Epoch 9 started-----\n",
      "\n"
     ]
    },
    {
     "data": {
      "text/plain": "Training [9]:   0%|          | 0/313 [00:00<?, ?it/s, train_loss=0]",
      "application/vnd.jupyter.widget-view+json": {
       "version_major": 2,
       "version_minor": 0,
       "model_id": "80ca8c71ffe441ffa3fd2345649d59fe"
      }
     },
     "metadata": {},
     "output_type": "display_data"
    },
    {
     "data": {
      "text/plain": "Validation [9]:   0%|          | 0/16 [00:00<?, ?it/s, dice_score=0, valid_loss=0]",
      "application/vnd.jupyter.widget-view+json": {
       "version_major": 2,
       "version_minor": 0,
       "model_id": "a8eca3b2f7d149018a5501ee46de2510"
      }
     },
     "metadata": {},
     "output_type": "display_data"
    },
    {
     "name": "stdout",
     "output_type": "stream",
     "text": [
      "Epoch     9: reducing learning rate of group 0 to 1.2500e-05.\n",
      "\n",
      "Summary:\n",
      " \tEpoch: 9/10\n",
      " \tAverage train loss: 1.5212844702720643\n",
      " \tAverage validation loss: 0.5635952651500702\n",
      " \tAverage Dice score: 0.04749030224047601\n",
      " \tDuration: 4m 25s\n",
      "-----Epoch 9 finished.-----\n",
      "\n",
      "\n",
      "-----Epoch 10 started-----\n",
      "\n"
     ]
    },
    {
     "data": {
      "text/plain": "Training [10]:   0%|          | 0/313 [00:00<?, ?it/s, train_loss=0]",
      "application/vnd.jupyter.widget-view+json": {
       "version_major": 2,
       "version_minor": 0,
       "model_id": "a8de62c6a16146a3884e4bb5bbd0ecc6"
      }
     },
     "metadata": {},
     "output_type": "display_data"
    }
   ],
   "source": [
    "tracked_params = ('lr', 'momentum', 'weight_decay')\n",
    "\n",
    "num_epochs = 10\n",
    "\n",
    "name = \"Filled\" if \"filled\" in dataset_path else \"Edge\"\n",
    "\n",
    "with mlflow.start_run(run_name=name):\n",
    "\n",
    "    mlflow.log_param('optimizer', type(optimizer).__name__)\n",
    "    mlflow.log_param('loss_function', type(loss_function).__name__)\n",
    "    try:\n",
    "        mlflow.log_param('lambda_dice', loss_function.lambda_dice)\n",
    "        mlflow.log_param('lambda_bce', loss_function.bce)\n",
    "    except AttributeError as err:\n",
    "        pass\n",
    "\n",
    "    try:\n",
    "        mlflow.log_param('tversky_alpha', loss_function.alpha)\n",
    "        mlflow.log_param('tversky_beta', loss_function.beta)\n",
    "    except AttributeError as err:\n",
    "        pass\n",
    "\n",
    "    for tp in tracked_params:\n",
    "        try:\n",
    "            mlflow.log_param(tp, optimizer.state_dict()['param_groups'][0][tp])\n",
    "        except KeyError as err:\n",
    "            pass\n",
    "\n",
    "    train_loss_list = []\n",
    "    valid_loss_list = []\n",
    "    dice_score_list = []\n",
    "\n",
    "    for e in range(1, num_epochs+1):\n",
    "        print(f'\\n-----Epoch {e} started-----\\n')\n",
    "\n",
    "        since = time.time()\n",
    "\n",
    "        train_loss, valid_loss, dice_score = 0, 0, 0\n",
    "\n",
    "        model.train()\n",
    "\n",
    "        bar = tq(train_loader, desc=f\"Training [{e}]\", postfix={\"train_loss\": 0.0})\n",
    "        for batch, (images, masks) in enumerate(bar, 1):\n",
    "            # images, masks = images.to(device), masks.to(device)\n",
    "\n",
    "            with autocast():\n",
    "                pred = model(images)\n",
    "                loss = loss_function(pred, masks)\n",
    "\n",
    "            optimizer.zero_grad()\n",
    "\n",
    "            loss.backward()\n",
    "            train_loss += loss.item() * images.size(0)\n",
    "\n",
    "            optimizer.step()\n",
    "            bar.set_postfix(ordered_dict={\"train_loss\": loss.item()})\n",
    "\n",
    "        train_loss = train_loss/len(train_loader.dataset)\n",
    "        train_loss_list.append(train_loss)\n",
    "        mlflow.log_metric(\"train_loss\", train_loss, step=e)\n",
    "\n",
    "        model.eval()\n",
    "        del images, masks\n",
    "        with torch.no_grad():\n",
    "            bar = tq(validation_loader, desc=f\"Validation [{e}]\", postfix={\"valid_loss\": 0.0, \"dice_score\": 0.0})\n",
    "            for images, masks in bar:\n",
    "                # images, masks = images.to(device), masks.to(device)\n",
    "\n",
    "                with autocast():\n",
    "                    pred = model(images)\n",
    "                    loss = loss_function(pred, masks)\n",
    "\n",
    "                if not isinstance(loss_function, SoftDiceLoss):\n",
    "                    dice_coeff = dice_coefficient(pred, masks).item()\n",
    "                else:\n",
    "                    dice_coeff = 1-loss.item()\n",
    "\n",
    "                valid_loss += loss.item()\n",
    "                dice_score += dice_coeff\n",
    "                bar.set_postfix(ordered_dict={\"valid_loss\":loss.item(), \"dice_score\":dice_coeff})\n",
    "        # calculate average losses\n",
    "        valid_loss = valid_loss/len(validation_loader)\n",
    "        valid_loss_list.append(valid_loss)\n",
    "\n",
    "        dice_score = dice_score/len(validation_loader)\n",
    "        dice_score_list.append(dice_score)\n",
    "\n",
    "        mlflow.log_metric(\"valid_loss\", valid_loss, step=e)\n",
    "        mlflow.log_metric(\"dice_score\", dice_score, step=e)\n",
    "\n",
    "        time_elapsed = time.time() - since\n",
    "        scheduler.step(valid_loss)\n",
    "\n",
    "        print(\n",
    "            f\"\\nSummary:\\n\",\n",
    "            f\"\\tEpoch: {e}/{num_epochs}\\n\",\n",
    "            f\"\\tAverage train loss: {train_loss}\\n\",\n",
    "            f\"\\tAverage validation loss: {valid_loss}\\n\",\n",
    "            f\"\\tAverage Dice score: {dice_score}\\n\",\n",
    "            f\"\\tDuration: {time_elapsed//60:.0f}m {time_elapsed%60:.0f}s\"\n",
    "        )\n",
    "        print(f'-----Epoch {e} finished.-----\\n')\n"
   ],
   "metadata": {
    "collapsed": false,
    "pycharm": {
     "name": "#%%\n",
     "is_executing": true
    }
   }
  },
  {
   "cell_type": "code",
   "execution_count": null,
   "outputs": [],
   "source": [
    "images, masks = next(iter(test_loader))\n",
    "images, masks = images.to(device), masks.to(device)\n",
    "model.eval()\n",
    "with torch.no_grad():\n",
    "    out = model(images)\n",
    "    print(f\"Mean: {out.mean().item():.1f}, StD: {out.std().item():.1f}, Min: {out.min().item():.1f}, Max: {out.max().item():.1f}\")\n",
    "    # out = nn.Threshold(0.062474, 0)(out)*255\n",
    "    # out = out.clamp(0., 1)\n",
    "\n",
    "fig, axes = plt.subplots(6, 3, figsize=(15, 30))\n",
    "\n",
    "for i in range(6):\n",
    "    axes[i, 0].imshow(images[i, 0].cpu().numpy(), cmap='Greys_r')\n",
    "    axes[i, 1].imshow(masks[i, 0].cpu().numpy(), cmap='Greys_r')\n",
    "    axes[i, 2].imshow(out[i, 0].cpu().numpy(), cmap='Greys_r')\n",
    "fig.tight_layout()"
   ],
   "metadata": {
    "collapsed": false,
    "pycharm": {
     "name": "#%%\n",
     "is_executing": true
    }
   }
  },
  {
   "cell_type": "code",
   "execution_count": null,
   "outputs": [],
   "source": [
    "model.eval()\n",
    "test_loss, dice_score, f1, f1_ = 0, 0, 0, 0\n",
    "with torch.no_grad():\n",
    "    bar = tq(test_loader, postfix={\"test_loss\": 0.0, \"dice_score\": 0.0, \"f_score\": 0.0})\n",
    "    for images, masks in bar:\n",
    "        images, masks = images.to(device), masks.to(device)\n",
    "\n",
    "        with autocast():\n",
    "            pred = model(images)\n",
    "            loss = loss_function(pred, masks)\n",
    "\n",
    "        test_loss += loss.item()*images.size(0)\n",
    "        dice_cof = dice_coefficient(pred.sigmoid(), masks).item()\n",
    "        dice_score += dice_cof * pred.size(0)\n",
    "        f1 = f_score(pred.sigmoid(), images).item() * images.size(0)\n",
    "        f1_ += f1\n",
    "        bar.set_postfix(ordered_dict={\"test_loss\":loss.item(), \"dice_score\":dice_cof, \"f_score\": f1})\n",
    "\n",
    "    test_loss /= len(test_loader.dataset)\n",
    "    dice_score /= len(test_loader.dataset)\n",
    "    f1_ /= len(test_loader.dataset)\n",
    "print(f\"test_loss: {test_loss} \\ndice_score: {dice_score} \\nf_score: {f1}\")"
   ],
   "metadata": {
    "collapsed": false,
    "pycharm": {
     "name": "#%%\n",
     "is_executing": true
    }
   }
  },
  {
   "cell_type": "code",
   "execution_count": null,
   "outputs": [],
   "source": [],
   "metadata": {
    "collapsed": false,
    "pycharm": {
     "name": "#%%\n",
     "is_executing": true
    }
   }
  },
  {
   "cell_type": "code",
   "execution_count": null,
   "outputs": [],
   "source": [],
   "metadata": {
    "collapsed": false,
    "pycharm": {
     "name": "#%%\n",
     "is_executing": true
    }
   }
  }
 ],
 "metadata": {
  "kernelspec": {
   "name": "pycharm-ca2c6f67",
   "language": "python",
   "display_name": "PyCharm (crater-detection)"
  },
  "language_info": {
   "codemirror_mode": {
    "name": "ipython",
    "version": 2
   },
   "file_extension": ".py",
   "mimetype": "text/x-python",
   "name": "python",
   "nbconvert_exporter": "python",
   "pygments_lexer": "ipython2",
   "version": "2.7.6"
  }
 },
 "nbformat": 4,
 "nbformat_minor": 0
}