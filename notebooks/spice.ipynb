{
 "cells": [
  {
   "cell_type": "code",
   "execution_count": 1,
   "metadata": {
    "collapsed": true
   },
   "outputs": [],
   "source": [
    "import os\n",
    "import urllib\n",
    "from pathlib import Path\n",
    "import spiceypy as spice\n",
    "\n",
    "import matplotlib.pyplot as plt\n",
    "from IPython.display import display, clear_output\n",
    "import pandas as pd\n",
    "import numpy as np\n",
    "import numpy.linalg as LA\n",
    "from astropy.coordinates import spherical_to_cartesian\n",
    "from scipy.spatial.transform import Rotation as R\n",
    "import datetime as dt\n",
    "from surrender.geometry import look_at, vec3, quat\n",
    "from craterdetection.common.camera import Camera\n",
    "from craterdetection.common.surrender import setup_renderer\n",
    "from craterdetection.common.coordinates import suborbital_coords\n",
    "import craterdetection.common.constants as const\n",
    "\n",
    "\n",
    "_BASE_URL = 'https://naif.jpl.nasa.gov/pub/naif/'\n",
    "_KERNEL_ROOT = Path('../data/spice_kernels')\n",
    "\n",
    "\n",
    "def download_kernel(file_path, base_url=_BASE_URL, base_folder=_KERNEL_ROOT):\n",
    "    if isinstance(file_path, str):\n",
    "        file_path = Path(file_path)\n",
    "\n",
    "    local_path = base_folder / file_path\n",
    "    url = base_url + file_path.as_posix()\n",
    "\n",
    "    # Create necessary sub-directories in the DL_PATH direction\n",
    "    local_path.parent.mkdir(parents=True, exist_ok=True)\n",
    "\n",
    "    try:\n",
    "        # If the file is not present in the download directory -> download it\n",
    "        if not os.path.isfile(local_path):\n",
    "            print(f\"Downloading {url}\", end=\"  \")\n",
    "            # Download the file with the urllib  package\n",
    "            urllib.request.urlretrieve(str(url), str(local_path))\n",
    "            print(\"Done.\")\n",
    "        else:\n",
    "            print(f\"{base_folder / file_path} already exists!\")\n",
    "    except urllib.error.HTTPError as e:\n",
    "        print(f\"Error: \\n{url} could not be found: \", e)"
   ]
  },
  {
   "cell_type": "code",
   "execution_count": 2,
   "outputs": [
    {
     "name": "stdout",
     "output_type": "stream",
     "text": [
      "..\\data\\spice_kernels\\generic_kernels\\lsk\\naif0012.tls already exists!\n",
      "..\\data\\spice_kernels\\generic_kernels\\pck\\pck00010.tpc already exists!\n",
      "..\\data\\spice_kernels\\pds\\data\\lro-l-spice-6-v1.0\\lrosp_1000\\data\\spk\\de421.bsp already exists!\n",
      "..\\data\\spice_kernels\\pds\\data\\lro-l-spice-6-v1.0\\lrosp_1000\\data\\pck\\moon_pa_de421_1900_2050.bpc already exists!\n",
      "..\\data\\spice_kernels\\pds\\data\\lro-l-spice-6-v1.0\\lrosp_1000\\data\\fk\\moon_assoc_pa.tf already exists!\n",
      "..\\data\\spice_kernels\\pds\\data\\lro-l-spice-6-v1.0\\lrosp_1000\\data\\fk\\moon_080317.tf already exists!\n"
     ]
    }
   ],
   "source": [
    "kernels_ = [\n",
    "               'generic_kernels/lsk/naif0012.tls',\n",
    "               'generic_kernels/pck/pck00010.tpc',\n",
    "               'pds/data/lro-l-spice-6-v1.0/lrosp_1000/data/spk/de421.bsp',\n",
    "               'pds/data/lro-l-spice-6-v1.0/lrosp_1000/data/pck/moon_pa_de421_1900_2050.bpc',\n",
    "               'pds/data/lro-l-spice-6-v1.0/lrosp_1000/data/fk/moon_assoc_pa.tf',\n",
    "               'pds/data/lro-l-spice-6-v1.0/lrosp_1000/data/fk/moon_080317.tf'\n",
    "           ]\n",
    "kernels = list(map(Path, kernels_))\n",
    "\n",
    "for k in kernels:\n",
    "    download_kernel(k)\n",
    "\n",
    "spice.furnsh(list(map(lambda x: str(_KERNEL_ROOT / x), kernels)))"
   ],
   "metadata": {
    "collapsed": false,
    "pycharm": {
     "name": "#%%\n"
    }
   }
  },
  {
   "cell_type": "code",
   "execution_count": 3,
   "outputs": [
    {
     "name": "stdout",
     "output_type": "stream",
     "text": [
      "Surrender Python Client\n",
      "code revision : c17439eea9ae041bf49364d67a2a232fc89c1faa\n"
     ]
    }
   ],
   "source": [
    "# Constants:\n",
    "sun_radius = 696342000\n",
    "earth_radius = 6371e3\n",
    "ua2km = 149597870.700\n",
    "ua = ua2km * 1e3\n",
    "R_moon = 1737.4\n",
    "\n",
    "s = setup_renderer()"
   ],
   "metadata": {
    "collapsed": false,
    "pycharm": {
     "name": "#%%\n"
    }
   }
  },
  {
   "cell_type": "code",
   "execution_count": 4,
   "outputs": [],
   "source": [
    "s.createBRDF('sun', 'sun.brdf', {})\n",
    "s.createShape('sun', 'sphere.shp', {'radius': sun_radius})\n",
    "s.createBody('sun', 'sun', 'sun', [])\n",
    "\n",
    "s.createBRDF(\"mate\", \"mate.brdf\", {})\n",
    "s.createShape(\"earth_shape\", \"sphere.shp\", {'radius': earth_radius})\n",
    "s.createBody(\"earth\", \"earth_shape\", \"mate\", [\"earth.jpg\"])\n",
    "\n",
    "s.createBRDF('hapke', 'hapke.brdf', {})\n",
    "s.createSphericalDEM('moon', 'FullMoon.dem', 'hapke', 'lroc_color_poles.tiff')\n",
    "s.setObjectElementBRDF('moon', 'moon', 'hapke')\n",
    "s.setObjectAttitude('moon', np.array([0, 0, 0, 1]))"
   ],
   "metadata": {
    "collapsed": false,
    "pycharm": {
     "name": "#%%\n"
    }
   }
  },
  {
   "cell_type": "code",
   "execution_count": 10,
   "outputs": [
    {
     "name": "stdout",
     "output_type": "stream",
     "text": [
      "110.29330566625599\n"
     ]
    },
    {
     "data": {
      "text/plain": "<Figure size 720x720 with 1 Axes>",
      "image/png": "[encoded data removed]"
     },
     "metadata": {},
     "output_type": "display_data"
    }
   ],
   "source": [
    "fig, ax = plt.subplots(figsize=(10, 10))\n",
    "\n",
    "s.setObjectPosition('moon', (0, 0, 0))\n",
    "s.setObjectAttitude('moon', quat(vec3(1,0,0), 0))\n",
    "s.setObjectAttitude('moon', R.from_euler('z', np.pi, degrees=False).as_quat())\n",
    "cam = Camera.from_coordinates(14.47, -11.32, 300, convert_to_radians=True, resolution=(2048, 2048))\n",
    "s.setObjectPosition('camera', cam.r.ravel()*1e3)\n",
    "s.setObjectAttitude('camera', R.from_matrix(cam.T).as_quat())\n",
    "\n",
    "for date in pd.date_range(dt.date(2021, 3, 1), periods=25, freq='8h'):\n",
    "    et = spice.str2et( str(date) )\n",
    "    _, _, _, sol_incidence, _ = spice.ilumin('ellipsoid', 'moon', et, 'iau_moon', 'lt+s', 'sun', suborbital_coords(cam.r).ravel())\n",
    "    sun_pos, _ = spice.spkpos(\n",
    "        'sun', et, 'iau_moon', 'lt+s', 'moon'\n",
    "    )\n",
    "    earth_pos, _ = spice.spkpos(\n",
    "        'earth', et, 'iau_moon', 'lt+s', 'moon' )\n",
    "\n",
    "    s.setObjectPosition('earth', earth_pos*1e3)\n",
    "    s.setObjectPosition('sun', sun_pos*1e3)\n",
    "\n",
    "    s.render()\n",
    "    im = s.getImageGray32F()\n",
    "\n",
    "    clear_output(wait=True)\n",
    "    print(np.degrees(sol_incidence))\n",
    "    ax.imshow(im, aspect='equal', interpolation='none', cmap='Greys_r', origin='upper')\n",
    "    ax.set_axis_off()\n",
    "    display(fig)\n",
    "\n",
    "    plt.pause(0.1)"
   ],
   "metadata": {
    "collapsed": false,
    "pycharm": {
     "name": "#%%\n"
    }
   }
  },
  {
   "cell_type": "code",
   "execution_count": null,
   "outputs": [],
   "source": [],
   "metadata": {
    "collapsed": false,
    "pycharm": {
     "name": "#%%\n"
    }
   }
  }
 ],
 "metadata": {
  "kernelspec": {
   "name": "pycharm-ca2c6f67",
   "language": "python",
   "display_name": "PyCharm (crater-detection)"
  },
  "language_info": {
   "codemirror_mode": {
    "name": "ipython",
    "version": 2
   },
   "file_extension": ".py",
   "mimetype": "text/x-python",
   "name": "python",
   "nbconvert_exporter": "python",
   "pygments_lexer": "ipython2",
   "version": "2.7.6"
  }
 },
 "nbformat": 4,
 "nbformat_minor": 0
}