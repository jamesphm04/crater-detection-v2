{
 "cells": [
  {
   "cell_type": "code",
   "execution_count": 1,
   "outputs": [
    {
     "ename": "KeyboardInterrupt",
     "evalue": "",
     "output_type": "error",
     "traceback": [
      "\u001B[1;31m---------------------------------------------------------------------------\u001B[0m",
      "\u001B[1;31mInconsistentTableError\u001B[0m                    Traceback (most recent call last)",
      "\u001B[1;32m~\\AppData\\Roaming\\Python\\Python37\\site-packages\\astropy\\io\\ascii\\ui.py\u001B[0m in \u001B[0;36m_guess\u001B[1;34m(table, read_kwargs, format, fast_reader)\u001B[0m\n\u001B[0;32m    516\u001B[0m             \u001B[0mreader\u001B[0m \u001B[1;33m=\u001B[0m \u001B[0mget_reader\u001B[0m\u001B[1;33m(\u001B[0m\u001B[1;33m**\u001B[0m\u001B[0mread_kwargs\u001B[0m\u001B[1;33m)\u001B[0m\u001B[1;33m\u001B[0m\u001B[1;33m\u001B[0m\u001B[0m\n\u001B[1;32m--> 517\u001B[1;33m             \u001B[0mdat\u001B[0m \u001B[1;33m=\u001B[0m \u001B[0mreader\u001B[0m\u001B[1;33m.\u001B[0m\u001B[0mread\u001B[0m\u001B[1;33m(\u001B[0m\u001B[0mtable\u001B[0m\u001B[1;33m)\u001B[0m\u001B[1;33m\u001B[0m\u001B[1;33m\u001B[0m\u001B[0m\n\u001B[0m\u001B[0;32m    518\u001B[0m             _read_trace.append({'kwargs': copy.deepcopy(read_kwargs),\n",
      "\u001B[1;32m~\\AppData\\Roaming\\Python\\Python37\\site-packages\\astropy\\io\\ascii\\core.py\u001B[0m in \u001B[0;36mread\u001B[1;34m(self, table)\u001B[0m\n\u001B[0;32m   1276\u001B[0m         \u001B[1;31m# Make sure columns are valid\u001B[0m\u001B[1;33m\u001B[0m\u001B[1;33m\u001B[0m\u001B[1;33m\u001B[0m\u001B[0m\n\u001B[1;32m-> 1277\u001B[1;33m         \u001B[0mself\u001B[0m\u001B[1;33m.\u001B[0m\u001B[0mheader\u001B[0m\u001B[1;33m.\u001B[0m\u001B[0mcheck_column_names\u001B[0m\u001B[1;33m(\u001B[0m\u001B[0mself\u001B[0m\u001B[1;33m.\u001B[0m\u001B[0mnames\u001B[0m\u001B[1;33m,\u001B[0m \u001B[0mself\u001B[0m\u001B[1;33m.\u001B[0m\u001B[0mstrict_names\u001B[0m\u001B[1;33m,\u001B[0m \u001B[0mself\u001B[0m\u001B[1;33m.\u001B[0m\u001B[0mguessing\u001B[0m\u001B[1;33m)\u001B[0m\u001B[1;33m\u001B[0m\u001B[1;33m\u001B[0m\u001B[0m\n\u001B[0m\u001B[0;32m   1278\u001B[0m \u001B[1;33m\u001B[0m\u001B[0m\n",
      "\u001B[1;32m~\\AppData\\Roaming\\Python\\Python37\\site-packages\\astropy\\io\\ascii\\core.py\u001B[0m in \u001B[0;36mcheck_column_names\u001B[1;34m(self, names, strict_names, guessing)\u001B[0m\n\u001B[0;32m    720\u001B[0m                 \u001B[1;34m'Length of names argument ({}) does not match number'\u001B[0m\u001B[1;33m\u001B[0m\u001B[1;33m\u001B[0m\u001B[0m\n\u001B[1;32m--> 721\u001B[1;33m                 ' of table columns ({})'.format(len(names), len(self.colnames)))\n\u001B[0m\u001B[0;32m    722\u001B[0m \u001B[1;33m\u001B[0m\u001B[0m\n",
      "\u001B[1;31mInconsistentTableError\u001B[0m: Length of names argument (5) does not match number of table columns (4)",
      "\nDuring handling of the above exception, another exception occurred:\n",
      "\u001B[1;31mInconsistentTableError\u001B[0m                    Traceback (most recent call last)",
      "\u001B[1;32m~\\AppData\\Roaming\\Python\\Python37\\site-packages\\astropy\\utils\\iers\\iers.py\u001B[0m in \u001B[0;36mopen\u001B[1;34m(cls, file, cache)\u001B[0m\n\u001B[0;32m    926\u001B[0m         \u001B[1;32mtry\u001B[0m\u001B[1;33m:\u001B[0m\u001B[1;33m\u001B[0m\u001B[1;33m\u001B[0m\u001B[0m\n\u001B[1;32m--> 927\u001B[1;33m             \u001B[1;32mreturn\u001B[0m \u001B[0mcls\u001B[0m\u001B[1;33m.\u001B[0m\u001B[0mfrom_iers_leap_seconds\u001B[0m\u001B[1;33m(\u001B[0m\u001B[0mfile\u001B[0m\u001B[1;33m)\u001B[0m\u001B[1;33m\u001B[0m\u001B[1;33m\u001B[0m\u001B[0m\n\u001B[0m\u001B[0;32m    928\u001B[0m         \u001B[1;32mexcept\u001B[0m \u001B[0mException\u001B[0m\u001B[1;33m:\u001B[0m\u001B[1;33m\u001B[0m\u001B[1;33m\u001B[0m\u001B[0m\n",
      "\u001B[1;32m~\\AppData\\Roaming\\Python\\Python37\\site-packages\\astropy\\utils\\iers\\iers.py\u001B[0m in \u001B[0;36mfrom_iers_leap_seconds\u001B[1;34m(cls, file)\u001B[0m\n\u001B[0;32m   1061\u001B[0m         return cls._read_leap_seconds(\n\u001B[1;32m-> 1062\u001B[1;33m             file, names=['mjd', 'day', 'month', 'year', 'tai_utc'])\n\u001B[0m\u001B[0;32m   1063\u001B[0m \u001B[1;33m\u001B[0m\u001B[0m\n",
      "\u001B[1;32m~\\AppData\\Roaming\\Python\\Python37\\site-packages\\astropy\\utils\\iers\\iers.py\u001B[0m in \u001B[0;36m_read_leap_seconds\u001B[1;34m(cls, file, **kwargs)\u001B[0m\n\u001B[0;32m   1040\u001B[0m \u001B[1;33m\u001B[0m\u001B[0m\n\u001B[1;32m-> 1041\u001B[1;33m         \u001B[0mself\u001B[0m \u001B[1;33m=\u001B[0m \u001B[0mcls\u001B[0m\u001B[1;33m.\u001B[0m\u001B[0mread\u001B[0m\u001B[1;33m(\u001B[0m\u001B[0mlines\u001B[0m\u001B[1;33m,\u001B[0m \u001B[0mformat\u001B[0m\u001B[1;33m=\u001B[0m\u001B[1;34m'ascii.no_header'\u001B[0m\u001B[1;33m,\u001B[0m \u001B[1;33m**\u001B[0m\u001B[0mkwargs\u001B[0m\u001B[1;33m)\u001B[0m\u001B[1;33m\u001B[0m\u001B[1;33m\u001B[0m\u001B[0m\n\u001B[0m\u001B[0;32m   1042\u001B[0m         \u001B[0mself\u001B[0m\u001B[1;33m.\u001B[0m\u001B[0m_expires\u001B[0m \u001B[1;33m=\u001B[0m \u001B[0mexpires\u001B[0m\u001B[1;33m\u001B[0m\u001B[1;33m\u001B[0m\u001B[0m\n",
      "\u001B[1;32m~\\AppData\\Roaming\\Python\\Python37\\site-packages\\astropy\\table\\connect.py\u001B[0m in \u001B[0;36m__call__\u001B[1;34m(self, *args, **kwargs)\u001B[0m\n\u001B[0;32m     60\u001B[0m \u001B[1;33m\u001B[0m\u001B[0m\n\u001B[1;32m---> 61\u001B[1;33m         \u001B[0mout\u001B[0m \u001B[1;33m=\u001B[0m \u001B[0mregistry\u001B[0m\u001B[1;33m.\u001B[0m\u001B[0mread\u001B[0m\u001B[1;33m(\u001B[0m\u001B[0mcls\u001B[0m\u001B[1;33m,\u001B[0m \u001B[1;33m*\u001B[0m\u001B[0margs\u001B[0m\u001B[1;33m,\u001B[0m \u001B[1;33m**\u001B[0m\u001B[0mkwargs\u001B[0m\u001B[1;33m)\u001B[0m\u001B[1;33m\u001B[0m\u001B[1;33m\u001B[0m\u001B[0m\n\u001B[0m\u001B[0;32m     62\u001B[0m \u001B[1;33m\u001B[0m\u001B[0m\n",
      "\u001B[1;32m~\\AppData\\Roaming\\Python\\Python37\\site-packages\\astropy\\io\\registry.py\u001B[0m in \u001B[0;36mread\u001B[1;34m(cls, format, cache, *args, **kwargs)\u001B[0m\n\u001B[0;32m    519\u001B[0m         \u001B[0mreader\u001B[0m \u001B[1;33m=\u001B[0m \u001B[0mget_reader\u001B[0m\u001B[1;33m(\u001B[0m\u001B[0mformat\u001B[0m\u001B[1;33m,\u001B[0m \u001B[0mcls\u001B[0m\u001B[1;33m)\u001B[0m\u001B[1;33m\u001B[0m\u001B[1;33m\u001B[0m\u001B[0m\n\u001B[1;32m--> 520\u001B[1;33m         \u001B[0mdata\u001B[0m \u001B[1;33m=\u001B[0m \u001B[0mreader\u001B[0m\u001B[1;33m(\u001B[0m\u001B[1;33m*\u001B[0m\u001B[0margs\u001B[0m\u001B[1;33m,\u001B[0m \u001B[1;33m**\u001B[0m\u001B[0mkwargs\u001B[0m\u001B[1;33m)\u001B[0m\u001B[1;33m\u001B[0m\u001B[1;33m\u001B[0m\u001B[0m\n\u001B[0m\u001B[0;32m    521\u001B[0m \u001B[1;33m\u001B[0m\u001B[0m\n",
      "\u001B[1;32m~\\AppData\\Roaming\\Python\\Python37\\site-packages\\astropy\\io\\ascii\\connect.py\u001B[0m in \u001B[0;36mio_read\u001B[1;34m(format, filename, **kwargs)\u001B[0m\n\u001B[0;32m     17\u001B[0m         \u001B[0mkwargs\u001B[0m\u001B[1;33m[\u001B[0m\u001B[1;34m'format'\u001B[0m\u001B[1;33m]\u001B[0m \u001B[1;33m=\u001B[0m \u001B[0mformat\u001B[0m\u001B[1;33m\u001B[0m\u001B[1;33m\u001B[0m\u001B[0m\n\u001B[1;32m---> 18\u001B[1;33m     \u001B[1;32mreturn\u001B[0m \u001B[0mread\u001B[0m\u001B[1;33m(\u001B[0m\u001B[0mfilename\u001B[0m\u001B[1;33m,\u001B[0m \u001B[1;33m**\u001B[0m\u001B[0mkwargs\u001B[0m\u001B[1;33m)\u001B[0m\u001B[1;33m\u001B[0m\u001B[1;33m\u001B[0m\u001B[0m\n\u001B[0m\u001B[0;32m     19\u001B[0m \u001B[1;33m\u001B[0m\u001B[0m\n",
      "\u001B[1;32m~\\AppData\\Roaming\\Python\\Python37\\site-packages\\astropy\\io\\ascii\\ui.py\u001B[0m in \u001B[0;36mread\u001B[1;34m(table, guess, **kwargs)\u001B[0m\n\u001B[0;32m    339\u001B[0m         \u001B[1;31m# more useful traceback.\u001B[0m\u001B[1;33m\u001B[0m\u001B[1;33m\u001B[0m\u001B[1;33m\u001B[0m\u001B[0m\n\u001B[1;32m--> 340\u001B[1;33m         \u001B[0mdat\u001B[0m \u001B[1;33m=\u001B[0m \u001B[0m_guess\u001B[0m\u001B[1;33m(\u001B[0m\u001B[0mtable\u001B[0m\u001B[1;33m,\u001B[0m \u001B[0mnew_kwargs\u001B[0m\u001B[1;33m,\u001B[0m \u001B[0mformat\u001B[0m\u001B[1;33m,\u001B[0m \u001B[0mfast_reader\u001B[0m\u001B[1;33m)\u001B[0m\u001B[1;33m\u001B[0m\u001B[1;33m\u001B[0m\u001B[0m\n\u001B[0m\u001B[0;32m    341\u001B[0m         \u001B[1;32mif\u001B[0m \u001B[0mdat\u001B[0m \u001B[1;32mis\u001B[0m \u001B[1;32mNone\u001B[0m\u001B[1;33m:\u001B[0m\u001B[1;33m\u001B[0m\u001B[1;33m\u001B[0m\u001B[0m\n",
      "\u001B[1;32m~\\AppData\\Roaming\\Python\\Python37\\site-packages\\astropy\\io\\ascii\\ui.py\u001B[0m in \u001B[0;36m_guess\u001B[1;34m(table, read_kwargs, format, fast_reader)\u001B[0m\n\u001B[0;32m    548\u001B[0m             \u001B[0mlines\u001B[0m\u001B[1;33m.\u001B[0m\u001B[0mextend\u001B[0m\u001B[1;33m(\u001B[0m\u001B[0mmsg\u001B[0m\u001B[1;33m)\u001B[0m\u001B[1;33m\u001B[0m\u001B[1;33m\u001B[0m\u001B[0m\n\u001B[1;32m--> 549\u001B[1;33m             \u001B[1;32mraise\u001B[0m \u001B[0mcore\u001B[0m\u001B[1;33m.\u001B[0m\u001B[0mInconsistentTableError\u001B[0m\u001B[1;33m(\u001B[0m\u001B[1;34m'\\n'\u001B[0m\u001B[1;33m.\u001B[0m\u001B[0mjoin\u001B[0m\u001B[1;33m(\u001B[0m\u001B[0mlines\u001B[0m\u001B[1;33m)\u001B[0m\u001B[1;33m)\u001B[0m\u001B[1;33m\u001B[0m\u001B[1;33m\u001B[0m\u001B[0m\n\u001B[0m\u001B[0;32m    550\u001B[0m \u001B[1;33m\u001B[0m\u001B[0m\n",
      "\u001B[1;31mInconsistentTableError\u001B[0m: \nERROR: Unable to guess table format with the guesses listed below:\nReader:FastNoHeader fast_reader: {'enable': True} fill_values: [('', '0')] names: ['mjd', 'day', 'month', 'year', 'tai_utc']\nReader:NoHeader delimiter: '|' fast_reader: {'enable': True} fill_values: [('', '0')] names: ['mjd', 'day', 'month', 'year', 'tai_utc'] quotechar: '\"'\nReader:NoHeader delimiter: '|' fast_reader: {'enable': True} fill_values: [('', '0')] names: ['mjd', 'day', 'month', 'year', 'tai_utc'] quotechar: \"'\"\nReader:NoHeader delimiter: ',' fast_reader: {'enable': True} fill_values: [('', '0')] names: ['mjd', 'day', 'month', 'year', 'tai_utc'] quotechar: '\"'\nReader:NoHeader delimiter: ',' fast_reader: {'enable': True} fill_values: [('', '0')] names: ['mjd', 'day', 'month', 'year', 'tai_utc'] quotechar: \"'\"\nReader:NoHeader delimiter: ' ' fast_reader: {'enable': True} fill_values: [('', '0')] names: ['mjd', 'day', 'month', 'year', 'tai_utc'] quotechar: '\"'\nReader:NoHeader delimiter: ' ' fast_reader: {'enable': True} fill_values: [('', '0')] names: ['mjd', 'day', 'month', 'year', 'tai_utc'] quotechar: \"'\"\nReader:NoHeader delimiter: '\\\\s' fast_reader: {'enable': True} fill_values: [('', '0')] names: ['mjd', 'day', 'month', 'year', 'tai_utc'] quotechar: '\"'\nReader:NoHeader delimiter: '\\\\s' fast_reader: {'enable': True} fill_values: [('', '0')] names: ['mjd', 'day', 'month', 'year', 'tai_utc'] quotechar: \"'\"\nReader:NoHeader fast_reader: {'enable': True} fill_values: [('', '0')] names: ['mjd', 'day', 'month', 'year', 'tai_utc']\n\n************************************************************************\n** ERROR: Unable to guess table format with the guesses listed above. **\n**                                                                    **\n** To figure out why the table did not read, use guess=False and      **\n** fast_reader=False, along with any appropriate arguments to read(). **\n** In particular specify the format and any known attributes like the **\n** delimiter.                                                         **\n************************************************************************",
      "\nDuring handling of the above exception, another exception occurred:\n",
      "\u001B[1;31mKeyboardInterrupt\u001B[0m                         Traceback (most recent call last)",
      "\u001B[1;32m<ipython-input-1-6a1ec00c1003>\u001B[0m in \u001B[0;36m<module>\u001B[1;34m\u001B[0m\n\u001B[0;32m     11\u001B[0m \u001B[1;32mfrom\u001B[0m \u001B[0msurrender\u001B[0m\u001B[1;33m.\u001B[0m\u001B[0mgeometry\u001B[0m \u001B[1;32mimport\u001B[0m \u001B[0mvec3\u001B[0m\u001B[1;33m,\u001B[0m \u001B[0mvec4\u001B[0m\u001B[1;33m,\u001B[0m \u001B[0mMatToQuat\u001B[0m\u001B[1;33m,\u001B[0m \u001B[0mgaussian\u001B[0m\u001B[1;33m,\u001B[0m \u001B[0mlook_at\u001B[0m\u001B[1;33m,\u001B[0m \u001B[0mnormalize\u001B[0m\u001B[1;33m,\u001B[0m \u001B[0mquat\u001B[0m\u001B[1;33m\u001B[0m\u001B[1;33m\u001B[0m\u001B[0m\n\u001B[0;32m     12\u001B[0m \u001B[1;32mfrom\u001B[0m \u001B[0msurrender\u001B[0m\u001B[1;33m.\u001B[0m\u001B[0msurrender_client\u001B[0m \u001B[1;32mimport\u001B[0m \u001B[0msurrender_client\u001B[0m\u001B[1;33m\u001B[0m\u001B[1;33m\u001B[0m\u001B[0m\n\u001B[1;32m---> 13\u001B[1;33m \u001B[1;32mfrom\u001B[0m \u001B[0mastropy\u001B[0m\u001B[1;33m.\u001B[0m\u001B[0mcoordinates\u001B[0m \u001B[1;32mimport\u001B[0m \u001B[0mcartesian_to_spherical\u001B[0m\u001B[1;33m,\u001B[0m \u001B[0mspherical_to_cartesian\u001B[0m\u001B[1;33m\u001B[0m\u001B[1;33m\u001B[0m\u001B[0m\n\u001B[0m\u001B[0;32m     14\u001B[0m \u001B[1;32mfrom\u001B[0m \u001B[0mcraterdetection\u001B[0m\u001B[1;33m.\u001B[0m\u001B[0mcommon\u001B[0m\u001B[1;33m.\u001B[0m\u001B[0mcamera\u001B[0m \u001B[1;32mimport\u001B[0m \u001B[0mCamera\u001B[0m\u001B[1;33m\u001B[0m\u001B[1;33m\u001B[0m\u001B[0m\n\u001B[0;32m     15\u001B[0m \u001B[1;32mfrom\u001B[0m \u001B[0mcraterdetection\u001B[0m\u001B[1;33m.\u001B[0m\u001B[0mcommon\u001B[0m\u001B[1;33m.\u001B[0m\u001B[0mcoordinates\u001B[0m \u001B[1;32mimport\u001B[0m \u001B[0mENU_system\u001B[0m\u001B[1;33m,\u001B[0m \u001B[0mnadir_attitude\u001B[0m\u001B[1;33m\u001B[0m\u001B[1;33m\u001B[0m\u001B[0m\n",
      "\u001B[1;32m~\\AppData\\Roaming\\Python\\Python37\\site-packages\\astropy\\coordinates\\__init__.py\u001B[0m in \u001B[0;36m<module>\u001B[1;34m\u001B[0m\n\u001B[0;32m     14\u001B[0m \u001B[1;32mfrom\u001B[0m \u001B[1;33m.\u001B[0m\u001B[0mearth\u001B[0m \u001B[1;32mimport\u001B[0m \u001B[1;33m*\u001B[0m\u001B[1;33m\u001B[0m\u001B[1;33m\u001B[0m\u001B[0m\n\u001B[0;32m     15\u001B[0m \u001B[1;32mfrom\u001B[0m \u001B[1;33m.\u001B[0m\u001B[0mtransformations\u001B[0m \u001B[1;32mimport\u001B[0m \u001B[1;33m*\u001B[0m\u001B[1;33m\u001B[0m\u001B[1;33m\u001B[0m\u001B[0m\n\u001B[1;32m---> 16\u001B[1;33m \u001B[1;32mfrom\u001B[0m \u001B[1;33m.\u001B[0m\u001B[0mbuiltin_frames\u001B[0m \u001B[1;32mimport\u001B[0m \u001B[1;33m*\u001B[0m\u001B[1;33m\u001B[0m\u001B[1;33m\u001B[0m\u001B[0m\n\u001B[0m\u001B[0;32m     17\u001B[0m \u001B[1;32mfrom\u001B[0m \u001B[1;33m.\u001B[0m\u001B[0mname_resolve\u001B[0m \u001B[1;32mimport\u001B[0m \u001B[1;33m*\u001B[0m\u001B[1;33m\u001B[0m\u001B[1;33m\u001B[0m\u001B[0m\n\u001B[0;32m     18\u001B[0m \u001B[1;32mfrom\u001B[0m \u001B[1;33m.\u001B[0m\u001B[0mmatching\u001B[0m \u001B[1;32mimport\u001B[0m \u001B[1;33m*\u001B[0m\u001B[1;33m\u001B[0m\u001B[1;33m\u001B[0m\u001B[0m\n",
      "\u001B[1;32m~\\AppData\\Roaming\\Python\\Python37\\site-packages\\astropy\\coordinates\\builtin_frames\\__init__.py\u001B[0m in \u001B[0;36m<module>\u001B[1;34m\u001B[0m\n\u001B[0;32m     27\u001B[0m \u001B[1;32mfrom\u001B[0m \u001B[1;33m.\u001B[0m\u001B[0mbaseradec\u001B[0m \u001B[1;32mimport\u001B[0m \u001B[0mBaseRADecFrame\u001B[0m\u001B[1;33m\u001B[0m\u001B[1;33m\u001B[0m\u001B[0m\n\u001B[0;32m     28\u001B[0m \u001B[1;32mfrom\u001B[0m \u001B[1;33m.\u001B[0m\u001B[0micrs\u001B[0m \u001B[1;32mimport\u001B[0m \u001B[0mICRS\u001B[0m\u001B[1;33m\u001B[0m\u001B[1;33m\u001B[0m\u001B[0m\n\u001B[1;32m---> 29\u001B[1;33m \u001B[1;32mfrom\u001B[0m \u001B[1;33m.\u001B[0m\u001B[0mfk5\u001B[0m \u001B[1;32mimport\u001B[0m \u001B[0mFK5\u001B[0m\u001B[1;33m\u001B[0m\u001B[1;33m\u001B[0m\u001B[0m\n\u001B[0m\u001B[0;32m     30\u001B[0m \u001B[1;32mfrom\u001B[0m \u001B[1;33m.\u001B[0m\u001B[0mfk4\u001B[0m \u001B[1;32mimport\u001B[0m \u001B[0mFK4\u001B[0m\u001B[1;33m,\u001B[0m \u001B[0mFK4NoETerms\u001B[0m\u001B[1;33m\u001B[0m\u001B[1;33m\u001B[0m\u001B[0m\n\u001B[0;32m     31\u001B[0m \u001B[1;32mfrom\u001B[0m \u001B[1;33m.\u001B[0m\u001B[0mgalactic\u001B[0m \u001B[1;32mimport\u001B[0m \u001B[0mGalactic\u001B[0m\u001B[1;33m\u001B[0m\u001B[1;33m\u001B[0m\u001B[0m\n",
      "\u001B[1;32m~\\AppData\\Roaming\\Python\\Python37\\site-packages\\astropy\\coordinates\\builtin_frames\\fk5.py\u001B[0m in \u001B[0;36m<module>\u001B[1;34m\u001B[0m\n\u001B[0;32m      6\u001B[0m \u001B[1;32mfrom\u001B[0m \u001B[0mastropy\u001B[0m\u001B[1;33m.\u001B[0m\u001B[0mcoordinates\u001B[0m\u001B[1;33m.\u001B[0m\u001B[0mattributes\u001B[0m \u001B[1;32mimport\u001B[0m \u001B[0mTimeAttribute\u001B[0m\u001B[1;33m\u001B[0m\u001B[1;33m\u001B[0m\u001B[0m\n\u001B[0;32m      7\u001B[0m \u001B[1;32mfrom\u001B[0m \u001B[0mastropy\u001B[0m\u001B[1;33m.\u001B[0m\u001B[0mcoordinates\u001B[0m\u001B[1;33m.\u001B[0m\u001B[0mtransformations\u001B[0m \u001B[1;32mimport\u001B[0m \u001B[0mDynamicMatrixTransform\u001B[0m\u001B[1;33m\u001B[0m\u001B[1;33m\u001B[0m\u001B[0m\n\u001B[1;32m----> 8\u001B[1;33m \u001B[1;32mfrom\u001B[0m \u001B[0mastropy\u001B[0m\u001B[1;33m.\u001B[0m\u001B[0mcoordinates\u001B[0m \u001B[1;32mimport\u001B[0m \u001B[0mearth_orientation\u001B[0m \u001B[1;32mas\u001B[0m \u001B[0mearth\u001B[0m\u001B[1;33m\u001B[0m\u001B[1;33m\u001B[0m\u001B[0m\n\u001B[0m\u001B[0;32m      9\u001B[0m \u001B[1;33m\u001B[0m\u001B[0m\n\u001B[0;32m     10\u001B[0m \u001B[1;32mfrom\u001B[0m \u001B[1;33m.\u001B[0m\u001B[0mbaseradec\u001B[0m \u001B[1;32mimport\u001B[0m \u001B[0mBaseRADecFrame\u001B[0m\u001B[1;33m,\u001B[0m \u001B[0mdoc_components\u001B[0m\u001B[1;33m\u001B[0m\u001B[1;33m\u001B[0m\u001B[0m\n",
      "\u001B[1;32m~\\AppData\\Roaming\\Python\\Python37\\site-packages\\astropy\\coordinates\\earth_orientation.py\u001B[0m in \u001B[0;36m<module>\u001B[1;34m\u001B[0m\n\u001B[0;32m     17\u001B[0m \u001B[1;33m\u001B[0m\u001B[0m\n\u001B[0;32m     18\u001B[0m \u001B[1;33m\u001B[0m\u001B[0m\n\u001B[1;32m---> 19\u001B[1;33m \u001B[0mjd1950\u001B[0m \u001B[1;33m=\u001B[0m \u001B[0mTime\u001B[0m\u001B[1;33m(\u001B[0m\u001B[1;34m'B1950'\u001B[0m\u001B[1;33m)\u001B[0m\u001B[1;33m.\u001B[0m\u001B[0mjd\u001B[0m\u001B[1;33m\u001B[0m\u001B[1;33m\u001B[0m\u001B[0m\n\u001B[0m\u001B[0;32m     20\u001B[0m \u001B[0mjd2000\u001B[0m \u001B[1;33m=\u001B[0m \u001B[0mTime\u001B[0m\u001B[1;33m(\u001B[0m\u001B[1;34m'J2000'\u001B[0m\u001B[1;33m)\u001B[0m\u001B[1;33m.\u001B[0m\u001B[0mjd\u001B[0m\u001B[1;33m\u001B[0m\u001B[1;33m\u001B[0m\u001B[0m\n\u001B[0;32m     21\u001B[0m \u001B[0m_asecperrad\u001B[0m \u001B[1;33m=\u001B[0m \u001B[0mu\u001B[0m\u001B[1;33m.\u001B[0m\u001B[0mradian\u001B[0m\u001B[1;33m.\u001B[0m\u001B[0mto\u001B[0m\u001B[1;33m(\u001B[0m\u001B[0mu\u001B[0m\u001B[1;33m.\u001B[0m\u001B[0marcsec\u001B[0m\u001B[1;33m)\u001B[0m\u001B[1;33m\u001B[0m\u001B[1;33m\u001B[0m\u001B[0m\n",
      "\u001B[1;32m~\\AppData\\Roaming\\Python\\Python37\\site-packages\\astropy\\time\\core.py\u001B[0m in \u001B[0;36m__new__\u001B[1;34m(cls, val, val2, format, scale, precision, in_subfmt, out_subfmt, location, copy)\u001B[0m\n\u001B[0;32m   1487\u001B[0m             \u001B[1;31m# units of days, that is fine.\u001B[0m\u001B[1;33m\u001B[0m\u001B[1;33m\u001B[0m\u001B[1;33m\u001B[0m\u001B[0m\n\u001B[0;32m   1488\u001B[0m             \u001B[0m_LEAP_SECONDS_CHECKED\u001B[0m \u001B[1;33m=\u001B[0m \u001B[1;32mTrue\u001B[0m\u001B[1;33m\u001B[0m\u001B[1;33m\u001B[0m\u001B[0m\n\u001B[1;32m-> 1489\u001B[1;33m             \u001B[0mupdate_leap_seconds\u001B[0m\u001B[1;33m(\u001B[0m\u001B[1;33m)\u001B[0m\u001B[1;33m\u001B[0m\u001B[1;33m\u001B[0m\u001B[0m\n\u001B[0m\u001B[0;32m   1490\u001B[0m \u001B[1;33m\u001B[0m\u001B[0m\n\u001B[0;32m   1491\u001B[0m         \u001B[1;32mif\u001B[0m \u001B[0misinstance\u001B[0m\u001B[1;33m(\u001B[0m\u001B[0mval\u001B[0m\u001B[1;33m,\u001B[0m \u001B[0mTime\u001B[0m\u001B[1;33m)\u001B[0m\u001B[1;33m:\u001B[0m\u001B[1;33m\u001B[0m\u001B[1;33m\u001B[0m\u001B[0m\n",
      "\u001B[1;32m~\\AppData\\Roaming\\Python\\Python37\\site-packages\\astropy\\time\\core.py\u001B[0m in \u001B[0;36mupdate_leap_seconds\u001B[1;34m(files)\u001B[0m\n\u001B[0;32m   2663\u001B[0m         \u001B[1;32mfrom\u001B[0m \u001B[0mastropy\u001B[0m\u001B[1;33m.\u001B[0m\u001B[0mutils\u001B[0m \u001B[1;32mimport\u001B[0m \u001B[0miers\u001B[0m\u001B[1;33m\u001B[0m\u001B[1;33m\u001B[0m\u001B[0m\n\u001B[0;32m   2664\u001B[0m \u001B[1;33m\u001B[0m\u001B[0m\n\u001B[1;32m-> 2665\u001B[1;33m         \u001B[0mtable\u001B[0m \u001B[1;33m=\u001B[0m \u001B[0miers\u001B[0m\u001B[1;33m.\u001B[0m\u001B[0mLeapSeconds\u001B[0m\u001B[1;33m.\u001B[0m\u001B[0mauto_open\u001B[0m\u001B[1;33m(\u001B[0m\u001B[0mfiles\u001B[0m\u001B[1;33m)\u001B[0m\u001B[1;33m\u001B[0m\u001B[1;33m\u001B[0m\u001B[0m\n\u001B[0m\u001B[0;32m   2666\u001B[0m         \u001B[1;32mreturn\u001B[0m \u001B[0merfa\u001B[0m\u001B[1;33m.\u001B[0m\u001B[0mleap_seconds\u001B[0m\u001B[1;33m.\u001B[0m\u001B[0mupdate\u001B[0m\u001B[1;33m(\u001B[0m\u001B[0mtable\u001B[0m\u001B[1;33m)\u001B[0m\u001B[1;33m\u001B[0m\u001B[1;33m\u001B[0m\u001B[0m\n\u001B[0;32m   2667\u001B[0m \u001B[1;33m\u001B[0m\u001B[0m\n",
      "\u001B[1;32m~\\AppData\\Roaming\\Python\\Python37\\site-packages\\astropy\\utils\\iers\\iers.py\u001B[0m in \u001B[0;36mauto_open\u001B[1;34m(cls, files)\u001B[0m\n\u001B[0;32m    997\u001B[0m \u001B[1;33m\u001B[0m\u001B[0m\n\u001B[0;32m    998\u001B[0m             \u001B[1;32mtry\u001B[0m\u001B[1;33m:\u001B[0m\u001B[1;33m\u001B[0m\u001B[1;33m\u001B[0m\u001B[0m\n\u001B[1;32m--> 999\u001B[1;33m                 \u001B[0mtrial\u001B[0m \u001B[1;33m=\u001B[0m \u001B[0mcls\u001B[0m\u001B[1;33m.\u001B[0m\u001B[0mopen\u001B[0m\u001B[1;33m(\u001B[0m\u001B[0mf\u001B[0m\u001B[1;33m,\u001B[0m \u001B[0mcache\u001B[0m\u001B[1;33m=\u001B[0m\u001B[1;32mTrue\u001B[0m\u001B[1;33m)\u001B[0m\u001B[1;33m\u001B[0m\u001B[1;33m\u001B[0m\u001B[0m\n\u001B[0m\u001B[0;32m   1000\u001B[0m             \u001B[1;32mexcept\u001B[0m \u001B[0mException\u001B[0m \u001B[1;32mas\u001B[0m \u001B[0mexc\u001B[0m\u001B[1;33m:\u001B[0m\u001B[1;33m\u001B[0m\u001B[1;33m\u001B[0m\u001B[0m\n\u001B[0;32m   1001\u001B[0m                 \u001B[0merr_list\u001B[0m\u001B[1;33m.\u001B[0m\u001B[0mappend\u001B[0m\u001B[1;33m(\u001B[0m\u001B[0mexc\u001B[0m\u001B[1;33m)\u001B[0m\u001B[1;33m\u001B[0m\u001B[1;33m\u001B[0m\u001B[0m\n",
      "\u001B[1;32m~\\AppData\\Roaming\\Python\\Python37\\site-packages\\astropy\\utils\\iers\\iers.py\u001B[0m in \u001B[0;36mopen\u001B[1;34m(cls, file, cache)\u001B[0m\n\u001B[0;32m    927\u001B[0m             \u001B[1;32mreturn\u001B[0m \u001B[0mcls\u001B[0m\u001B[1;33m.\u001B[0m\u001B[0mfrom_iers_leap_seconds\u001B[0m\u001B[1;33m(\u001B[0m\u001B[0mfile\u001B[0m\u001B[1;33m)\u001B[0m\u001B[1;33m\u001B[0m\u001B[1;33m\u001B[0m\u001B[0m\n\u001B[0;32m    928\u001B[0m         \u001B[1;32mexcept\u001B[0m \u001B[0mException\u001B[0m\u001B[1;33m:\u001B[0m\u001B[1;33m\u001B[0m\u001B[1;33m\u001B[0m\u001B[0m\n\u001B[1;32m--> 929\u001B[1;33m             \u001B[1;32mreturn\u001B[0m \u001B[0mcls\u001B[0m\u001B[1;33m.\u001B[0m\u001B[0mfrom_leap_seconds_list\u001B[0m\u001B[1;33m(\u001B[0m\u001B[0mfile\u001B[0m\u001B[1;33m)\u001B[0m\u001B[1;33m\u001B[0m\u001B[1;33m\u001B[0m\u001B[0m\n\u001B[0m\u001B[0;32m    930\u001B[0m \u001B[1;33m\u001B[0m\u001B[0m\n\u001B[0;32m    931\u001B[0m     \u001B[1;33m@\u001B[0m\u001B[0mstaticmethod\u001B[0m\u001B[1;33m\u001B[0m\u001B[1;33m\u001B[0m\u001B[0m\n",
      "\u001B[1;32m~\\AppData\\Roaming\\Python\\Python37\\site-packages\\astropy\\utils\\iers\\iers.py\u001B[0m in \u001B[0;36mfrom_leap_seconds_list\u001B[1;34m(cls, file)\u001B[0m\n\u001B[0;32m   1085\u001B[0m         self = cls._read_leap_seconds(\n\u001B[0;32m   1086\u001B[0m             \u001B[0mfile\u001B[0m\u001B[1;33m,\u001B[0m \u001B[0mnames\u001B[0m\u001B[1;33m=\u001B[0m\u001B[0mnames\u001B[0m\u001B[1;33m,\u001B[0m \u001B[0minclude_names\u001B[0m\u001B[1;33m=\u001B[0m\u001B[0mnames\u001B[0m\u001B[1;33m[\u001B[0m\u001B[1;33m:\u001B[0m\u001B[1;36m2\u001B[0m\u001B[1;33m]\u001B[0m\u001B[1;33m,\u001B[0m\u001B[1;33m\u001B[0m\u001B[1;33m\u001B[0m\u001B[0m\n\u001B[1;32m-> 1087\u001B[1;33m             converters={'ntp_seconds': [convert_numpy(np.int64)]})\n\u001B[0m\u001B[0;32m   1088\u001B[0m         \u001B[0mself\u001B[0m\u001B[1;33m[\u001B[0m\u001B[1;34m'mjd'\u001B[0m\u001B[1;33m]\u001B[0m \u001B[1;33m=\u001B[0m \u001B[1;33m(\u001B[0m\u001B[0mself\u001B[0m\u001B[1;33m[\u001B[0m\u001B[1;34m'ntp_seconds'\u001B[0m\u001B[1;33m]\u001B[0m\u001B[1;33m/\u001B[0m\u001B[1;36m86400\u001B[0m \u001B[1;33m+\u001B[0m \u001B[1;36m15020\u001B[0m\u001B[1;33m)\u001B[0m\u001B[1;33m.\u001B[0m\u001B[0mround\u001B[0m\u001B[1;33m(\u001B[0m\u001B[1;33m)\u001B[0m\u001B[1;33m\u001B[0m\u001B[1;33m\u001B[0m\u001B[0m\n\u001B[0;32m   1089\u001B[0m         \u001B[1;31m# Note: cannot use Time.ymdhms, since that might require leap seconds.\u001B[0m\u001B[1;33m\u001B[0m\u001B[1;33m\u001B[0m\u001B[1;33m\u001B[0m\u001B[0m\n",
      "\u001B[1;32m~\\AppData\\Roaming\\Python\\Python37\\site-packages\\astropy\\utils\\iers\\iers.py\u001B[0m in \u001B[0;36m_read_leap_seconds\u001B[1;34m(cls, file, **kwargs)\u001B[0m\n\u001B[0;32m   1027\u001B[0m         \u001B[0mexpires\u001B[0m \u001B[1;33m=\u001B[0m \u001B[1;32mNone\u001B[0m\u001B[1;33m\u001B[0m\u001B[1;33m\u001B[0m\u001B[0m\n\u001B[0;32m   1028\u001B[0m         \u001B[1;31m# Find expiration date.\u001B[0m\u001B[1;33m\u001B[0m\u001B[1;33m\u001B[0m\u001B[1;33m\u001B[0m\u001B[0m\n\u001B[1;32m-> 1029\u001B[1;33m         \u001B[1;32mwith\u001B[0m \u001B[0mget_readable_fileobj\u001B[0m\u001B[1;33m(\u001B[0m\u001B[0mfile\u001B[0m\u001B[1;33m)\u001B[0m \u001B[1;32mas\u001B[0m \u001B[0mfh\u001B[0m\u001B[1;33m:\u001B[0m\u001B[1;33m\u001B[0m\u001B[1;33m\u001B[0m\u001B[0m\n\u001B[0m\u001B[0;32m   1030\u001B[0m             \u001B[0mlines\u001B[0m \u001B[1;33m=\u001B[0m \u001B[0mfh\u001B[0m\u001B[1;33m.\u001B[0m\u001B[0mreadlines\u001B[0m\u001B[1;33m(\u001B[0m\u001B[1;33m)\u001B[0m\u001B[1;33m\u001B[0m\u001B[1;33m\u001B[0m\u001B[0m\n\u001B[0;32m   1031\u001B[0m             \u001B[1;32mfor\u001B[0m \u001B[0mline\u001B[0m \u001B[1;32min\u001B[0m \u001B[0mlines\u001B[0m\u001B[1;33m:\u001B[0m\u001B[1;33m\u001B[0m\u001B[1;33m\u001B[0m\u001B[0m\n",
      "\u001B[1;32m~\\miniconda3\\envs\\crater-detection\\lib\\contextlib.py\u001B[0m in \u001B[0;36m__enter__\u001B[1;34m(self)\u001B[0m\n\u001B[0;32m    110\u001B[0m         \u001B[1;32mdel\u001B[0m \u001B[0mself\u001B[0m\u001B[1;33m.\u001B[0m\u001B[0margs\u001B[0m\u001B[1;33m,\u001B[0m \u001B[0mself\u001B[0m\u001B[1;33m.\u001B[0m\u001B[0mkwds\u001B[0m\u001B[1;33m,\u001B[0m \u001B[0mself\u001B[0m\u001B[1;33m.\u001B[0m\u001B[0mfunc\u001B[0m\u001B[1;33m\u001B[0m\u001B[1;33m\u001B[0m\u001B[0m\n\u001B[0;32m    111\u001B[0m         \u001B[1;32mtry\u001B[0m\u001B[1;33m:\u001B[0m\u001B[1;33m\u001B[0m\u001B[1;33m\u001B[0m\u001B[0m\n\u001B[1;32m--> 112\u001B[1;33m             \u001B[1;32mreturn\u001B[0m \u001B[0mnext\u001B[0m\u001B[1;33m(\u001B[0m\u001B[0mself\u001B[0m\u001B[1;33m.\u001B[0m\u001B[0mgen\u001B[0m\u001B[1;33m)\u001B[0m\u001B[1;33m\u001B[0m\u001B[1;33m\u001B[0m\u001B[0m\n\u001B[0m\u001B[0;32m    113\u001B[0m         \u001B[1;32mexcept\u001B[0m \u001B[0mStopIteration\u001B[0m\u001B[1;33m:\u001B[0m\u001B[1;33m\u001B[0m\u001B[1;33m\u001B[0m\u001B[0m\n\u001B[0;32m    114\u001B[0m             \u001B[1;32mraise\u001B[0m \u001B[0mRuntimeError\u001B[0m\u001B[1;33m(\u001B[0m\u001B[1;34m\"generator didn't yield\"\u001B[0m\u001B[1;33m)\u001B[0m \u001B[1;32mfrom\u001B[0m \u001B[1;32mNone\u001B[0m\u001B[1;33m\u001B[0m\u001B[1;33m\u001B[0m\u001B[0m\n",
      "\u001B[1;32m~\\AppData\\Roaming\\Python\\Python37\\site-packages\\astropy\\utils\\data.py\u001B[0m in \u001B[0;36mget_readable_fileobj\u001B[1;34m(name_or_obj, encoding, cache, show_progress, remote_timeout, sources, http_headers)\u001B[0m\n\u001B[0;32m    250\u001B[0m                 \u001B[0mtimeout\u001B[0m\u001B[1;33m=\u001B[0m\u001B[0mremote_timeout\u001B[0m\u001B[1;33m,\u001B[0m \u001B[0msources\u001B[0m\u001B[1;33m=\u001B[0m\u001B[0msources\u001B[0m\u001B[1;33m,\u001B[0m\u001B[1;33m\u001B[0m\u001B[1;33m\u001B[0m\u001B[0m\n\u001B[0;32m    251\u001B[0m                 http_headers=http_headers)\n\u001B[1;32m--> 252\u001B[1;33m         \u001B[0mfileobj\u001B[0m \u001B[1;33m=\u001B[0m \u001B[0mio\u001B[0m\u001B[1;33m.\u001B[0m\u001B[0mFileIO\u001B[0m\u001B[1;33m(\u001B[0m\u001B[0mname_or_obj\u001B[0m\u001B[1;33m,\u001B[0m \u001B[1;34m'r'\u001B[0m\u001B[1;33m)\u001B[0m\u001B[1;33m\u001B[0m\u001B[1;33m\u001B[0m\u001B[0m\n\u001B[0m\u001B[0;32m    253\u001B[0m         \u001B[1;32mif\u001B[0m \u001B[0mis_url\u001B[0m \u001B[1;32mand\u001B[0m \u001B[1;32mnot\u001B[0m \u001B[0mcache\u001B[0m\u001B[1;33m:\u001B[0m\u001B[1;33m\u001B[0m\u001B[1;33m\u001B[0m\u001B[0m\n\u001B[0;32m    254\u001B[0m             \u001B[0mdelete_fds\u001B[0m\u001B[1;33m.\u001B[0m\u001B[0mappend\u001B[0m\u001B[1;33m(\u001B[0m\u001B[0mfileobj\u001B[0m\u001B[1;33m)\u001B[0m\u001B[1;33m\u001B[0m\u001B[1;33m\u001B[0m\u001B[0m\n",
      "\u001B[1;31mKeyboardInterrupt\u001B[0m: "
     ]
    }
   ],
   "source": [
    "import os\n",
    "import urllib\n",
    "from pathlib import Path\n",
    "\n",
    "import numpy as np\n",
    "import numpy.linalg as LA\n",
    "import pandas as pd\n",
    "import spiceypy as spice\n",
    "from matplotlib import pyplot as plt\n",
    "from scipy.spatial.transform import Rotation as R\n",
    "from surrender.geometry import vec3, vec4, MatToQuat, gaussian, look_at, normalize, quat\n",
    "from surrender.surrender_client import surrender_client\n",
    "from astropy.coordinates import cartesian_to_spherical, spherical_to_cartesian\n",
    "from craterdetection.common.camera import Camera\n",
    "from craterdetection.common.coordinates import ENU_system, nadir_attitude\n",
    "\n",
    "from craterdetection.matching.database import extract_robbins_dataset, load_craters\n",
    "from craterdetection.matching.projective_invariants import crater_representation, matrix_adjugate\n",
    "import craterdetection.common.constants as const\n",
    "from craterdetection.common.conics import *\n",
    "\n",
    "_BASE_URL = 'https://naif.jpl.nasa.gov/pub/naif/'\n",
    "_KERNEL_ROOT = Path('../data/spice_kernels')\n",
    "\n",
    "# Constants:\n",
    "sun_radius = 696342000\n",
    "earth_radius = 6371e3\n",
    "ua2km = 149597870.700\n",
    "ua = ua2km * 1e3\n",
    "R_moon = 1737.4"
   ],
   "metadata": {
    "collapsed": false,
    "pycharm": {
     "name": "#%%\n"
    }
   }
  },
  {
   "cell_type": "code",
   "execution_count": null,
   "outputs": [],
   "source": [
    "def download_kernel(file_path, base_url=_BASE_URL, base_folder=_KERNEL_ROOT):\n",
    "    if isinstance(file_path, str):\n",
    "        file_path = Path(file_path)\n",
    "\n",
    "    local_path = base_folder / file_path\n",
    "    url = base_url + file_path.as_posix()\n",
    "\n",
    "    # Create necessary sub-directories in the DL_PATH direction\n",
    "    local_path.parent.mkdir(parents=True, exist_ok=True)\n",
    "\n",
    "    try:\n",
    "        # If the file is not present in the download directory -> download it\n",
    "        if not os.path.isfile(local_path):\n",
    "            print(f\"Downloading {url}\", end=\"  \")\n",
    "            # Download the file with the urllib  package\n",
    "            urllib.request.urlretrieve(str(url), str(local_path))\n",
    "            print(\"Done.\")\n",
    "        else:\n",
    "            print(f\"{base_folder / file_path} already exists!\")\n",
    "    except urllib.error.HTTPError as e:\n",
    "        print(f\"Error: \\n{url} could not be found: \", e)\n",
    "\n",
    "def quaternion_multiply(quaternion1, quaternion0):\n",
    "    x0, y0, z0, w0 = quaternion0\n",
    "    x1, y1, z1, w1 = quaternion1\n",
    "    return np.array([-x1 * x0 - y1 * y0 - z1 * z0 + w1 * w0,\n",
    "                     x1 * w0 + y1 * z0 - z1 * y0 + w1 * x0,\n",
    "                     -x1 * z0 + y1 * w0 + z1 * x0 + w1 * y0,\n",
    "                     x1 * y0 - y1 * x0 + z1 * w0 + w1 * z0], dtype=np.float64)"
   ],
   "metadata": {
    "collapsed": false,
    "pycharm": {
     "name": "#%%\n"
    }
   }
  },
  {
   "cell_type": "code",
   "execution_count": null,
   "outputs": [],
   "source": [
    "kernels = list(map(Path, [\n",
    "    'generic_kernels/lsk/naif0012.tls',\n",
    "    'generic_kernels/pck/pck00010.tpc',\n",
    "    'pds/data/lro-l-spice-6-v1.0/lrosp_1000/data/spk/de421.bsp',\n",
    "    'pds/data/lro-l-spice-6-v1.0/lrosp_1000/data/pck/moon_pa_de421_1900_2050.bpc',\n",
    "    'pds/data/lro-l-spice-6-v1.0/lrosp_1000/data/fk/moon_assoc_pa.tf',\n",
    "    'pds/data/lro-l-spice-6-v1.0/lrosp_1000/data/fk/moon_080317.tf'\n",
    "]))"
   ],
   "metadata": {
    "collapsed": false,
    "pycharm": {
     "name": "#%%\n"
    }
   }
  },
  {
   "cell_type": "code",
   "execution_count": null,
   "outputs": [],
   "source": [
    "for k in kernels:\n",
    "    download_kernel(k)\n",
    "\n",
    "spice.furnsh(map(str, list(map(lambda x: _KERNEL_ROOT / x, kernels))))"
   ],
   "metadata": {
    "collapsed": false,
    "pycharm": {
     "name": "#%%\n"
    }
   }
  },
  {
   "cell_type": "code",
   "execution_count": null,
   "outputs": [],
   "source": [
    "# Image setup:\n",
    "fov = 45\n",
    "raytracing = False\n",
    "N = [2048, 2048]\n",
    "rays = 64\n",
    "\n",
    "# set PSF\n",
    "surech_PSF = 5\n",
    "sigma = 1\n",
    "wPSF = 5\n",
    "PSF = gaussian(wPSF * surech_PSF, sigma * surech_PSF)\n",
    "\n",
    "## Initializing SurRender\n",
    "s = surrender_client()\n",
    "s.setVerbosityLevel(2)\n",
    "s.connectToServer('127.0.0.1')\n",
    "s.setCompressionLevel(0)\n",
    "s.closeViewer()\n",
    "s.setTimeOut(86400)\n",
    "s.setShadowMapSize(4096)\n",
    "s.setCubeMapSize(4096)\n",
    "s.enableMultilateralFiltering(True)\n",
    "s.enablePreviewMode(True)\n",
    "s.enableDoublePrecisionMode(True)\n",
    "s.enableRaytracing(raytracing)\n",
    "s.setConventions(s.XYZ_SCALAR_CONVENTION, s.Z_FRONTWARD)\n",
    "s.setPSF(PSF, wPSF, wPSF)\n",
    "\n",
    "if raytracing:\n",
    "    s.enableFastPSFMode(False)\n",
    "    s.enableRaytracing(True)\n",
    "    s.enableIrradianceMode(False)\n",
    "    s.setNbSamplesPerPixel(rays)  # Raytracing\n",
    "    s.enableRegularPSFSampling(True)\n",
    "    s.enablePathTracing(False)\n",
    "else:\n",
    "    s.enableFastPSFMode(True)\n",
    "    s.enableRaytracing(False)\n",
    "    s.enableIrradianceMode(False)\n",
    "    s.enablePathTracing(True)\n",
    "\n",
    "s.setCameraFOVDeg(fov, fov)\n",
    "s.setImageSize(*N)\n",
    "\n",
    "s.setSunPower( ua * ua * np.pi * vec4(1, 1, 1, 1))\n",
    "\n",
    "s.createBRDF('sun', 'sun.brdf', {})\n",
    "s.createShape('sun', 'sphere.shp', {'radius': sun_radius})\n",
    "s.createBody('sun', 'sun', 'sun', [])\n",
    "\n",
    "s.createBRDF(\"mate\", \"mate.brdf\", {})\n",
    "s.createShape(\"earth_shape\", \"sphere.shp\", {'radius': earth_radius})\n",
    "s.createBody(\"earth\", \"earth_shape\", \"mate\", [\"earth.jpg\"])\n",
    "\n",
    "s.createBRDF('hapke', 'hapke.brdf', {})\n",
    "s.createSphericalDEM('moon', 'Lunar_LRO_LOLA_Global_LDEM_118m_16F_PC.dem', 'hapke', 'lroc_color_poles.tiff')\n",
    "s.setObjectElementBRDF('moon', 'moon', 'hapke')\n",
    "s.setObjectAttitude('moon', quat(vec3(1, 0, 0), 0))"
   ],
   "metadata": {
    "collapsed": false,
    "pycharm": {
     "name": "#%%\n"
    }
   }
  },
  {
   "cell_type": "code",
   "execution_count": null,
   "outputs": [],
   "source": [
    "# convert the datetime to a string, replacing the time with midnight\n",
    "DATE = '2020-05-15T00:00:00'\n",
    "\n",
    "# convert the utc midnight string to the corresponding ET\n",
    "ET_DATE = spice.utc2et(DATE)\n",
    "\n",
    "s.setObjectPosition('earth', (0, 0, 0))\n",
    "\n",
    "SUN_POS, _ = spice.spkpos(targ='SUN', et=ET_DATE, ref='ECLIPJ2000', abcorr='NONE', obs='EARTH')\n",
    "SUN_POS *= 1e3  # Convert to m\n",
    "s.setObjectPosition('sun', SUN_POS)\n",
    "\n",
    "MOON_POS, _ = spice.spkpos(targ='MOON', et=ET_DATE, ref='ECLIPJ2000', abcorr='NONE', obs='EARTH')\n",
    "MOON_POS *= 1e3  # Convert to m\n",
    "s.setObjectPosition('moon', MOON_POS)\n",
    "\n",
    "print(f\"Distance to Sun = {LA.norm(SUN_POS)/1e3:.0f}km\\nDistance to Moon = {LA.norm(MOON_POS)/1e3:.0f}km\")"
   ],
   "metadata": {
    "collapsed": false,
    "pycharm": {
     "name": "#%%\n"
    }
   }
  },
  {
   "cell_type": "code",
   "execution_count": null,
   "outputs": [],
   "source": [
    "# The following extracts all craters with the given parameters and returns their lat, long, psi (angle) in radians, and\n",
    "# major and minor axis in km.\n",
    "lat, long, major, minor, psi, crater_id = extract_robbins_dataset(\n",
    "    load_craters(\"../data/lunar_crater_database_robbins_2018.csv\", diamlims=[10, 80], ellipse_limit=1.1)\n",
    ")"
   ],
   "metadata": {
    "collapsed": false,
    "pycharm": {
     "name": "#%%\n"
    }
   }
  },
  {
   "cell_type": "code",
   "execution_count": null,
   "outputs": [],
   "source": [
    "### POSITION CAMERA\n",
    "height = 3000\n",
    "dist = R_moon + height\n",
    "\n",
    "p_Mi = np.array(spherical_to_cartesian(R_moon, lat, long)).T[:, :, None]\n",
    "r_M = np.array(spherical_to_cartesian(dist, np.radians(0), np.radians(0)))[:, None]\n",
    "dist = height / np.cos(np.radians(fov/2)*np.sqrt(2)*1.5)\n",
    "visible = (np.sqrt(np.sum(np.square(p_Mi - r_M), axis=1)) < dist).ravel()\n",
    "p_Mi = p_Mi[visible]\n",
    "r_M"
   ],
   "metadata": {
    "collapsed": false,
    "pycharm": {
     "name": "#%%\n"
    }
   }
  },
  {
   "cell_type": "code",
   "execution_count": null,
   "outputs": [],
   "source": [
    "### ROTATE CAMERA\n",
    "k = np.array([0., 0., 1.])[:, None]\n",
    "CAM_POS = MOON_POS + r_M.ravel()*1e3\n",
    "\n",
    "X_ax_cam, Y_ax_cam, Z_ax_cam = nadir_attitude(r_M)\n",
    "\n",
    "T_CM = np.concatenate((X_ax_cam, Y_ax_cam, Z_ax_cam), axis=-1)\n",
    "if LA.matrix_rank(T_CM) != 3:\n",
    "    raise ValueError(\"Invalid camera attitude matrix!\")\n",
    "\n",
    "# rot_mult = 0\n",
    "# s.setObjectAttitude('moon', R.from_euler('z', rot_mult*np.pi/2, degrees=False).as_quat())\n",
    "\n",
    "s.setObjectPosition('camera', CAM_POS)\n",
    "s.setObjectAttitude('camera', R.from_matrix(T_CM).as_quat())\n",
    "# look_at(s, CAM_POS, MOON_POS)\n",
    "\n",
    "s.render()\n",
    "im = s.getImageGray32F()\n",
    "fig, ax = plt.subplots(figsize=(10, 10))\n",
    "ax.imshow(im, aspect='equal', interpolation='none', cmap='Greys_r', origin='upper')\n",
    "ax.set_axis_off()\n",
    "# fig.savefig('output/surrender_example.png')"
   ],
   "metadata": {
    "collapsed": false,
    "pycharm": {
     "name": "#%%\n"
    }
   }
  },
  {
   "cell_type": "markdown",
   "source": [
    "### Mathematical Representation of a Crater\n",
    "Pages 20 - 25 from [Christian, J. A., Derksen, H., & Watkins, R. (2020). Lunar Crater Identification in Digital Images](http://arxiv.org/abs/2009.01228)\n",
    "\n",
    "#### Convert coordinates to 3D selenographic position\n",
    "`load_robbins_dataset` extracts all craters with the given parameters and returns their lat, long, psi (angle) in radians, and\n",
    "major and minor axis in kms.\n",
    "Filter dataset using latitude & longitude limits using `latlims` and `longlims` parameters.\n",
    "\n",
    "3D selenographic position is determined using their latitude $\\varphi$ & longitude $\\lambda$ along with distance\n",
    "from center $\\rho$:\n",
    "\n",
    "$\\rho_i \\begin{bmatrix}\n",
    "\\cos\\varphi_i\\cos\\lambda_i \\\\\n",
    "\\cos\\varphi_i\\sin\\lambda_i \\\\\n",
    "\\sin\\varphi_i\n",
    "\\end{bmatrix}$,"
   ],
   "metadata": {
    "collapsed": false
   }
  },
  {
   "cell_type": "markdown",
   "source": [
    "#### Define local ENU coordinate system per crater\n",
    "$ \\mathbf{u}_i = \\frac{\\mathbf{p}^{(c)}_{M_i}}{||\\mathbf{p}^{(c)}_{M_i}||} $,\n",
    "$ \\mathbf{e}_i = \\frac{\\mathbf{k} \\times \\mathbf{u}_i}{|| \\mathbf{k} \\times \\mathbf{u}_i ||} $,\n",
    "$ \\mathbf{n}_i = \\frac{\\mathbf{u}_i \\times \\mathbf{e}_i}{|| \\mathbf{u}_i \\times \\mathbf{e}_i ||} $,\n",
    "\n",
    "with $ k = \\begin{bmatrix} 0 & 0 & 1 \\end{bmatrix}^T $,\n",
    "\n",
    "results in attitude transformation matrix\n",
    "\n",
    "$ T^{E_i}_M = \\begin{bmatrix} \\mathbf{e}_i & \\mathbf{n}_i & \\mathbf{u}_i \\end{bmatrix} $"
   ],
   "metadata": {
    "collapsed": false
   }
  },
  {
   "cell_type": "code",
   "execution_count": null,
   "outputs": [],
   "source": [
    "T_EM = np.concatenate(ENU_system(p_Mi), axis=-1)"
   ],
   "metadata": {
    "collapsed": false,
    "pycharm": {
     "name": "#%%\n"
    }
   }
  },
  {
   "cell_type": "markdown",
   "source": [
    "#### Define relation between point in 2D ellipse plane and 3D selenographic frame\n",
    "\n",
    "$ H_{M_i} = \\begin{bmatrix}\n",
    "             T^{E_i}_M \\mathbf{S} &  \\mathbf{p}^{(c)}_{M_i}\n",
    "           \\end{bmatrix} $\n",
    "\n",
    "$ \\mathbf{S} = \\begin{bmatrix}\n",
    "                    \\mathbf{I}_{2\\times2} \\\\\n",
    "                    \\mathbf{0}_{1\\times2}\n",
    "                \\end{bmatrix}\n",
    "$"
   ],
   "metadata": {
    "collapsed": false,
    "pycharm": {
     "name": "#%% md\n"
    }
   }
  },
  {
   "cell_type": "code",
   "execution_count": null,
   "outputs": [],
   "source": [
    "S = np.concatenate((np.identity(2), np.zeros((1, 2))), axis=0)\n",
    "H_Mi = np.concatenate((T_EM @ S, p_Mi), axis=-1)"
   ],
   "metadata": {
    "collapsed": false,
    "pycharm": {
     "name": "#%%\n"
    }
   }
  },
  {
   "cell_type": "markdown",
   "source": [
    "### Homography and Action of a Projective Camera on a Crater Disk Quadric\n",
    "\n",
    "#### Define camera calibration matrix\n",
    "\n",
    "The conversion between image plane coordinates ($\\mathbf{\\bar{x}}_C$) and digital image pixel coordinates\n",
    "($\\mathbf{\\bar{u}}_C$) is described the following affine transformation:\n",
    "\n",
    "$ \\mathbf{K} = \\begin{bmatrix}\n",
    "    d_x & \\alpha & u_p \\\\\n",
    "    0   & d_y    & v_p \\\\\n",
    "    0   & 0      & 1\n",
    "\\end{bmatrix} $,\n",
    "\n",
    "$ \\mathbf{\\bar{u}}_C = \\mathbf{K} \\mathbf{\\bar{x}}_C$"
   ],
   "metadata": {
    "collapsed": false
   }
  },
  {
   "cell_type": "code",
   "execution_count": null,
   "outputs": [],
   "source": [
    "f_x = (N[0]/2) / np.tan(np.radians(fov)/2)\n",
    "f_y = (N[1]/2) / np.tan(np.radians(fov)/2)\n",
    "\n",
    "K = np.array([[f_x, 0,       N[0]/2],\n",
    "             [0,    f_y,     N[1]/2],\n",
    "             [0,    0,       1]])"
   ],
   "metadata": {
    "collapsed": false,
    "pycharm": {
     "name": "#%%\n"
    }
   }
  },
  {
   "cell_type": "markdown",
   "source": [
    "Using camera position in camera reference frame $C$  ($\\mathbf{r }_C$) and the camera attitude $\\mathbf{T}^M_C$ the camera projection matrix is as follows:\n",
    "\n",
    "$ \\mathbf{P}^M_C = \\mathbf{K} \\begin{bmatrix} \\mathbf{T}^M_C & -r_C \\end{bmatrix}$\n",
    "\n",
    "With this, the homography to project the crater's disk quadric into its apparent ellipse in the image plane is found:\n",
    "\n",
    "$ \\mathbf{H}_{C_i} =  \\mathbf{P}^M_C \\begin{bmatrix}H_{M_i} \\\\ k^T \\end{bmatrix} $\n",
    "\n",
    "Using the [matrix representation of an ellipse](https://en.wikipedia.org/wiki/Matrix_representation_of_conic_sections)\n",
    "the ellipse in the local crater plane $\\mathbf{C}_i$ can be transformed to the image plane:\n",
    "\n",
    "$ \\mathbf{A_i} \\propto \\mathbf{H}_{C_i}^{-T} \\mathbf{C}_i \\mathbf{H}_{C_i}^{-1} $"
   ],
   "metadata": {
    "collapsed": false,
    "pycharm": {
     "name": "#%% md\n"
    }
   }
  },
  {
   "cell_type": "code",
   "execution_count": null,
   "outputs": [],
   "source": [
    "T_MC = LA.inv(T_CM)\n",
    "r_C = T_MC @ r_M\n",
    "# P_MC = K @ np.concatenate((T_MC, -r_C), axis=1)\n",
    "P_MC = K @ T_MC @ np.concatenate((np.identity(3), -r_M), axis=1)\n",
    "H_Ci = P_MC @ np.concatenate((H_Mi, np.tile(k.T[None, ...], (len(H_Mi), 1, 1))), axis=1)\n",
    "\n",
    "C_i = crater_representation(major[visible], minor[visible], psi[visible])\n",
    "A_i =  LA.inv(H_Ci).transpose((0, 2, 1)) @ C_i @ LA.inv(H_Ci)"
   ],
   "metadata": {
    "collapsed": false,
    "pycharm": {
     "name": "#%%\n"
    }
   }
  },
  {
   "cell_type": "markdown",
   "source": [
    "#### Overlay output onto render"
   ],
   "metadata": {
    "collapsed": false,
    "pycharm": {
     "name": "#%% md\n"
    }
   }
  },
  {
   "cell_type": "code",
   "execution_count": null,
   "outputs": [],
   "source": [
    "# ax.set_axis_off()\n",
    "# fig.savefig('output/demonax_overlaid.png')"
   ],
   "metadata": {
    "collapsed": false,
    "pycharm": {
     "name": "#%%\n"
    }
   }
  },
  {
   "cell_type": "code",
   "execution_count": null,
   "outputs": [],
   "source": [
    "cam = Camera(r_M, T_CM, fov=fov, resolution=N)\n",
    "a_proj, b_proj = ellipse_axes(scale_det(A_i))\n",
    "psi_proj = ellipse_angle(scale_det(A_i))\n",
    "r_pix_proj = conic_center(scale_det(A_i))\n",
    "\n",
    "\n",
    "from matplotlib.collections import EllipseCollection\n",
    "fig, ax = plt.subplots(figsize=(15, 15), subplot_kw={'aspect': 'equal'})\n",
    "ax.imshow(im, aspect='equal', interpolation='none', cmap='gray')\n",
    "ec = EllipseCollection(2*a_proj, 2*b_proj, np.degrees(psi_proj), units='xy', offsets=r_pix_proj,\n",
    "                       transOffset=ax.transData, facecolors=\"None\", edgecolors='w')\n",
    "ax.add_collection(ec)\n",
    "ax.scatter(*cam.project_crater_centers(p_Mi).T, c='r', s=1.2, marker='x')\n",
    "\n",
    "ax.set_xlim(0, N[0])\n",
    "ax.set_ylim(N[1], 0)\n",
    "\n",
    "plt.show()"
   ],
   "metadata": {
    "collapsed": false,
    "pycharm": {
     "name": "#%%\n"
    }
   }
  },
  {
   "cell_type": "code",
   "execution_count": null,
   "outputs": [],
   "source": [],
   "metadata": {
    "collapsed": false,
    "pycharm": {
     "name": "#%%\n"
    }
   }
  }
 ],
 "metadata": {
  "kernelspec": {
   "name": "pycharm-ca2c6f67",
   "language": "python",
   "display_name": "PyCharm (crater-detection)"
  },
  "language_info": {
   "codemirror_mode": {
    "name": "ipython",
    "version": 3
   },
   "file_extension": ".py",
   "mimetype": "text/x-python",
   "name": "python",
   "nbconvert_exporter": "python",
   "pygments_lexer": "ipython3",
   "version": "3.7.6"
  }
 },
 "nbformat": 4,
 "nbformat_minor": 4
}