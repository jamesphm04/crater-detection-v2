{
 "cells": [
  {
   "cell_type": "code",
   "execution_count": null,
   "outputs": [],
   "source": [
    "import os\n",
    "from pathlib import Path\n",
    "import urllib\n",
    "\n",
    "import datetime\n",
    "import numpy as np\n",
    "from scipy.spatial.transform import Rotation as R\n",
    "from matplotlib import pyplot as plt\n",
    "import spiceypy as spice\n",
    "from PIL import Image\n",
    "import numpy.linalg as LA\n",
    "\n",
    "\n",
    "from surrender.geometry import vec3, vec4, quat, normalize, QuatToMat, MatToQuat, gaussian\n",
    "from surrender.surrender_client import surrender_client\n",
    "from craterdetection.matching.database import extract_robbins_dataset, load_craters\n",
    "from craterdetection.matching.projective_invariants import crater_representation, matrix_adjugate\n",
    "\n",
    "_BASE_URL = 'https://naif.jpl.nasa.gov/pub/naif/'\n",
    "_KERNEL_ROOT = Path('data/spice_kernels')\n",
    "\n",
    "# Constants:\n",
    "sun_radius = 696342000\n",
    "ua2km = 149597870.700\n",
    "ua = ua2km * 1000\n",
    "R_moon = 1737.4\n"
   ],
   "metadata": {
    "collapsed": false,
    "pycharm": {
     "name": "#%%\n"
    }
   }
  },
  {
   "cell_type": "code",
   "execution_count": null,
   "outputs": [],
   "source": [
    "def download_kernel(file_path, base_url=_BASE_URL, base_folder=_KERNEL_ROOT):\n",
    "    if isinstance(file_path, str):\n",
    "        file_path = Path(file_path)\n",
    "\n",
    "    local_path = base_folder / file_path\n",
    "    url = base_url + file_path.as_posix()\n",
    "\n",
    "    # Create necessary sub-directories in the DL_PATH direction\n",
    "    local_path.parent.mkdir(parents=True, exist_ok=True)\n",
    "\n",
    "    try:\n",
    "        # If the file is not present in the download directory -> download it\n",
    "        if not os.path.isfile(local_path):\n",
    "            print(f\"Downloading {url}\", end=\"  \")\n",
    "            # Download the file with the urllib  package\n",
    "            urllib.request.urlretrieve(str(url), str(local_path))\n",
    "            print(\"Done.\")\n",
    "        else:\n",
    "            print(f\"{base_folder / file_path} already exists!\")\n",
    "    except urllib.error.HTTPError as e:\n",
    "        print(f\"Error: \\n{url} could not be found: \", e)"
   ],
   "metadata": {
    "collapsed": false,
    "pycharm": {
     "name": "#%%\n"
    }
   }
  },
  {
   "cell_type": "code",
   "execution_count": null,
   "outputs": [],
   "source": [
    "kernels = list(map(Path, [\n",
    "    'generic_kernels/lsk/naif0012.tls',\n",
    "    'generic_kernels/pck/pck00010.tpc',\n",
    "    'pds/data/lro-l-spice-6-v1.0/lrosp_1000/data/spk/de421.bsp',\n",
    "    'pds/data/lro-l-spice-6-v1.0/lrosp_1000/data/pck/moon_pa_de421_1900_2050.bpc',\n",
    "    'pds/data/lro-l-spice-6-v1.0/lrosp_1000/data/fk/moon_assoc_pa.tf',\n",
    "    'pds/data/lro-l-spice-6-v1.0/lrosp_1000/data/fk/moon_080317.tf'\n",
    "]))"
   ],
   "metadata": {
    "collapsed": false,
    "pycharm": {
     "name": "#%%\n"
    }
   }
  },
  {
   "cell_type": "code",
   "execution_count": null,
   "outputs": [],
   "source": [
    "for k in kernels:\n",
    "    download_kernel(k)\n",
    "\n",
    "spice.furnsh(map(str, list(map(lambda x: _KERNEL_ROOT / x, kernels))))"
   ],
   "metadata": {
    "collapsed": false,
    "pycharm": {
     "name": "#%%\n"
    }
   }
  },
  {
   "cell_type": "code",
   "execution_count": null,
   "outputs": [],
   "source": [
    "# Image setup:\n",
    "fov = 45\n",
    "raytracing = True\n",
    "N = [1000, 1000]\n",
    "rays = 32\n",
    "\n",
    "# set PSF\n",
    "surech_PSF = 5\n",
    "sigma = 1\n",
    "wPSF = 5\n",
    "PSF = gaussian(wPSF * surech_PSF, sigma * surech_PSF)\n",
    "\n",
    "## Initializing SurRender\n",
    "s = surrender_client()\n",
    "s.setVerbosityLevel(2)\n",
    "s.connectToServer('127.0.0.1')\n",
    "s.setCompressionLevel(0)\n",
    "s.closeViewer()\n",
    "s.setTimeOut(86400)\n",
    "s.setShadowMapSize(4096)\n",
    "s.setCubeMapSize(4096)\n",
    "s.enableMultilateralFiltering(True)\n",
    "s.enablePreviewMode(True)\n",
    "s.enableDoublePrecisionMode(True)\n",
    "s.enableRaytracing(raytracing)\n",
    "\n",
    "s.setConventions(s.SCALAR_XYZ_CONVENTION, s.Z_FRONTWARD)\n",
    "s.setPSF(PSF, wPSF, wPSF)\n",
    "\n",
    "if raytracing:\n",
    "    s.enableFastPSFMode(False)\n",
    "    s.enableRaytracing(True)\n",
    "    s.enableIrradianceMode(False)\n",
    "    s.setNbSamplesPerPixel(rays)  # Raytracing\n",
    "    s.enableRegularPSFSampling(True)\n",
    "    s.enablePathTracing(False)\n",
    "else:\n",
    "    s.enableFastPSFMode(True)\n",
    "    s.enableRaytracing(False)\n",
    "    s.enableIrradianceMode(False)\n",
    "    s.enablePathTracing(False)\n",
    "\n",
    "s.createBRDF('sun', 'sun.brdf', {})\n",
    "s.createShape('sun', 'sphere.shp', {'radius': sun_radius})\n",
    "s.createBody('sun', 'sun', 'sun', [])\n",
    "\n",
    "s.createBRDF('hapke', 'hapke.brdf', {})\n",
    "s.createSphericalDEM('moon', 'Moon_LRO.dem', 'hapke', 'moon.jpg')\n",
    "s.setObjectElementBRDF('moon', 'moon', 'hapke')\n",
    "\n",
    "s.setCameraFOVDeg(fov, np.arctan(np.tan(fov / 360 * np.pi) * N[1] / N[0]) * 360 / np.pi)\n",
    "s.setImageSize(N[0], N[1])\n",
    "\n",
    "s.setSunPower(10 * ua * ua * np.pi * 5.2 * 5.2 * vec4(1, 1, 1, 1))"
   ],
   "metadata": {
    "collapsed": false,
    "pycharm": {
     "name": "#%%\n"
    }
   }
  },
  {
   "cell_type": "code",
   "execution_count": null,
   "outputs": [],
   "source": [
    "# convert the datetime to a string, replacing the time with midnight\n",
    "DATE = '2020-12-01T00:00:00'\n",
    "\n",
    "# convert the utc midnight string to the corresponding ET\n",
    "ET_DATE = spice.utc2et(DATE)"
   ],
   "metadata": {
    "collapsed": false,
    "pycharm": {
     "name": "#%%\n"
    }
   }
  },
  {
   "cell_type": "code",
   "execution_count": null,
   "outputs": [],
   "source": [
    "MOON_POS = vec3(0, 0, 0)\n",
    "\n",
    "SUN_POS_REL_MOON, _ = spice.spkpos(targ='SUN', et=ET_DATE, ref='ECLIPJ2000', abcorr='NONE', obs='MOON')\n",
    "SUN_POS_REL_MOON *= 1e3  # Convert to m\n",
    "\n",
    "EARTH_POS_REL_MOON, _ = spice.spkpos(targ='EARTH', et=ET_DATE, ref='ECLIPJ2000', abcorr='NONE', obs='MOON')\n",
    "EARTH_POS_REL_MOON *= 1e3  # Convert to m\n",
    "\n",
    "EARTH_ROT_REL_MOON = spice.pxform(\"MOON_PA\", \"IAU_EARTH\", ET_DATE)\n",
    "\n",
    "dist = R_moon*1e3 + 3000e3\n",
    "\n",
    "Rcam = np.eye(3)\n",
    "r = R.from_euler('y', 90, degrees=True)\n",
    "r = r * R.from_euler('z', -90, degrees=True)\n",
    "T_MC = r.as_matrix()\n",
    "Rcam = Rcam @ T_MC\n",
    "Xcam = np.array([-dist, 0, 0])\n",
    "s.setObjectPosition('camera', Xcam)\n",
    "s.setObjectAttitude('camera', MatToQuat(Rcam))\n",
    "s.setObjectPosition('sun', SUN_POS_REL_MOON)\n",
    "s.setObjectPosition('moon', MOON_POS)\n",
    "\n",
    "R_ast = np.eye(3)\n",
    "R_ast = QuatToMat(quat(vec3(0, 0, 1), np.pi / 2)) @ R_ast\n",
    "R_ast = QuatToMat(quat(vec3(1, 0, 0), (90 - 11) / 180 * np.pi)) @ R_ast\n",
    "R_ast = QuatToMat(quat(vec3(0, 1, 0), -0 - np.pi / 3)) @ R_ast\n",
    "s.setObjectAttitude('moon', MatToQuat(R_ast))\n",
    "\n",
    "s.render()\n",
    "im = s.getImageGray32F()\n",
    "fig, ax = plt.subplots(figsize=(10, 10))\n",
    "ax.imshow(im, aspect='equal', interpolation='none', cmap='gray')"
   ],
   "metadata": {
    "collapsed": false,
    "pycharm": {
     "name": "#%%\n"
    }
   }
  },
  {
   "cell_type": "code",
   "execution_count": null,
   "outputs": [],
   "source": [
    "lat, long, major, minor, psi, crater_id = extract_robbins_dataset(\n",
    "    load_craters(\"data/lunar_crater_database_robbins_2018.csv\", diamlims=[100, 500])\n",
    ")"
   ],
   "metadata": {
    "collapsed": false,
    "pycharm": {
     "name": "#%%\n"
    }
   }
  },
  {
   "cell_type": "markdown",
   "source": [
    "### Mathematical Representation of a Crater\n",
    "#### Convert coordinates to 3D selenographic position"
   ],
   "metadata": {
    "collapsed": false
   }
  },
  {
   "cell_type": "code",
   "execution_count": null,
   "outputs": [],
   "source": [
    "p_Mi = R_moon*np.array([\n",
    "    np.cos(lat)*np.cos(long),\n",
    "    np.cos(lat)*np.sin(long),\n",
    "    np.sin(lat)\n",
    "]).T[:, :, None]"
   ],
   "metadata": {
    "collapsed": false,
    "pycharm": {
     "name": "#%%\n"
    }
   }
  },
  {
   "cell_type": "markdown",
   "source": [
    "#### Define local ENU coordinate system"
   ],
   "metadata": {
    "collapsed": false
   }
  },
  {
   "cell_type": "code",
   "execution_count": null,
   "outputs": [],
   "source": [
    "k = np.array([0, 0, 1])[:, None]\n",
    "print(k.shape)\n",
    "\n",
    "u_i = p_Mi / R_moon\n",
    "\n",
    "e_i = np.cross(k.squeeze(), u_i.squeeze())[:, :, None]\n",
    "e_i /= LA.norm(e_i, ord=2, axis=(1,2))[:, None, None]\n",
    "\n",
    "n_i = np.cross(u_i.squeeze(), e_i.squeeze())[:, :, None]\n",
    "n_i /= LA.norm(n_i, ord=2, axis=(1,2))[:, None, None]\n",
    "\n",
    "T_EM = np.moveaxis(np.array([e_i, n_i, u_i]), 0, 1).squeeze()"
   ],
   "metadata": {
    "collapsed": false,
    "pycharm": {
     "name": "#%%\n"
    }
   }
  },
  {
   "cell_type": "code",
   "execution_count": null,
   "outputs": [],
   "source": [
    "planes = np.concatenate([u_i, -R_moon*np.ones(p_Mi.shape[0])[:, None, None]], axis=1)\n",
    "S = np.concatenate((np.identity(2), np.zeros((1, 2))), axis=0)"
   ],
   "metadata": {
    "collapsed": false,
    "pycharm": {
     "name": "#%%\n"
    }
   }
  },
  {
   "cell_type": "code",
   "execution_count": null,
   "outputs": [],
   "source": [
    "H_Mi = np.concatenate((T_EM @ S, p_Mi), axis=-1)"
   ],
   "metadata": {
    "collapsed": false,
    "pycharm": {
     "name": "#%%\n"
    }
   }
  },
  {
   "cell_type": "code",
   "execution_count": null,
   "outputs": [],
   "source": [
    "x_quadric = np.concatenate((H_Mi, np.tile(k.T, (p_Mi.shape[0], 1, 1))), axis=1)"
   ],
   "metadata": {
    "collapsed": false,
    "pycharm": {
     "name": "#%%\n"
    }
   }
  },
  {
   "cell_type": "code",
   "execution_count": null,
   "outputs": [],
   "source": [
    "C = crater_representation(0, 0, major, minor, psi)\n",
    "C_star = matrix_adjugate(C)"
   ],
   "metadata": {
    "collapsed": false,
    "pycharm": {
     "name": "#%%\n"
    }
   }
  },
  {
   "cell_type": "code",
   "execution_count": null,
   "outputs": [],
   "source": [
    "Q_star = x_quadric @ C_star @ x_quadric.transpose(0, 2, 1)"
   ],
   "metadata": {
    "collapsed": false,
    "pycharm": {
     "name": "#%%\n"
    }
   }
  },
  {
   "cell_type": "markdown",
   "source": [
    "### Homography and Action of a Projective Camera on a Crater Disk Quadric"
   ],
   "metadata": {
    "collapsed": false
   }
  },
  {
   "cell_type": "code",
   "execution_count": null,
   "outputs": [],
   "source": [
    "# f_x = 500 / np.tan(np.radians(fov) / 2)\n",
    "# f_y = 500 / np.tan(np.radians(fov) / 2)\n",
    "\n",
    "f_x = (N[0]/2) / np.tan(np.radians(fov)/2)\n",
    "f_y = f_x\n",
    "\n",
    "K = np.array([[f_x, 0,       0],\n",
    "             [0,    f_y,     0],\n",
    "             [0,    0,       1]])\n",
    "\n",
    "P_MC = K @ T_MC @ np.concatenate((np.identity(3), -Xcam[:, None]/1e3), axis=1)\n",
    "A_i_star = P_MC @ Q_star @ P_MC.T\n",
    "\n",
    "H_Ci = P_MC @ np.concatenate((H_Mi, np.tile(k.T[None, :, :], (len(H_Mi), 1, 1))), axis=1)\n",
    "\n",
    "C_i = crater_representation(0, 0, major, minor, psi)\n",
    "A_i = LA.inv(H_Ci.transpose(0, 2, 1)) @ C_i @ LA.inv(H_Ci)\n",
    "\n",
    "def ellipse_from_matrix(x, y, matrix):\n",
    "    A_ = matrix[0, 0]\n",
    "    C_ = matrix[1, 1]\n",
    "    G_ = matrix[2, 2]\n",
    "    B_ = 2*matrix[1, 0]\n",
    "    D_ = 2*matrix[2, 0]\n",
    "    F_ = 2*matrix[2, 1]\n",
    "    return A_*(x**2) + B_*x*y + C_*(y**2) + D_*x + F_*y + G_\n",
    "x_plot = np.linspace(-5e4, 5e4, 500)\n",
    "y_plot = np.linspace(-5e4, 5e4, 500)\n",
    "x_plot, y_plot = np.meshgrid(x_plot, y_plot)\n",
    "\n",
    "fig, ax = plt.subplots(figsize=(20,20), subplot_kw={'aspect': 'equal'})\n",
    "for A_ii in A_i[:100]:\n",
    "    ax.contour(x_plot, y_plot, ellipse_from_matrix(x_plot, y_plot, A_ii), [0])"
   ],
   "metadata": {
    "collapsed": false,
    "pycharm": {
     "name": "#%%\n"
    }
   }
  },
  {
   "cell_type": "code",
   "execution_count": null,
   "outputs": [],
   "source": [
    "np.concatenate((np.identity(3), -Xcam[:, None]/1e3), axis=1)\n"
   ],
   "metadata": {
    "collapsed": false,
    "pycharm": {
     "name": "#%%\n"
    }
   }
  },
  {
   "cell_type": "code",
   "execution_count": null,
   "outputs": [],
   "source": [],
   "metadata": {
    "collapsed": false,
    "pycharm": {
     "name": "#%%\n"
    }
   }
  }
 ],
 "metadata": {
  "kernelspec": {
   "display_name": "Python 3",
   "language": "python",
   "name": "python3"
  },
  "language_info": {
   "codemirror_mode": {
    "name": "ipython",
    "version": 3
   },
   "file_extension": ".py",
   "mimetype": "text/x-python",
   "name": "python",
   "nbconvert_exporter": "python",
   "pygments_lexer": "ipython3",
   "version": "3.7.6"
  }
 },
 "nbformat": 4,
 "nbformat_minor": 4
}