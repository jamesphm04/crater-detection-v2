{
 "cells": [
  {
   "cell_type": "code",
   "execution_count": 1,
   "metadata": {
    "collapsed": true
   },
   "outputs": [],
   "source": [
    "import datetime as dt\n",
    "import os\n",
    "import urllib\n",
    "from pathlib import Path\n",
    "import h5py\n",
    "\n",
    "import matplotlib.pyplot as plt\n",
    "import numpy as np\n",
    "import spiceypy as spice\n",
    "from IPython.display import display, clear_output\n",
    "from astropy.coordinates import spherical_to_cartesian\n",
    "from scipy.spatial.distance import cdist\n",
    "from scipy.spatial.transform import Rotation as R\n",
    "from surrender.geometry import vec3, quat\n",
    "\n",
    "import craterdetection.common.constants as const\n",
    "from craterdetection.common.camera import Camera\n",
    "from craterdetection.common.conics import generate_mask, crater_representation, ellipse_axes\n",
    "from craterdetection.common.coordinates import suborbital_coords\n",
    "from craterdetection.common.spice import get_sol_incidence, get_sun_pos, get_earth_pos\n",
    "from craterdetection.common.surrender import setup_renderer\n",
    "from craterdetection.matching.database import extract_robbins_dataset, load_craters"
   ]
  },
  {
   "cell_type": "code",
   "execution_count": 2,
   "outputs": [
    {
     "name": "stdout",
     "output_type": "stream",
     "text": [
      "..\\data\\spice_kernels\\generic_kernels\\lsk\\naif0012.tls already exists!\n",
      "..\\data\\spice_kernels\\generic_kernels\\pck\\pck00010.tpc already exists!\n",
      "..\\data\\spice_kernels\\pds\\data\\lro-l-spice-6-v1.0\\lrosp_1000\\data\\spk\\de421.bsp already exists!\n",
      "..\\data\\spice_kernels\\pds\\data\\lro-l-spice-6-v1.0\\lrosp_1000\\data\\pck\\moon_pa_de421_1900_2050.bpc already exists!\n",
      "..\\data\\spice_kernels\\pds\\data\\lro-l-spice-6-v1.0\\lrosp_1000\\data\\fk\\moon_assoc_pa.tf already exists!\n",
      "..\\data\\spice_kernels\\pds\\data\\lro-l-spice-6-v1.0\\lrosp_1000\\data\\fk\\moon_080317.tf already exists!\n",
      "Surrender Python Client\n",
      "code revision : c17439eea9ae041bf49364d67a2a232fc89c1faa\n",
      "error connecting to 127.0.0.1 : Connection refused\n",
      "error: you must connect to a server before sending commands.\n"
     ]
    },
    {
     "ename": "RuntimeError",
     "evalue": "error: you must connect to a server before sending commands.\n",
     "output_type": "error",
     "traceback": [
      "\u001B[1;31m---------------------------------------------------------------------------\u001B[0m",
      "\u001B[1;31mRuntimeError\u001B[0m                              Traceback (most recent call last)",
      "\u001B[1;32m<ipython-input-2-ddc91f01b020>\u001B[0m in \u001B[0;36m<module>\u001B[1;34m\u001B[0m\n\u001B[0;32m     37\u001B[0m \u001B[1;33m\u001B[0m\u001B[0m\n\u001B[0;32m     38\u001B[0m \u001B[0mspice\u001B[0m\u001B[1;33m.\u001B[0m\u001B[0mfurnsh\u001B[0m\u001B[1;33m(\u001B[0m\u001B[0mlist\u001B[0m\u001B[1;33m(\u001B[0m\u001B[0mmap\u001B[0m\u001B[1;33m(\u001B[0m\u001B[1;32mlambda\u001B[0m \u001B[0mx\u001B[0m\u001B[1;33m:\u001B[0m \u001B[0mstr\u001B[0m\u001B[1;33m(\u001B[0m\u001B[0m_KERNEL_ROOT\u001B[0m \u001B[1;33m/\u001B[0m \u001B[0mx\u001B[0m\u001B[1;33m)\u001B[0m\u001B[1;33m,\u001B[0m \u001B[0mkernels\u001B[0m\u001B[1;33m)\u001B[0m\u001B[1;33m)\u001B[0m\u001B[1;33m)\u001B[0m\u001B[1;33m\u001B[0m\u001B[1;33m\u001B[0m\u001B[0m\n\u001B[1;32m---> 39\u001B[1;33m \u001B[0ms\u001B[0m \u001B[1;33m=\u001B[0m \u001B[0msetup_renderer\u001B[0m\u001B[1;33m(\u001B[0m\u001B[1;33m)\u001B[0m\u001B[1;33m\u001B[0m\u001B[1;33m\u001B[0m\u001B[0m\n\u001B[0m\u001B[0;32m     40\u001B[0m \u001B[1;33m\u001B[0m\u001B[0m\n",
      "\u001B[1;32mC:\\dev\\workspace\\crater-detection\\craterdetection\\common\\surrender.py\u001B[0m in \u001B[0;36msetup_renderer\u001B[1;34m(fov, raytracing, preview_mode, resolution)\u001B[0m\n\u001B[0;32m     30\u001B[0m     \u001B[0ms\u001B[0m\u001B[1;33m.\u001B[0m\u001B[0msetVerbosityLevel\u001B[0m\u001B[1;33m(\u001B[0m\u001B[1;36m2\u001B[0m\u001B[1;33m)\u001B[0m\u001B[1;33m\u001B[0m\u001B[1;33m\u001B[0m\u001B[0m\n\u001B[0;32m     31\u001B[0m     \u001B[0ms\u001B[0m\u001B[1;33m.\u001B[0m\u001B[0mconnectToServer\u001B[0m\u001B[1;33m(\u001B[0m\u001B[1;34m'127.0.0.1'\u001B[0m\u001B[1;33m)\u001B[0m\u001B[1;33m\u001B[0m\u001B[1;33m\u001B[0m\u001B[0m\n\u001B[1;32m---> 32\u001B[1;33m     \u001B[0ms\u001B[0m\u001B[1;33m.\u001B[0m\u001B[0msetCompressionLevel\u001B[0m\u001B[1;33m(\u001B[0m\u001B[1;36m0\u001B[0m\u001B[1;33m)\u001B[0m\u001B[1;33m\u001B[0m\u001B[1;33m\u001B[0m\u001B[0m\n\u001B[0m\u001B[0;32m     33\u001B[0m     \u001B[0ms\u001B[0m\u001B[1;33m.\u001B[0m\u001B[0mcloseViewer\u001B[0m\u001B[1;33m(\u001B[0m\u001B[1;33m)\u001B[0m\u001B[1;33m\u001B[0m\u001B[1;33m\u001B[0m\u001B[0m\n\u001B[0;32m     34\u001B[0m     \u001B[0ms\u001B[0m\u001B[1;33m.\u001B[0m\u001B[0msetTimeOut\u001B[0m\u001B[1;33m(\u001B[0m\u001B[1;36m86400\u001B[0m\u001B[1;33m)\u001B[0m\u001B[1;33m\u001B[0m\u001B[1;33m\u001B[0m\u001B[0m\n",
      "\u001B[1;32m~\\miniconda3\\envs\\crater-detection\\lib\\site-packages\\surrender\\surrender_client_base.py\u001B[0m in \u001B[0;36msetCompressionLevel\u001B[1;34m(self, lvl)\u001B[0m\n\u001B[0;32m    187\u001B[0m         \u001B[0mSet\u001B[0m \u001B[0mthe\u001B[0m \u001B[0mcompression\u001B[0m \u001B[0mlevel\u001B[0m \u001B[1;32mfor\u001B[0m \u001B[0mimage\u001B[0m \u001B[0mtransfer\u001B[0m\u001B[1;33m.\u001B[0m \u001B[0mRanges\u001B[0m \u001B[1;32mfrom\u001B[0m \u001B[1;36m0\u001B[0m \u001B[0mto\u001B[0m \u001B[1;36m9\u001B[0m\u001B[1;33m,\u001B[0m \u001B[1;36m0\u001B[0m \u001B[0mmeans\u001B[0m \u001B[0mno\u001B[0m \u001B[0mcompression\u001B[0m \u001B[1;32mand\u001B[0m \u001B[1;36m9\u001B[0m \u001B[0mmeans\u001B[0m \u001B[0mmaximum\u001B[0m \u001B[0mcompression\u001B[0m\u001B[1;33m.\u001B[0m \u001B[0mDefault\u001B[0m \u001B[0mvalue\u001B[0m \u001B[1;32mis\u001B[0m \u001B[1;36m3\u001B[0m \u001B[0mwhen\u001B[0m \u001B[0mserver\u001B[0m \u001B[1;32mis\u001B[0m \u001B[0mon\u001B[0m \u001B[0ma\u001B[0m \u001B[0mdifferent\u001B[0m \u001B[0mcomputer\u001B[0m\u001B[1;33m,\u001B[0m \u001B[1;36m0\u001B[0m \u001B[0motherwise\u001B[0m\u001B[1;33m.\u001B[0m\u001B[1;33m\u001B[0m\u001B[1;33m\u001B[0m\u001B[0m\n\u001B[0;32m    188\u001B[0m         \"\"\"\n\u001B[1;32m--> 189\u001B[1;33m         \u001B[0mself\u001B[0m\u001B[1;33m.\u001B[0m\u001B[0m_check_connection\u001B[0m\u001B[1;33m(\u001B[0m\u001B[1;33m)\u001B[0m\u001B[1;33m;\u001B[0m\u001B[1;33m\u001B[0m\u001B[1;33m\u001B[0m\u001B[0m\n\u001B[0m\u001B[0;32m    190\u001B[0m         params = {\n\u001B[0;32m    191\u001B[0m             \u001B[1;34m\"compression_level\"\u001B[0m \u001B[1;33m:\u001B[0m \u001B[0mint\u001B[0m\u001B[1;33m(\u001B[0m\u001B[0mlvl\u001B[0m\u001B[1;33m)\u001B[0m\u001B[1;33m,\u001B[0m\u001B[1;33m\u001B[0m\u001B[1;33m\u001B[0m\u001B[0m\n",
      "\u001B[1;32m~\\miniconda3\\envs\\crater-detection\\lib\\site-packages\\surrender\\surrender_client_base.py\u001B[0m in \u001B[0;36m_check_connection\u001B[1;34m(self)\u001B[0m\n\u001B[0;32m    492\u001B[0m         \u001B[1;32mif\u001B[0m \u001B[1;32mnot\u001B[0m \u001B[0mself\u001B[0m\u001B[1;33m.\u001B[0m\u001B[0misConnected\u001B[0m\u001B[1;33m(\u001B[0m\u001B[1;33m)\u001B[0m\u001B[1;33m:\u001B[0m\u001B[1;33m\u001B[0m\u001B[1;33m\u001B[0m\u001B[0m\n\u001B[0;32m    493\u001B[0m             \u001B[0mself\u001B[0m\u001B[1;33m.\u001B[0m\u001B[0m_printError\u001B[0m\u001B[1;33m(\u001B[0m\u001B[1;34m\"error: you must connect to a server before sending commands.\\n\"\u001B[0m\u001B[1;33m)\u001B[0m\u001B[1;33m;\u001B[0m\u001B[1;33m\u001B[0m\u001B[1;33m\u001B[0m\u001B[0m\n\u001B[1;32m--> 494\u001B[1;33m             \u001B[1;32mraise\u001B[0m \u001B[0mRuntimeError\u001B[0m\u001B[1;33m(\u001B[0m\u001B[1;34m\"error: you must connect to a server before sending commands.\\n\"\u001B[0m\u001B[1;33m)\u001B[0m\u001B[1;33m;\u001B[0m\u001B[1;33m\u001B[0m\u001B[1;33m\u001B[0m\u001B[0m\n\u001B[0m\u001B[0;32m    495\u001B[0m \u001B[1;33m\u001B[0m\u001B[0m\n\u001B[0;32m    496\u001B[0m     \u001B[1;32mdef\u001B[0m \u001B[0m_read_return\u001B[0m\u001B[1;33m(\u001B[0m\u001B[0mself\u001B[0m\u001B[1;33m,\u001B[0m \u001B[0mCOMMAND_ID\u001B[0m\u001B[1;33m)\u001B[0m\u001B[1;33m:\u001B[0m\u001B[1;33m\u001B[0m\u001B[1;33m\u001B[0m\u001B[0m\n",
      "\u001B[1;31mRuntimeError\u001B[0m: error: you must connect to a server before sending commands.\n"
     ]
    }
   ],
   "source": [
    "_BASE_URL = 'https://naif.jpl.nasa.gov/pub/naif/'\n",
    "_KERNEL_ROOT = Path('../data/spice_kernels')\n",
    "def download_kernel(file_path, base_url=_BASE_URL, base_folder=_KERNEL_ROOT):\n",
    "    if isinstance(file_path, str):\n",
    "        file_path = Path(file_path)\n",
    "\n",
    "    local_path = base_folder / file_path\n",
    "    url = base_url + file_path.as_posix()\n",
    "\n",
    "    # Create necessary sub-directories in the DL_PATH direction\n",
    "    local_path.parent.mkdir(parents=True, exist_ok=True)\n",
    "\n",
    "    try:\n",
    "        # If the file is not present in the download directory -> download it\n",
    "        if not os.path.isfile(local_path):\n",
    "            print(f\"Downloading {url}\", end=\"  \")\n",
    "            # Download the file with the urllib  package\n",
    "            urllib.request.urlretrieve(str(url), str(local_path))\n",
    "            print(\"Done.\")\n",
    "        else:\n",
    "            print(f\"{base_folder / file_path} already exists!\")\n",
    "    except urllib.error.HTTPError as e:\n",
    "        print(f\"Error: \\n{url} could not be found: \", e)\n",
    "\n",
    "kernels_ = [\n",
    "               'generic_kernels/lsk/naif0012.tls',\n",
    "               'generic_kernels/pck/pck00010.tpc',\n",
    "               'pds/data/lro-l-spice-6-v1.0/lrosp_1000/data/spk/de421.bsp',\n",
    "               'pds/data/lro-l-spice-6-v1.0/lrosp_1000/data/pck/moon_pa_de421_1900_2050.bpc',\n",
    "               'pds/data/lro-l-spice-6-v1.0/lrosp_1000/data/fk/moon_assoc_pa.tf',\n",
    "               'pds/data/lro-l-spice-6-v1.0/lrosp_1000/data/fk/moon_080317.tf'\n",
    "           ]\n",
    "kernels = list(map(Path, kernels_))\n",
    "\n",
    "for k in kernels:\n",
    "    download_kernel(k)\n",
    "\n",
    "spice.furnsh(list(map(lambda x: str(_KERNEL_ROOT / x), kernels)))\n",
    "s = setup_renderer()"
   ],
   "metadata": {
    "collapsed": false,
    "pycharm": {
     "name": "#%%\n"
    }
   }
  },
  {
   "cell_type": "code",
   "execution_count": null,
   "outputs": [],
   "source": [
    "# Constants:\n",
    "sun_radius = 696342000\n",
    "earth_radius = 6371e3\n",
    "ua2km = 149597870.700\n",
    "ua = ua2km * 1e3\n",
    "R_moon = 1737.4\n",
    "\n",
    "s.createBRDF('sun', 'sun.brdf', {})\n",
    "s.createShape('sun', 'sphere.shp', {'radius': sun_radius})\n",
    "s.createBody('sun', 'sun', 'sun', [])\n",
    "\n",
    "s.createBRDF(\"mate\", \"mate.brdf\", {})\n",
    "s.createShape(\"earth_shape\", \"sphere.shp\", {'radius': earth_radius})\n",
    "s.createBody(\"earth\", \"earth_shape\", \"mate\", [\"earth.jpg\"])\n",
    "\n",
    "s.createBRDF('hapke', 'hapke.brdf', {})\n",
    "s.createSphericalDEM('moon', 'FullMoon.dem', 'hapke', 'lroc_color_poles.tiff')\n",
    "s.setObjectElementBRDF('moon', 'moon', 'hapke')\n",
    "s.setObjectAttitude('moon', np.array([0, 0, 0, 1]))\n",
    "\n",
    "s.setObjectPosition('moon', (0, 0, 0))\n",
    "s.setObjectAttitude('moon', quat(vec3(1, 0, 0), 0))\n",
    "s.setObjectAttitude('moon', R.from_euler('z', np.pi, degrees=False).as_quat())"
   ],
   "metadata": {
    "collapsed": false,
    "pycharm": {
     "name": "#%%\n"
    }
   }
  },
  {
   "cell_type": "code",
   "execution_count": null,
   "outputs": [],
   "source": [
    "def generate_dataset(size,\n",
    "                     axis_threshold=(5, 100),\n",
    "                     resolution=const.CAMERA_RESOLUTION,\n",
    "                     min_sol_incidence=0,\n",
    "                     max_sol_incidence=85,\n",
    "                     filled=False,\n",
    "                     ellipse_limit=1.4,\n",
    "                     arc_lims=0.85,\n",
    "                     diamlims=(1, 200),\n",
    "                     instancing=False,\n",
    "                     randomized_orientation=True\n",
    "                     ):\n",
    "    lat_cat, long_cat, major_cat, minor_cat, psi_cat, crater_id = extract_robbins_dataset(\n",
    "        load_craters(\"../data/lunar_crater_database_robbins_2018.csv\", diamlims=diamlims, ellipse_limit=ellipse_limit, arc_lims=arc_lims)\n",
    "    )\n",
    "    r_craters_cat = np.array(np.array(spherical_to_cartesian(const.RMOON, lat_cat, long_cat))).T[..., None]\n",
    "    C_craters_cat = crater_representation(major_cat, minor_cat, psi_cat)\n",
    "\n",
    "    images_dataset = np.empty((size, 1, *resolution), np.float32)\n",
    "    if instancing:\n",
    "        masks_dataset = np.empty((size, 1, *resolution), np.int16)\n",
    "    else:\n",
    "        masks_dataset = np.empty((size, 1, *resolution), np.bool_)\n",
    "    position_dataset = np.empty((size, 3, 1), np.float64)\n",
    "    attitude_dataset = np.empty((size, 3, 3), np.float64)\n",
    "    sol_incidence_dataset = np.empty((size, 1), np.float16)\n",
    "    date_dataset = np.empty((size, 3), int)\n",
    "\n",
    "    s.setImageSize(*resolution)\n",
    "    for i in range(size):\n",
    "        date = dt.date(2021, np.random.randint(1, 12), 1)\n",
    "        date_dataset[i] = np.array((date.year, date.month, date.day))\n",
    "        sun_pos, _ = get_sun_pos(date)\n",
    "        earth_pos, _ = get_earth_pos(date)\n",
    "\n",
    "        s.setObjectPosition('earth', earth_pos*1e3)\n",
    "        s.setObjectPosition('sun', sun_pos*1e3)\n",
    "        sol_incidence = np.inf\n",
    "\n",
    "        while not (min_sol_incidence <= sol_incidence <= max_sol_incidence):\n",
    "            lat = np.random.random()*180 - 90\n",
    "            long = np.random.random()*360 - 180\n",
    "            cam_alt = np.random.randint(150, 250)\n",
    "            cam = Camera.from_coordinates(lat,\n",
    "                                          long,\n",
    "                                          cam_alt,\n",
    "                                          convert_to_radians=True,\n",
    "                                          resolution=resolution\n",
    "                                          )\n",
    "\n",
    "            r_ilumin = suborbital_coords(cam.r).ravel()\n",
    "            sol_incidence = get_sol_incidence(date, r_ilumin)\n",
    "\n",
    "        # save cam.r, sol_incidence\n",
    "        position_dataset[i] = cam.r\n",
    "        sol_incidence_dataset[i] = sol_incidence\n",
    "\n",
    "        if randomized_orientation:\n",
    "            # Rotations are incremental (order matters)\n",
    "            cam.rotate('roll', np.random.random()*360 - 180)\n",
    "            cam.rotate('pitch', np.random.random()*60 - 30)\n",
    "            cam.rotate('yaw', np.random.random()*60 - 30)\n",
    "\n",
    "        # save cam.T\n",
    "        attitude_dataset[i] = cam.T\n",
    "\n",
    "        s.setObjectPosition('camera', cam.r.ravel()*1e3)\n",
    "        s.setObjectAttitude('camera', R.from_matrix(cam.T).as_quat())\n",
    "\n",
    "        visible = (cdist(r_craters_cat.squeeze(), cam.r.T) <= np.sqrt(2 * cam_alt * const.RMOON + cam_alt**2)).ravel()\n",
    "        r_craters = r_craters_cat[visible]\n",
    "        C_craters = C_craters_cat[visible]\n",
    "\n",
    "        r_craters_img = cam.project_crater_centers(r_craters)\n",
    "        in_image = np.logical_and.reduce(np.logical_and(r_craters_img > -20, r_craters_img < cam.resolution[0]+20), axis=1)\n",
    "\n",
    "        r_craters = r_craters[in_image]\n",
    "        C_craters = C_craters[in_image]\n",
    "\n",
    "        A_craters = cam.project_crater_conics(C_craters, r_craters)\n",
    "\n",
    "        a_proj, b_proj = ellipse_axes(A_craters)\n",
    "        axis_filter = np.logical_and(a_proj >= axis_threshold[0], b_proj >= axis_threshold[0])\n",
    "        axis_filter = np.logical_and(axis_filter, np.logical_and(a_proj <= axis_threshold[1], b_proj <= axis_threshold[1]))\n",
    "        A_craters = A_craters[axis_filter]\n",
    "        mask = generate_mask(A_craters, cam.resolution, filled=filled, instancing=instancing)\n",
    "\n",
    "        masks_dataset[i] = mask[None, None, ...]\n",
    "\n",
    "        s.render()\n",
    "        image = s.getImageGray32F()\n",
    "\n",
    "        images_dataset[i] = image[None, None, ...]\n",
    "        if 100*((i+1) / size) % 10 == 0:\n",
    "            print(' ... ', end='')\n",
    "            print(f\"[{(i+1) / size:.0%}]\", end='')\n",
    "    print()\n",
    "    return images_dataset, masks_dataset, position_dataset, attitude_dataset, date_dataset, sol_incidence_dataset\n"
   ],
   "metadata": {
    "collapsed": false,
    "pycharm": {
     "name": "#%%\n"
    }
   }
  },
  {
   "cell_type": "code",
   "execution_count": null,
   "outputs": [],
   "source": [
    "ellipse_limit = 1.1\n",
    "arc_lims = 0.3\n",
    "diamlims = (2, 150)\n",
    "axis_threshold = (4, 40)\n",
    "min_sol_incidence = 20\n",
    "max_sol_incidence = 60\n",
    "resolution = (256, 256)\n",
    "training_dset_size = 10000\n",
    "validation_dset_size = 1000\n",
    "test_dset_size = 1000\n",
    "filled = True\n",
    "instancing = True\n",
    "randomized_orientation = True"
   ],
   "metadata": {
    "collapsed": false,
    "pycharm": {
     "name": "#%%\n"
    }
   }
  },
  {
   "cell_type": "code",
   "execution_count": null,
   "outputs": [],
   "source": [
    "n_demo = 20\n",
    "images, mask, _, _, _, _ = generate_dataset(n_demo,\n",
    "                                                        min_sol_incidence=min_sol_incidence,\n",
    "                                                        resolution=resolution,\n",
    "                                                        axis_threshold=axis_threshold,\n",
    "                                                        ellipse_limit=ellipse_limit,\n",
    "                                                        filled=filled,\n",
    "                                                        instancing=instancing,\n",
    "                                                        arc_lims=arc_lims,\n",
    "                                                        randomized_orientation=randomized_orientation\n",
    "                                                        )\n",
    "fig, axes = plt.subplots(n_demo, 2, figsize=(10, 5*n_demo))\n",
    "for i in range(n_demo):\n",
    "    axes[i, 0].imshow(images[i, 0], cmap='Greys_r')\n",
    "    axes[i, 1].imshow(mask[i, 0], cmap='Greys_r')"
   ],
   "metadata": {
    "collapsed": false,
    "pycharm": {
     "name": "#%%\n"
    }
   }
  },
  {
   "cell_type": "code",
   "execution_count": null,
   "outputs": [],
   "source": [
    "with h5py.File(\"../data/dataset_instanced.h5\", 'w') as hf:\n",
    "    g_header = hf.create_group(\"header\")\n",
    "    g_header.create_dataset('ellipse_limit', data=ellipse_limit)\n",
    "    g_header.create_dataset('arc_lims', data=arc_lims)\n",
    "    g_header.create_dataset('diam_lims', data=diamlims)\n",
    "    g_header.create_dataset('axis_lims', data=axis_threshold)\n",
    "    g_header.create_dataset('min_sol_incidence', data=min_sol_incidence)\n",
    "    g_header.create_dataset('resolution', data=resolution)\n",
    "\n",
    "    for group_name, dset_size in zip(\n",
    "            (\"training\", \"validation\", \"test\"),\n",
    "            (training_dset_size, validation_dset_size, test_dset_size)\n",
    "        ):\n",
    "        print(f\"Creating dataset '{group_name}' @ {dset_size} images\")\n",
    "        group = hf.create_group(group_name)\n",
    "\n",
    "        (\n",
    "            images,\n",
    "            masks,\n",
    "            position,\n",
    "            attitude,\n",
    "            date,\n",
    "            sol_incidence\n",
    "        ) = generate_dataset(dset_size,\n",
    "                             min_sol_incidence=min_sol_incidence,\n",
    "                             resolution=resolution,\n",
    "                             axis_threshold=axis_threshold,\n",
    "                             ellipse_limit=ellipse_limit,\n",
    "                             filled=filled,\n",
    "                             instancing=instancing,\n",
    "                             arc_lims=arc_lims,\n",
    "                             randomized_orientation=randomized_orientation)\n",
    "        for ds, name in zip(\n",
    "                (images, masks, position, attitude, date, sol_incidence),\n",
    "                (\"images\", \"masks\", \"position\", \"attitude\", \"date\", \"sol_incidence\")\n",
    "            ):\n",
    "\n",
    "            group.create_dataset(name, data=ds)\n"
   ],
   "metadata": {
    "collapsed": false,
    "pycharm": {
     "name": "#%%\n"
    }
   }
  },
  {
   "cell_type": "code",
   "execution_count": null,
   "outputs": [],
   "source": [],
   "metadata": {
    "collapsed": false,
    "pycharm": {
     "name": "#%%\n"
    }
   }
  }
 ],
 "metadata": {
  "kernelspec": {
   "name": "pycharm-ca2c6f67",
   "language": "python",
   "display_name": "PyCharm (crater-detection)"
  },
  "language_info": {
   "codemirror_mode": {
    "name": "ipython",
    "version": 2
   },
   "file_extension": ".py",
   "mimetype": "text/x-python",
   "name": "python",
   "nbconvert_exporter": "python",
   "pygments_lexer": "ipython2",
   "version": "2.7.6"
  }
 },
 "nbformat": 4,
 "nbformat_minor": 0
}