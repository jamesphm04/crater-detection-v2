{
 "cells": [
  {
   "cell_type": "code",
   "execution_count": 1,
   "outputs": [],
   "source": [
    "from functools import partial\n",
    "from itertools import combinations, repeat\n",
    "\n",
    "from craterdetection.matching.database import CraterDatabase, load_craters, extract_robbins_dataset, crater_representation, CoplanarInvariants\n",
    "from astropy.coordinates import spherical_to_cartesian, cartesian_to_spherical\n",
    "from craterdetection.common.coordinates import ENU_system, nadir_attitude\n",
    "from craterdetection.common.camera import *\n",
    "import craterdetection.common.constants as const\n",
    "\n",
    "import matplotlib.pyplot as plt\n",
    "import numpy as np\n",
    "import numpy.linalg as LA\n",
    "import networkx as nx\n",
    "import sklearn.neighbors\n",
    "\n",
    "from craterdetection.matching.utils import is_clockwise, np_swap_columns, all_clockwise, is_colinear, cw_or_ccw\n"
   ],
   "metadata": {
    "collapsed": false,
    "pycharm": {
     "name": "#%%\n"
    }
   }
  },
  {
   "cell_type": "code",
   "execution_count": 2,
   "outputs": [],
   "source": [
    "lat_cat, long_cat, major_cat, minor_cat, psi_cat, crater_id_cat = extract_robbins_dataset(\n",
    "    load_craters(\"../data/lunar_crater_database_robbins_2018.csv\", diamlims=[4, 30])\n",
    ")"
   ],
   "metadata": {
    "collapsed": false,
    "pycharm": {
     "name": "#%%\n"
    }
   }
  },
  {
   "cell_type": "code",
   "execution_count": 3,
   "outputs": [],
   "source": [
    "x_cat, y_cat, z_cat = map(np.array, spherical_to_cartesian(const.RBODY, lat_cat, long_cat))\n",
    "\n",
    "adjacency_matrix = sklearn.neighbors.radius_neighbors_graph(np.array([x_cat, y_cat, z_cat]).T, 200,\n",
    "                                                                  mode='connectivity',\n",
    "                                                                  metric='euclidean', n_jobs=-1)\n",
    "\n",
    "graph = nx.from_scipy_sparse_matrix(adjacency_matrix)\n",
    "crater_triads = np.array([c for c in nx.cycle_basis(graph) if len(c) == 3])"
   ],
   "metadata": {
    "collapsed": false,
    "pycharm": {
     "name": "#%%\n"
    }
   }
  },
  {
   "cell_type": "code",
   "execution_count": 4,
   "outputs": [],
   "source": [
    "p_M_ijk = np.moveaxis(\n",
    "    np.concatenate(\n",
    "        (x_cat[crater_triads].T[None, ...],\n",
    "         y_cat[crater_triads].T[None, ...],\n",
    "         z_cat[crater_triads].T[None, ...]),\n",
    "        axis=0\n",
    "    ),\n",
    "    0, 2)[..., None]\n",
    "p_centroid = np.mean(p_M_ijk, axis=0)"
   ],
   "metadata": {
    "collapsed": false,
    "pycharm": {
     "name": "#%%\n"
    }
   }
  },
  {
   "cell_type": "code",
   "execution_count": 5,
   "outputs": [],
   "source": [
    "# VIRTUAL CAMERA\n",
    "alt = 300\n",
    "p_vcam = p_centroid + (p_centroid/LA.norm(p_centroid, axis=1)[..., None])*alt\n",
    "\n",
    "X_ax_cam, Y_ax_cam, Z_ax_cam = nadir_attitude(p_vcam)\n",
    "T_CM = np.concatenate((X_ax_cam, Y_ax_cam, Z_ax_cam), axis=-1)\n",
    "if (LA.matrix_rank(T_CM) != 3).any():\n",
    "    raise Warning(\"Invalid camera attitude matrices present!:\\n\", T_CM)"
   ],
   "metadata": {
    "collapsed": false,
    "pycharm": {
     "name": "#%%\n"
    }
   }
  },
  {
   "cell_type": "code",
   "execution_count": 6,
   "outputs": [
    {
     "data": {
      "text/plain": "array([[1.20710678e+03, 0.00000000e+00, 5.00000000e+02],\n       [0.00000000e+00, 1.20710678e+03, 5.00000000e+02],\n       [0.00000000e+00, 0.00000000e+00, 1.00000000e+00]])"
     },
     "execution_count": 6,
     "metadata": {},
     "output_type": "execute_result"
    }
   ],
   "source": [
    "K = camera_matrix()\n",
    "T_MC = LA.inv(T_CM)\n",
    "P_MC = K @ T_MC @ np.concatenate((np.tile(np.identity(3), (len(p_vcam), 1, 1)), -p_vcam), axis=2)"
   ],
   "metadata": {
    "collapsed": false,
    "pycharm": {
     "name": "#%%\n"
    }
   }
  },
  {
   "cell_type": "code",
   "execution_count": 7,
   "outputs": [],
   "source": [
    "C_cat = crater_representation(major_cat, minor_cat, psi_cat)\n",
    "H_C_triads = np.array(list(map(crater_camera_homography, p_M_ijk, repeat(P_MC))))\n",
    "r_triads_image = np.array(list(map(lambda T: (T @ np.array([0, 0, 1]) / (T @ np.array([0, 0, 1]))[:, -1][:, None])[:, :2], H_C_triads)))"
   ],
   "metadata": {
    "collapsed": false,
    "pycharm": {
     "name": "#%%\n"
    }
   }
  },
  {
   "cell_type": "code",
   "execution_count": 8,
   "outputs": [],
   "source": [
    "x_triads = r_triads_image[..., 0]\n",
    "y_triads = r_triads_image[..., 1]\n",
    "clockwise = is_clockwise(x_triads, y_triads)\n",
    "\n",
    "crater_triads_cw = crater_triads.copy()\n",
    "crater_triads_cw[~clockwise] = np_swap_columns(crater_triads[~clockwise])\n",
    "x_triads[:, ~clockwise] = np_swap_columns(x_triads.T[~clockwise]).T\n",
    "y_triads[:, ~clockwise] = np_swap_columns(y_triads.T[~clockwise]).T\n",
    "H_C_triads[[0, 1], np.argwhere(~clockwise)] = H_C_triads[[1, 0], np.argwhere(~clockwise)]\n",
    "\n",
    "if not all_clockwise(x_triads, y_triads):\n",
    "    line = is_colinear(x_triads, y_triads)\n",
    "    x_triads = x_triads[:, ~line]\n",
    "    y_triads = y_triads[:, ~line]\n",
    "    crater_triads_cw = crater_triads_cw[~line]\n",
    "    H_C_triads = H_C_triads[:, ~line]\n",
    "\n",
    "    if not all_clockwise(x_triads, y_triads):\n",
    "        raise RuntimeError(\"Failed to order triads in clockwise order.\")"
   ],
   "metadata": {
    "collapsed": false,
    "pycharm": {
     "name": "#%%\n"
    }
   }
  },
  {
   "cell_type": "code",
   "execution_count": 10,
   "outputs": [
    {
     "data": {
      "text/plain": "True"
     },
     "execution_count": 10,
     "metadata": {},
     "output_type": "execute_result"
    }
   ],
   "source": [
    "np.logical_and.reduce(cw_or_ccw(x_triads, y_triads) < 0)"
   ],
   "metadata": {
    "collapsed": false,
    "pycharm": {
     "name": "#%%\n"
    }
   }
  },
  {
   "cell_type": "code",
   "execution_count": 11,
   "outputs": [],
   "source": [
    "C_triads = np.array(list(map(lambda vertex: C_cat[vertex], crater_triads_cw.T)))\n",
    "A_i, A_j, A_k = map(lambda T, A: LA.inv(T).transpose((0, 2, 1)) @ A @ LA.inv(T), H_C_triads, C_triads)"
   ],
   "metadata": {
    "collapsed": false,
    "pycharm": {
     "name": "#%%\n"
    }
   }
  },
  {
   "cell_type": "code",
   "execution_count": 12,
   "outputs": [
    {
     "data": {
      "text/plain": "<Figure size 1080x1080 with 1 Axes>",
      "image/png": "[encoded data removed]"
     },
     "metadata": {
      "needs_background": "light"
     },
     "output_type": "display_data"
    }
   ],
   "source": [
    "x_plot = np.linspace(0, const.CAMERA_RESOLUTION[0], 500)\n",
    "y_plot = np.linspace(0, const.CAMERA_RESOLUTION[1], 500)\n",
    "x_plot, y_plot = np.meshgrid(x_plot, y_plot)\n",
    "\n",
    "xy_homogeneous = np.concatenate(\n",
    "    (\n",
    "        x_plot.ravel()[None, :],\n",
    "        y_plot.ravel()[None, :],\n",
    "        np.ones_like(x_plot.ravel()[None, :])\n",
    "    ),\n",
    "    axis=0\n",
    ").T[..., None]\n",
    "\n",
    "# c = xy_homogeneous.transpose(0, 2, 1) @ A_i[:, None, ...] @ xy_homogeneous\n",
    "fig, ax = plt.subplots(figsize=(15, 15), subplot_kw={'aspect': 'equal'})\n",
    "# Set axes according to camera pixel space convention\n",
    "ax.set_xlim(0, const.CAMERA_RESOLUTION[0])\n",
    "ax.set_ylim(const.CAMERA_RESOLUTION[1], 0)\n",
    "i = 789456\n",
    "for a_i in [A_i[i], A_j[i], A_k[i]]:\n",
    "    c = xy_homogeneous.transpose(0, 2, 1) @ a_i @ xy_homogeneous\n",
    "    ax.contour(x_plot, y_plot, c.reshape(x_plot.shape), [0], colors='r')"
   ],
   "metadata": {
    "collapsed": false,
    "pycharm": {
     "name": "#%%\n"
    }
   }
  },
  {
   "cell_type": "code",
   "execution_count": 13,
   "outputs": [
    {
     "data": {
      "text/plain": "array([[ -132.34158199,  -206.46862742,  -147.6303987 ,  -322.16995808,\n         -123.67867855,  -147.23605688, -1201.50747887]])"
     },
     "execution_count": 13,
     "metadata": {},
     "output_type": "execute_result"
    }
   ],
   "source": [],
   "metadata": {
    "collapsed": false,
    "pycharm": {
     "name": "#%%\n"
    }
   }
  }
 ],
 "metadata": {
  "kernelspec": {
   "name": "pycharm-ca2c6f67",
   "language": "python",
   "display_name": "PyCharm (crater-detection)"
  },
  "language_info": {
   "codemirror_mode": {
    "name": "ipython",
    "version": 2
   },
   "file_extension": ".py",
   "mimetype": "text/x-python",
   "name": "python",
   "nbconvert_exporter": "python",
   "pygments_lexer": "ipython2",
   "version": "2.7.6"
  }
 },
 "nbformat": 4,
 "nbformat_minor": 0
}