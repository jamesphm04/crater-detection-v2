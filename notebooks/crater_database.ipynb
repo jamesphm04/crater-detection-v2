{
 "cells": [
  {
   "cell_type": "code",
   "execution_count": 1,
   "outputs": [],
   "source": [
    "from functools import partial\n",
    "from itertools import combinations\n",
    "\n",
    "from craterdetection.matching.database import CraterDatabase, load_craters, extract_robbins_dataset, crater_representation, CoplanarInvariants\n",
    "from astropy.coordinates import spherical_to_cartesian, cartesian_to_spherical\n",
    "from craterdetection.common.coordinates import ENU_system\n",
    "from craterdetection.common.camera import *\n",
    "import craterdetection.common.constants as const\n",
    "\n",
    "import matplotlib.pyplot as plt\n",
    "import numpy as np\n",
    "import numpy.linalg as LA\n",
    "import networkx as nx\n",
    "import sklearn.neighbors"
   ],
   "metadata": {
    "collapsed": false,
    "pycharm": {
     "name": "#%%\n"
    }
   }
  },
  {
   "cell_type": "code",
   "execution_count": 2,
   "outputs": [],
   "source": [
    "lat_cat, long_cat, major_cat, minor_cat, psi_cat, crater_id_cat = extract_robbins_dataset(\n",
    "    load_craters(\"../data/lunar_crater_database_robbins_2018.csv\", diamlims=[4, 30])\n",
    ")"
   ],
   "metadata": {
    "collapsed": false,
    "pycharm": {
     "name": "#%%\n"
    }
   }
  },
  {
   "cell_type": "code",
   "execution_count": 3,
   "outputs": [],
   "source": [
    "R_moon = 1737.4\n",
    "x_cat, y_cat, z_cat = map(np.array, spherical_to_cartesian(R_moon, lat_cat, long_cat))\n",
    "\n",
    "adjacency_matrix = sklearn.neighbors.radius_neighbors_graph(np.array([x_cat, y_cat, z_cat]).T, 200,\n",
    "                                                                  mode='connectivity',\n",
    "                                                                  metric='euclidean', n_jobs=-1)\n",
    "\n",
    "graph = nx.from_scipy_sparse_matrix(adjacency_matrix)\n",
    "crater_triads = np.array([c for c in nx.cycle_basis(graph) if len(c) == 3])"
   ],
   "metadata": {
    "collapsed": false,
    "pycharm": {
     "name": "#%%\n"
    }
   }
  },
  {
   "cell_type": "code",
   "execution_count": 29,
   "outputs": [],
   "source": [
    "p_M_ijk = np.concatenate((x_cat[crater_triads][None, ...], y_cat[crater_triads][None, ...], z_cat[crater_triads][None, ...]), axis=0)\n",
    "p_centroid = np.mean(p_M_ijk, axis=-1).T[..., None]"
   ],
   "metadata": {
    "collapsed": false,
    "pycharm": {
     "name": "#%%\n"
    }
   }
  },
  {
   "cell_type": "code",
   "execution_count": 25,
   "outputs": [],
   "source": [
    "T_EM_i = np.concatenate(ENU_system(p_M_ijk[..., 0].T[...,None]), axis=-1)\n",
    "T_EM_j = np.concatenate(ENU_system(p_M_ijk[..., 1].T[...,None]), axis=-1)\n",
    "T_EM_k = np.concatenate(ENU_system(p_M_ijk[..., 2].T[...,None]), axis=-1)\n",
    "\n",
    "S = np.concatenate((np.identity(2), np.zeros((1, 2))), axis=0)\n",
    "\n",
    "H_M_i = np.concatenate((T_EM_i @ S, p_M_ijk[..., 0].T[...,None]), axis=-1)\n",
    "H_M_j = np.concatenate((T_EM_j @ S, p_M_ijk[..., 1].T[...,None]), axis=-1)\n",
    "H_M_k = np.concatenate((T_EM_k @ S, p_M_ijk[..., 2].T[...,None]), axis=-1)"
   ],
   "metadata": {
    "collapsed": false,
    "pycharm": {
     "name": "#%%\n"
    }
   }
  },
  {
   "cell_type": "code",
   "execution_count": 26,
   "outputs": [],
   "source": [
    "C_i, C_j, C_k = map(crater_representation,\n",
    "    major_cat[crater_triads].T,\n",
    "    minor_cat[crater_triads].T,\n",
    "    psi_cat[crater_triads].T\n",
    "    )"
   ],
   "metadata": {
    "collapsed": false,
    "pycharm": {
     "name": "#%%\n"
    }
   }
  },
  {
   "cell_type": "code",
   "execution_count": 31,
   "outputs": [],
   "source": [
    "# VIRTUAL CAMERA\n",
    "alt = 500\n",
    "p_vcam = p_centroid + (p_centroid/LA.norm(p_centroid, axis=(1))[..., None])*alt\n",
    "\n",
    "k = np.array([0., 0., 1.])[:, None]\n",
    "Z_ax_cam = -(p_vcam / LA.norm(p_vcam, ord=2, axis=(1, 2))[:, None, None])\n",
    "\n",
    "X_ax_cam = np.cross(k[None, ...], p_vcam, axis=1)\n",
    "X_ax_cam /= LA.norm(X_ax_cam, ord=2, axis=(1, 2))[:, None, None]\n",
    "\n",
    "Y_ax_cam = np.cross(Z_ax_cam, X_ax_cam, axis=1)\n",
    "Y_ax_cam /= LA.norm(Y_ax_cam, ord=2, axis=(1, 2))[:, None, None]\n",
    "\n",
    "T_CM = np.concatenate((X_ax_cam, Y_ax_cam, Z_ax_cam), axis=-1)\n",
    "if (LA.matrix_rank(T_CM) != 3).any():\n",
    "    raise Warning(\"Invalid camera attitude matrices present!:\\n\", T_CM)"
   ],
   "metadata": {
    "collapsed": false,
    "pycharm": {
     "name": "#%%\n"
    }
   }
  },
  {
   "cell_type": "code",
   "execution_count": 32,
   "outputs": [],
   "source": [
    "f_x = (const.CAMERA_RESOLUTION[0]/2) / np.tan(np.radians(const.CAMERA_FOV)/2)\n",
    "f_y = (const.CAMERA_RESOLUTION[1]/2) / np.tan(np.radians(const.CAMERA_FOV)/2)\n",
    "\n",
    "K = np.array([[f_x, 0,       const.CAMERA_RESOLUTION[0]/2],\n",
    "             [0,    f_y,     const.CAMERA_RESOLUTION[1]/2],\n",
    "             [0,    0,       1]])\n",
    "T_MC = LA.inv(T_CM)\n",
    "P_MC = K @ T_MC @ np.concatenate((np.tile(np.identity(3), (len(p_vcam), 1, 1)), -p_vcam), axis=2)"
   ],
   "metadata": {
    "collapsed": false,
    "pycharm": {
     "name": "#%%\n"
    }
   }
  },
  {
   "cell_type": "code",
   "execution_count": 36,
   "outputs": [],
   "source": [
    "H_C_i = P_MC @ np.concatenate((H_M_i, np.tile(k.T[None, ...], (len(H_M_i), 1, 1))), axis=1)\n",
    "H_C_j = P_MC @ np.concatenate((H_M_j, np.tile(k.T[None, ...], (len(H_M_j), 1, 1))), axis=1)\n",
    "H_C_k = P_MC @ np.concatenate((H_M_k, np.tile(k.T[None, ...], (len(H_M_k), 1, 1))), axis=1)"
   ],
   "metadata": {
    "collapsed": false,
    "pycharm": {
     "name": "#%%\n"
    }
   }
  },
  {
   "cell_type": "code",
   "execution_count": 37,
   "outputs": [],
   "source": [
    "A_i = LA.inv(H_C_i).transpose((0, 2, 1)) @ C_i @ LA.inv(H_C_i)\n",
    "A_j = LA.inv(H_C_j).transpose((0, 2, 1)) @ C_j @ LA.inv(H_C_j)\n",
    "A_k = LA.inv(H_C_k).transpose((0, 2, 1)) @ C_k @ LA.inv(H_C_k)"
   ],
   "metadata": {
    "collapsed": false,
    "pycharm": {
     "name": "#%%\n"
    }
   }
  },
  {
   "cell_type": "code",
   "execution_count": 40,
   "outputs": [
    {
     "data": {
      "text/plain": "<Figure size 1080x1080 with 1 Axes>",
      "image/png": "[encoded data removed]"
     },
     "metadata": {
      "needs_background": "light"
     },
     "output_type": "display_data"
    }
   ],
   "source": [
    "x_plot = np.linspace(0, const.CAMERA_RESOLUTION[0], 500)\n",
    "y_plot = np.linspace(0, const.CAMERA_RESOLUTION[1], 500)\n",
    "x_plot, y_plot = np.meshgrid(x_plot, y_plot)\n",
    "\n",
    "xy_homogeneous = np.concatenate(\n",
    "    (\n",
    "        x_plot.ravel()[None, :],\n",
    "        y_plot.ravel()[None, :],\n",
    "        np.ones_like(x_plot.ravel()[None, :])\n",
    "    ),\n",
    "    axis=0\n",
    ").T[..., None]\n",
    "\n",
    "# c = xy_homogeneous.transpose(0, 2, 1) @ A_i[:, None, ...] @ xy_homogeneous\n",
    "fig, ax = plt.subplots(figsize=(15, 15), subplot_kw={'aspect': 'equal'})\n",
    "# Set axes according to camera pixel space convention\n",
    "ax.set_xlim(0, const.CAMERA_RESOLUTION[0])\n",
    "ax.set_ylim(const.CAMERA_RESOLUTION[1], 0)\n",
    "i = 789\n",
    "for a_i in [A_i[i], A_j[i], A_k[i]]:\n",
    "    c = xy_homogeneous.transpose(0, 2, 1) @ a_i @ xy_homogeneous\n",
    "    ax.contour(x_plot, y_plot, c.reshape(x_plot.shape), [0], colors='r')"
   ],
   "metadata": {
    "collapsed": false,
    "pycharm": {
     "name": "#%%\n"
    }
   }
  },
  {
   "cell_type": "code",
   "execution_count": null,
   "outputs": [],
   "source": [
    "A_i[i]\n"
   ],
   "metadata": {
    "collapsed": false,
    "pycharm": {
     "name": "#%%\n"
    }
   }
  },
  {
   "cell_type": "code",
   "execution_count": null,
   "outputs": [],
   "source": [],
   "metadata": {
    "collapsed": false,
    "pycharm": {
     "name": "#%%\n"
    }
   }
  }
 ],
 "metadata": {
  "kernelspec": {
   "display_name": "Python 3",
   "language": "python",
   "name": "python3"
  },
  "language_info": {
   "codemirror_mode": {
    "name": "ipython",
    "version": 2
   },
   "file_extension": ".py",
   "mimetype": "text/x-python",
   "name": "python",
   "nbconvert_exporter": "python",
   "pygments_lexer": "ipython2",
   "version": "2.7.6"
  }
 },
 "nbformat": 4,
 "nbformat_minor": 0
}