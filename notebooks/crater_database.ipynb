{
 "cells": [
  {
   "cell_type": "code",
   "execution_count": 1,
   "metadata": {
    "collapsed": true
   },
   "outputs": [],
   "source": [
    "from itertools import repeat\n",
    "import numpy as np\n",
    "import numpy.linalg as LA\n",
    "import sklearn.neighbors\n",
    "import networkx as nx\n",
    "from astropy.coordinates import cartesian_to_spherical, spherical_to_cartesian\n",
    "\n",
    "from craterdetection.matching import database as db\n",
    "from craterdetection.matching import crater_representation, CoplanarInvariants"
   ]
  },
  {
   "cell_type": "code",
   "execution_count": 2,
   "outputs": [
    {
     "data": {
      "text/plain": "Index(['CRATER_ID', 'LAT_CIRC_IMG', 'LON_CIRC_IMG', 'LAT_ELLI_IMG',\n       'LON_ELLI_IMG', 'DIAM_CIRC_IMG', 'DIAM_CIRC_SD_IMG',\n       'DIAM_ELLI_MAJOR_IMG', 'DIAM_ELLI_MINOR_IMG', 'DIAM_ELLI_ECCEN_IMG',\n       'DIAM_ELLI_ELLIP_IMG', 'DIAM_ELLI_ANGLE_IMG', 'LAT_ELLI_SD_IMG',\n       'LON_ELLI_SD_IMG', 'DIAM_ELLI_MAJOR_SD_IMG', 'DIAM_ELLI_MINOR_SD_IMG',\n       'DIAM_ELLI_ANGLE_SD_IMG', 'DIAM_ELLI_ECCEN_SD_IMG',\n       'DIAM_ELLI_ELLIP_SD_IMG', 'ARC_IMG', 'PTS_RIM_IMG'],\n      dtype='object')"
     },
     "execution_count": 2,
     "metadata": {},
     "output_type": "execute_result"
    }
   ],
   "source": [
    "df_craters = db.load_craters(path=\"../data/lunar_crater_database_robbins_2018.csv\", diamlims=[4, 30], ellipse_limit=1.1)\n",
    "df_craters.columns"
   ],
   "metadata": {
    "collapsed": false,
    "pycharm": {
     "name": "#%%\n"
    }
   }
  },
  {
   "cell_type": "code",
   "execution_count": 3,
   "outputs": [],
   "source": [
    "Rplanet = 1737.1\n",
    "lat, long = df_craters[['LAT_ELLI_IMG', 'LON_ELLI_IMG']].to_numpy().T\n",
    "lat, long = map(np.radians, (lat, long)) # ALWAYS CONVERT TO RADIANS\n",
    "psi = np.radians(df_craters['DIAM_ELLI_ANGLE_IMG'].to_numpy())\n",
    "major, minor = df_craters[['DIAM_ELLI_MAJOR_IMG', 'DIAM_ELLI_MINOR_IMG']].to_numpy().T\n",
    "x, y, z = db.latlong2cartesian(lat, long)\n",
    "\n",
    "connectivity_matrix = sklearn.neighbors.radius_neighbors_graph(np.array([x, y, z]).T, 200,\n",
    "                                                               mode='connectivity',\n",
    "                                                               metric='euclidean', n_jobs=-1)"
   ],
   "metadata": {
    "collapsed": false,
    "pycharm": {
     "name": "#%%\n"
    }
   }
  },
  {
   "cell_type": "code",
   "execution_count": 4,
   "outputs": [],
   "source": [
    "G = nx.from_scipy_sparse_matrix(connectivity_matrix)"
   ],
   "metadata": {
    "collapsed": false,
    "pycharm": {
     "name": "#%%\n"
    }
   }
  },
  {
   "cell_type": "code",
   "execution_count": 5,
   "outputs": [],
   "source": [
    "triangles = np.array([c for c in nx.cycle_basis(G) if len(c)==3])"
   ],
   "metadata": {
    "collapsed": false,
    "pycharm": {
     "name": "#%%\n"
    }
   }
  },
  {
   "cell_type": "code",
   "execution_count": 6,
   "outputs": [],
   "source": [
    "# Calculate centroid for each crater triad\n",
    "def triad_splice(arr, triangles_):\n",
    "    return np.array((arr[triangles_[:, 0]], arr[triangles_[:, 1]], arr[triangles_[:, 2]]))\n",
    "\n",
    "def swap_np_columns(arr_):\n",
    "    arr = arr_.copy()\n",
    "    arr[:, 0], arr[:, 1] = arr[:, 1], arr[:, 0].copy()\n",
    "    return arr"
   ],
   "metadata": {
    "collapsed": false,
    "pycharm": {
     "name": "#%%\n"
    }
   }
  },
  {
   "cell_type": "code",
   "execution_count": 7,
   "outputs": [],
   "source": [
    "avg_triad_x, avg_triad_y, avg_triad_z = map(lambda c: np.sum(triad_splice(c, triangles), axis=0)/3., (x, y, z))\n",
    "_, avg_triad_lat, avg_triad_long = cartesian_to_spherical(avg_triad_x, avg_triad_y, avg_triad_z)\n",
    "avg_triad_lat, avg_triad_long = map(np.array, (avg_triad_lat, avg_triad_long))\n",
    "\n",
    "dlat = np.array(triad_splice(lat, triangles)) - np.tile(avg_triad_lat, (3, 1))\n",
    "dlong = np.array(triad_splice(long, triangles)) - np.tile(avg_triad_long, (3, 1))\n",
    "\n",
    "x_triads = np.array([2 * Rplanet * np.arcsin(np.cos(np.radians(avg_triad_lat)) * np.sin(dlong_i / 2)) for dlong_i in dlong])\n",
    "y_triads = np.array([Rplanet * dlat_i for dlat_i in dlat])"
   ],
   "metadata": {
    "collapsed": false,
    "pycharm": {
     "name": "#%%\n"
    }
   }
  },
  {
   "cell_type": "code",
   "execution_count": 8,
   "outputs": [],
   "source": [
    "# https://math.stackexchange.com/questions/1324179/how-to-tell-if-3-connected-points-are-connected-clockwise-or-counter-clockwise\n",
    "clockwise = LA.det(np.moveaxis(np.array([[x_triads[0], y_triads[0], np.ones_like(x_triads[0])],\n",
    "                                        [x_triads[1], y_triads[1], np.ones_like(x_triads[0])],\n",
    "                                        [x_triads[2], y_triads[2], np.ones_like(x_triads[0])]]), -1, 0)) < 0\n",
    "\n",
    "triangles_cw = triangles.copy()\n",
    "triangles_cw[~clockwise] = swap_np_columns(triangles[~clockwise])\n",
    "\n",
    "avg_triad_x, avg_triad_y, avg_triad_z = map(lambda c: np.sum(triad_splice(c, triangles_cw), axis=0)/3., (x, y, z))\n",
    "_, avg_triad_lat, avg_triad_long = cartesian_to_spherical(avg_triad_x, avg_triad_y, avg_triad_z)\n",
    "avg_triad_lat, avg_triad_long = map(np.array, (avg_triad_lat, avg_triad_long))\n",
    "\n",
    "dlat = np.array(triad_splice(lat, triangles_cw)) - np.tile(avg_triad_lat, (3, 1))\n",
    "dlong = np.array(triad_splice(long, triangles_cw)) - np.tile(avg_triad_long, (3, 1))\n",
    "\n",
    "x_triads = np.array([2 * Rplanet * np.arcsin(np.cos(np.radians(avg_triad_lat)) * np.sin(dlong_i / 2)) for dlong_i in dlong])\n",
    "y_triads = np.array([Rplanet * dlat_i for dlat_i in dlat])\n",
    "a_triads, b_triads, psi_triads = map(triad_splice, (major, minor, psi), repeat(triangles_cw))"
   ],
   "metadata": {
    "collapsed": false,
    "pycharm": {
     "name": "#%%\n"
    }
   }
  },
  {
   "cell_type": "code",
   "execution_count": 9,
   "outputs": [
    {
     "data": {
      "text/plain": "True"
     },
     "execution_count": 9,
     "metadata": {},
     "output_type": "execute_result"
    }
   ],
   "source": [
    "# True if all crater triads are clockwise\n",
    "np.logical_and.reduce(LA.det(np.moveaxis(np.array([[x_triads[0], y_triads[0], np.ones_like(x_triads[0])],\n",
    "                                        [x_triads[1], y_triads[1], np.ones_like(x_triads[0])],\n",
    "                                        [x_triads[2], y_triads[2], np.ones_like(x_triads[0])]]), -1, 0)) < 0)"
   ],
   "metadata": {
    "collapsed": false,
    "pycharm": {
     "name": "#%%\n"
    }
   }
  },
  {
   "cell_type": "code",
   "execution_count": 10,
   "outputs": [],
   "source": [
    "crater_triads_matrices = []\n",
    "for args in zip(x_triads, y_triads, a_triads, b_triads, psi_triads):\n",
    "    crater_triads_matrices.append(crater_representation(*args))\n",
    "A_i, A_j, A_k = np.array(crater_triads_matrices)"
   ],
   "metadata": {
    "collapsed": false,
    "pycharm": {
     "name": "#%%\n"
    }
   }
  },
  {
   "cell_type": "code",
   "execution_count": 12,
   "outputs": [],
   "source": [
    "invariants = CoplanarInvariants(triangles_cw, A_i, A_j, A_k, normalize_det=True)"
   ],
   "metadata": {
    "collapsed": false,
    "pycharm": {
     "name": "#%%\n"
    }
   }
  },
  {
   "cell_type": "code",
   "execution_count": 14,
   "outputs": [
    {
     "data": {
      "text/plain": "(4404219, 7)"
     },
     "execution_count": 14,
     "metadata": {},
     "output_type": "execute_result"
    }
   ],
   "source": [
    "invariants.get_pattern().shape"
   ],
   "metadata": {
    "collapsed": false,
    "pycharm": {
     "name": "#%%\n"
    }
   }
  },
  {
   "cell_type": "code",
   "execution_count": null,
   "outputs": [],
   "source": [],
   "metadata": {
    "collapsed": false,
    "pycharm": {
     "name": "#%%\n"
    }
   }
  }
 ],
 "metadata": {
  "kernelspec": {
   "display_name": "Python 3",
   "language": "python",
   "name": "python3"
  },
  "language_info": {
   "codemirror_mode": {
    "name": "ipython",
    "version": 2
   },
   "file_extension": ".py",
   "mimetype": "text/x-python",
   "name": "python",
   "nbconvert_exporter": "python",
   "pygments_lexer": "ipython2",
   "version": "2.7.6"
  }
 },
 "nbformat": 4,
 "nbformat_minor": 0
}