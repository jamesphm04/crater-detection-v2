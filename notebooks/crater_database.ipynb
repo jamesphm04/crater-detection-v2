{
 "cells": [
  {
   "cell_type": "code",
   "execution_count": 12,
   "outputs": [],
   "source": [
    "from functools import partial\n",
    "\n",
    "from craterdetection.matching.database import CraterDatabase, load_craters, extract_robbins_dataset, crater_representation, CoplanarInvariants\n",
    "from astropy.coordinates import spherical_to_cartesian, cartesian_to_spherical\n",
    "\n",
    "import matplotlib.pyplot as plt\n",
    "import numpy as np\n",
    "import numpy.linalg as LA\n",
    "import networkx as nx\n",
    "import sklearn.neighbors"
   ],
   "metadata": {
    "collapsed": false,
    "pycharm": {
     "name": "#%%\n"
    }
   }
  },
  {
   "cell_type": "code",
   "execution_count": 2,
   "outputs": [],
   "source": [
    "lat_cat, long_cat, major_cat, minor_cat, psi_cat, crater_id_cat = extract_robbins_dataset(\n",
    "    load_craters(\"../data/lunar_crater_database_robbins_2018.csv\", diamlims=[4, 30])\n",
    ")"
   ],
   "metadata": {
    "collapsed": false,
    "pycharm": {
     "name": "#%%\n"
    }
   }
  },
  {
   "cell_type": "code",
   "execution_count": 3,
   "outputs": [],
   "source": [
    "R_moon = 1737.4\n",
    "x_cat, y_cat, z_cat = map(np.array, spherical_to_cartesian(R_moon, lat_cat, long_cat))\n",
    "\n",
    "adjacency_matrix = sklearn.neighbors.radius_neighbors_graph(np.array([x_cat, y_cat, z_cat]).T, 200,\n",
    "                                                                  mode='connectivity',\n",
    "                                                                  metric='euclidean', n_jobs=-1)\n",
    "\n",
    "graph = nx.from_scipy_sparse_matrix(adjacency_matrix)\n",
    "crater_triads = np.array([c for c in nx.cycle_basis(graph) if len(c) == 3])"
   ],
   "metadata": {
    "collapsed": false,
    "pycharm": {
     "name": "#%%\n"
    }
   }
  },
  {
   "cell_type": "code",
   "execution_count": 4,
   "outputs": [
    {
     "data": {
      "text/plain": "array([[[-5.15643101e-02, -9.98669676e-01, -0.00000000e+00],\n        [ 8.78175673e-01, -4.53428434e-02,  4.76184328e-01],\n        [-4.76055592e-01,  2.45801778e-02,  8.80278812e-01]],\n\n       [[-5.88635335e-02, -9.98266039e-01, -3.47547329e-18],\n        [ 8.77305040e-01, -5.17309741e-02,  4.77137059e-01],\n        [-4.76816102e-01,  2.81158324e-02,  8.79763205e-01]],\n\n       [[-3.73984557e-02, -9.99300433e-01,  3.47187576e-18],\n        [ 8.80922453e-01, -3.29682028e-02,  4.72110929e-01],\n        [-4.72313900e-01,  1.76761761e-02,  8.82535533e-01]],\n\n       ...,\n\n       [[ 1.94939436e-01, -9.80815281e-01,  1.41492369e-17],\n        [ 8.54216265e-01,  1.69777572e-01,  4.91416472e-01],\n        [-4.82594444e-01, -9.59168262e-02,  8.72019100e-01]],\n\n       [[ 1.85612600e-01, -9.82623001e-01, -2.82464135e-17],\n        [ 8.51019261e-01,  1.60753307e-01,  4.99924586e-01],\n        [-4.91804149e-01, -9.28993585e-02,  8.67068143e-01]],\n\n       [[ 1.89153784e-01, -9.81947476e-01, -0.00000000e+00],\n        [ 8.53258315e-01,  1.64364228e-01,  4.94908728e-01],\n        [-4.86576758e-01, -9.37298960e-02,  8.70022050e-01]]])"
     },
     "execution_count": 4,
     "metadata": {},
     "output_type": "execute_result"
    }
   ],
   "source": [
    "x, y, z = map(np.array, spherical_to_cartesian(R_moon, lat_cat[crater_triads], long_cat[crater_triads]))\n",
    "avg_x, avg_y, avg_z = map(partial(np.mean, axis=-1), (x, y, z))\n",
    "\n",
    "p_centroid = np.array([avg_x, avg_y, avg_z])[:, None].transpose(2, 0, 1)\n",
    "\n",
    "k = np.array([0, 0, 1])[:, None]\n",
    "\n",
    "u_i = p_centroid / R_moon\n",
    "\n",
    "e_i = np.cross(k[None, ...], u_i, axis=1)\n",
    "e_i /= LA.norm(e_i, ord=2, axis=(1, 2))[:, None, None]\n",
    "\n",
    "n_i = np.cross(u_i, e_i, axis=1)\n",
    "n_i /= LA.norm(n_i, ord=2, axis=(1, 2))[:, None, None]\n",
    "\n",
    "T_ME = LA.inv(np.concatenate((e_i, n_i, u_i), axis=-1))\n",
    "T_ME"
   ],
   "metadata": {
    "collapsed": false,
    "pycharm": {
     "name": "#%%\n"
    }
   }
  },
  {
   "cell_type": "code",
   "execution_count": 5,
   "outputs": [
    {
     "data": {
      "text/plain": "0.01613888446232717"
     },
     "execution_count": 5,
     "metadata": {},
     "output_type": "execute_result"
    }
   ],
   "source": [
    "dx, dy, dz = x - avg_x[:, None], y - avg_y[:, None], z - avg_z[:, None]\n",
    "delta_pos = np.concatenate((dx[None, :], dy[None, :], dz[None, :]), axis=0).T[..., None]\n",
    "ENU_pos = T_ME @ delta_pos\n",
    "np.mean(np.abs(ENU_pos[..., 2, 0])) / np.mean(np.abs(ENU_pos[..., 0, 0]))"
   ],
   "metadata": {
    "collapsed": false,
    "pycharm": {
     "name": "#%%\n"
    }
   }
  },
  {
   "cell_type": "code",
   "execution_count": 6,
   "outputs": [
    {
     "data": {
      "text/plain": "(3, 4389472)"
     },
     "execution_count": 6,
     "metadata": {},
     "output_type": "execute_result"
    }
   ],
   "source": [
    "ENU_pos[:, :, 0, 0].shape"
   ],
   "metadata": {
    "collapsed": false,
    "pycharm": {
     "name": "#%%\n"
    }
   }
  },
  {
   "cell_type": "code",
   "execution_count": 7,
   "outputs": [],
   "source": [
    "A_i, A_j, A_k = map(crater_representation,\n",
    "    ENU_pos[..., 0, 0],\n",
    "    ENU_pos[..., 1, 0],\n",
    "    major_cat[crater_triads].T,\n",
    "    minor_cat[crater_triads].T,\n",
    "    psi_cat[crater_triads].T\n",
    "    )"
   ],
   "metadata": {
    "collapsed": false,
    "pycharm": {
     "name": "#%%\n"
    }
   }
  },
  {
   "cell_type": "code",
   "execution_count": 8,
   "outputs": [],
   "source": [
    "x_plot = np.linspace(-150, 150, 500)\n",
    "y_plot = np.linspace(-150, 150, 500)\n",
    "x_plot, y_plot = np.meshgrid(x_plot, y_plot)\n",
    "\n",
    "xy_homogeneous = np.concatenate(\n",
    "    (\n",
    "        x_plot.ravel()[None, :],\n",
    "        y_plot.ravel()[None, :],\n",
    "        np.ones_like(x_plot.ravel()[None, :])\n",
    "    ),\n",
    "    axis=0\n",
    ").T[..., None]"
   ],
   "metadata": {
    "collapsed": false,
    "pycharm": {
     "name": "#%%\n"
    }
   }
  },
  {
   "cell_type": "code",
   "execution_count": 17,
   "outputs": [
    {
     "data": {
      "text/plain": "<Figure size 720x720 with 1 Axes>",
      "image/png": "[encoded data removed]"
     },
     "metadata": {
      "needs_background": "light"
     },
     "output_type": "display_data"
    }
   ],
   "source": [
    "fig, ax = plt.subplots(figsize=(10, 10), subplot_kw={'aspect': 'equal'})\n",
    "\n",
    "i = 1337\n",
    "for a_i in [A_i[i], A_j[i], A_k[i]]:\n",
    "    c = xy_homogeneous.transpose(0, 2, 1) @ a_i @ xy_homogeneous\n",
    "    ax.contour(x_plot, y_plot, c.reshape(x_plot.shape), [0])"
   ],
   "metadata": {
    "collapsed": false,
    "pycharm": {
     "name": "#%%\n"
    }
   }
  },
  {
   "cell_type": "code",
   "execution_count": 10,
   "outputs": [],
   "source": [
    "db = CraterDatabase.from_file(\"../data/lunar_crater_database_robbins_2018.csv\")"
   ],
   "metadata": {
    "collapsed": false,
    "pycharm": {
     "name": "#%%\n"
    }
   }
  },
  {
   "cell_type": "code",
   "execution_count": 11,
   "outputs": [
    {
     "data": {
      "text/plain": "array([[ -184.74817079,  -242.60306679,   -29.08711098, ...,\n         -344.42789386,  -120.84042835,  -776.68195181],\n       [ -129.1474865 ,  -185.44544751,   -40.9862762 , ...,\n         -344.44515202,  -120.71798228,  -729.89019115],\n       [ -312.56328043,  -163.65551227,  -344.37813261, ...,\n           -5.61883144,    -2.32200858,  -620.63182065],\n       ...,\n       [  -13.01107291,    -7.34194791,  -307.11150169, ...,\n         -141.2981634 ,   -73.3195502 ,  -852.67960643],\n       [   -5.25981825,   -13.98040621,  -141.31424064, ...,\n         -463.49158602,  -138.73094888, -1031.89709704],\n       [  -88.82831229,  -120.24466353,  -307.12852187, ...,\n         -463.48145857,  -138.77791721, -1589.49814301]])"
     },
     "execution_count": 11,
     "metadata": {},
     "output_type": "execute_result"
    }
   ],
   "source": [
    "db.features\n"
   ],
   "metadata": {
    "collapsed": false,
    "pycharm": {
     "name": "#%%\n"
    }
   }
  },
  {
   "cell_type": "code",
   "execution_count": null,
   "outputs": [],
   "source": [],
   "metadata": {
    "collapsed": false,
    "pycharm": {
     "name": "#%%\n"
    }
   }
  }
 ],
 "metadata": {
  "kernelspec": {
   "display_name": "Python 3",
   "language": "python",
   "name": "python3"
  },
  "language_info": {
   "codemirror_mode": {
    "name": "ipython",
    "version": 2
   },
   "file_extension": ".py",
   "mimetype": "text/x-python",
   "name": "python",
   "nbconvert_exporter": "python",
   "pygments_lexer": "ipython2",
   "version": "2.7.6"
  }
 },
 "nbformat": 4,
 "nbformat_minor": 0
}