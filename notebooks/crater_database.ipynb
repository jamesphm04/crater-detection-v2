{
 "cells": [
  {
   "cell_type": "code",
   "execution_count": 1,
   "outputs": [],
   "source": [
    "from functools import partial\n",
    "from itertools import combinations, repeat\n",
    "from craterdetection.common.conics import conic_center\n",
    "\n",
    "from craterdetection.matching.database import CraterDatabase, load_craters, extract_robbins_dataset, crater_representation, CoplanarInvariants\n",
    "from craterdetection.matching.utils import get_cliques_by_length\n",
    "from astropy.coordinates import spherical_to_cartesian, cartesian_to_spherical\n",
    "from craterdetection.common.coordinates import ENU_system, nadir_attitude\n",
    "from craterdetection.common.camera import *\n",
    "import craterdetection.common.constants as const\n",
    "\n",
    "import matplotlib.pyplot as plt\n",
    "import numpy as np\n",
    "import numpy.linalg as LA\n",
    "import networkx as nx\n",
    "from sklearn.neighbors import radius_neighbors_graph\n",
    "from scipy.spatial.transform import Rotation\n",
    "from scipy.spatial.distance import cdist\n",
    "\n",
    "from craterdetection.matching.utils import is_clockwise, np_swap_columns, all_clockwise, is_colinear, cw_or_ccw, \\\n",
    "    enhanced_pattern_shifting\n"
   ],
   "metadata": {
    "collapsed": false,
    "pycharm": {
     "name": "#%%\n"
    }
   }
  },
  {
   "cell_type": "code",
   "execution_count": 4,
   "outputs": [],
   "source": [
    "lat_cat, long_cat, major_cat, minor_cat, psi_cat, crater_id_cat = extract_robbins_dataset(\n",
    "    load_craters(\"../data/lunar_crater_database_robbins_2018.csv\", diamlims=[4, 30], latlims=[20, 70], longlims=[20, 70])\n",
    ")"
   ],
   "metadata": {
    "collapsed": false,
    "pycharm": {
     "name": "#%%\n"
    }
   }
  },
  {
   "cell_type": "code",
   "execution_count": 8,
   "outputs": [],
   "source": [
    "x_cat, y_cat, z_cat = map(np.array, spherical_to_cartesian(const.RMOON, lat_cat, long_cat))\n",
    "\n",
    "adjacency_matrix = radius_neighbors_graph(np.array([x_cat, y_cat, z_cat]).T, 150,\n",
    "                                                                  mode='distance',\n",
    "                                                                  metric='euclidean', n_jobs=-1)\n",
    "\n",
    "graph = nx.from_scipy_sparse_matrix(adjacency_matrix)\n",
    "crater_triads = np.array(get_cliques_by_length(graph, 3))"
   ],
   "metadata": {
    "collapsed": false,
    "pycharm": {
     "name": "#%%\n"
    }
   }
  },
  {
   "cell_type": "code",
   "execution_count": null,
   "outputs": [],
   "source": [
    "p_M_ijk = np.moveaxis(\n",
    "    np.concatenate(\n",
    "        (x_cat[crater_triads].T[None, ...],\n",
    "         y_cat[crater_triads].T[None, ...],\n",
    "         z_cat[crater_triads].T[None, ...]),\n",
    "        axis=0\n",
    "    ),\n",
    "    0, 2)[..., None]\n",
    "p_centroid = np.mean(p_M_ijk, axis=0)"
   ],
   "metadata": {
    "collapsed": false,
    "pycharm": {
     "name": "#%%\n"
    }
   }
  },
  {
   "cell_type": "code",
   "execution_count": null,
   "outputs": [],
   "source": [
    "# VIRTUAL CAMERA\n",
    "alt = 300\n",
    "p_vcam = p_centroid + (p_centroid/LA.norm(p_centroid, axis=1)[..., None])*alt\n",
    "\n",
    "X_ax_cam, Y_ax_cam, Z_ax_cam = nadir_attitude(p_vcam)\n",
    "T_CM = np.concatenate((X_ax_cam, Y_ax_cam, Z_ax_cam), axis=-1)\n",
    "if (LA.matrix_rank(T_CM) != 3).any():\n",
    "    raise Warning(\"Invalid camera attitude matrices present!:\\n\", T_CM)"
   ],
   "metadata": {
    "collapsed": false,
    "pycharm": {
     "name": "#%%\n"
    }
   }
  },
  {
   "cell_type": "code",
   "execution_count": null,
   "outputs": [],
   "source": [
    "K = camera_matrix()\n",
    "T_MC = LA.inv(T_CM)\n",
    "P_MC = K @ T_MC @ np.concatenate((np.tile(np.identity(3), (len(p_vcam), 1, 1)), -p_vcam), axis=2)"
   ],
   "metadata": {
    "collapsed": false,
    "pycharm": {
     "name": "#%%\n"
    }
   }
  },
  {
   "cell_type": "code",
   "execution_count": null,
   "outputs": [],
   "source": [
    "C_cat = crater_representation(major_cat, minor_cat, psi_cat)\n",
    "H_C_triads = np.array(list(map(crater_camera_homography, p_M_ijk, repeat(P_MC))))\n",
    "\n",
    "C_triads = np.array(list(map(lambda vertex: C_cat[vertex], crater_triads.T)))\n",
    "A_i, A_j, A_k = map(lambda T, C: LA.inv(T).transpose((0, 2, 1)) @ C @ LA.inv(T), H_C_triads, C_triads)"
   ],
   "metadata": {
    "collapsed": false,
    "pycharm": {
     "name": "#%%\n"
    }
   }
  },
  {
   "cell_type": "code",
   "execution_count": null,
   "outputs": [],
   "source": [
    "r_i, r_j, r_k = map(conic_center, (A_i, A_j, A_k))\n",
    "cw_value = LA.det(np.moveaxis(np.array([[r_i[:, 0], r_i[:, 1], np.ones_like(r_i[:, 0])],\n",
    "                            [r_j[:, 0], r_j[:, 1], np.ones_like(r_i[:, 0])],\n",
    "                            [r_k[:, 0], r_k[:, 1], np.ones_like(r_i[:, 0])]]), -1, 0))\n",
    "clockwise = cw_value < 0\n",
    "line = cw_value == 0"
   ],
   "metadata": {
    "collapsed": false,
    "pycharm": {
     "name": "#%%\n"
    }
   }
  },
  {
   "cell_type": "code",
   "execution_count": null,
   "outputs": [],
   "source": [
    "clockwise = clockwise[~line]\n",
    "\n",
    "crater_triads = crater_triads[~line]\n",
    "crater_triads[np.argwhere(~clockwise), [0, 1]] = crater_triads[np.argwhere(~clockwise), [1, 0]]\n",
    "\n",
    "H_C_triads = H_C_triads[:, ~line]\n",
    "H_C_triads[[0, 1], np.argwhere(~clockwise)] = H_C_triads[[1, 0], np.argwhere(~clockwise)]"
   ],
   "metadata": {
    "collapsed": false,
    "pycharm": {
     "name": "#%%\n"
    }
   }
  },
  {
   "cell_type": "code",
   "execution_count": null,
   "outputs": [],
   "source": [
    "C_triads = np.array(list(map(lambda vertex: C_cat[vertex], crater_triads.T)))\n",
    "A_i, A_j, A_k = map(lambda T, C: LA.inv(T).transpose((0, 2, 1)) @ C @ LA.inv(T), H_C_triads, C_triads)"
   ],
   "metadata": {
    "collapsed": false,
    "pycharm": {
     "name": "#%%\n"
    }
   }
  },
  {
   "cell_type": "code",
   "execution_count": null,
   "outputs": [],
   "source": [
    "def plot_conics(A, gridsize=250, resolution=const.CAMERA_RESOLUTION, figsize=(15, 15), ax=None):\n",
    "    x_plot = np.linspace(0, resolution[0], gridsize)\n",
    "    y_plot = np.linspace(0, resolution[1], gridsize)\n",
    "    x_plot, y_plot = np.meshgrid(x_plot, y_plot)\n",
    "\n",
    "    xy_homogeneous = np.concatenate(\n",
    "        (\n",
    "            x_plot.ravel()[None, :],\n",
    "            y_plot.ravel()[None, :],\n",
    "            np.ones_like(x_plot.ravel()[None, :])\n",
    "        ),\n",
    "        axis=0\n",
    "    ).T[..., None]\n",
    "    if ax is None:\n",
    "        fig, ax = plt.subplots(figsize=figsize, subplot_kw={'aspect': 'equal'})\n",
    "\n",
    "    # Set axes according to camera pixel space convention\n",
    "    ax.set_xlim(0, resolution[0])\n",
    "    ax.set_ylim(resolution[1], 0)\n",
    "\n",
    "    for a_i in A:\n",
    "        c = xy_homogeneous.transpose(0, 2, 1) @ a_i @ xy_homogeneous\n",
    "        ax.contour(x_plot, y_plot, c.reshape(x_plot.shape), [0], colors='r')\n",
    "i = 782193\n",
    "plot_conics([A_i[i], A_j[i], A_k[i]])"
   ],
   "metadata": {
    "collapsed": false,
    "pycharm": {
     "name": "#%%\n"
    }
   }
  },
  {
   "cell_type": "code",
   "execution_count": null,
   "outputs": [],
   "source": [
    "test_triad = crater_triads[i]\n",
    "avg_lat, avg_long = map(np.mean, (lat_cat[test_triad], long_cat[test_triad]))"
   ],
   "metadata": {
    "collapsed": false,
    "pycharm": {
     "name": "#%%\n"
    }
   }
  },
  {
   "cell_type": "code",
   "execution_count": null,
   "outputs": [],
   "source": [
    "cam1 = Camera.from_coordinates(avg_lat, avg_long+0.1, 100)\n",
    "cam1.T = (Rotation.from_matrix(cam1.T) * Rotation.from_euler('y', -30, degrees=True)).as_matrix()\n",
    "\n",
    "A_detections1 = cam1.project_crater_conics(C_cat[test_triad], p_M_ijk[:, i])\n",
    "plot_conics(A_detections1)\n",
    "CoplanarInvariants.from_detection_conics(A_craters=A_detections1).get_pattern()"
   ],
   "metadata": {
    "collapsed": false,
    "pycharm": {
     "name": "#%%\n"
    }
   }
  },
  {
   "cell_type": "code",
   "execution_count": null,
   "outputs": [],
   "source": [
    "cam2 = Camera.from_coordinates(avg_lat-0.2, avg_long, 300)\n",
    "cam2.T = (Rotation.from_matrix(cam2.T) * Rotation.from_euler('x', 30, degrees=True)).as_matrix()\n",
    "cam2.T = (Rotation.from_matrix(cam2.T) * Rotation.from_euler('z', 15, degrees=True)).as_matrix()\n",
    "\n",
    "A_detections2 = cam2.project_crater_conics(C_cat[test_triad], p_M_ijk[:, i])\n",
    "plot_conics(A_detections2)\n",
    "CoplanarInvariants.from_detection_conics(A_craters=A_detections2).get_pattern()"
   ],
   "metadata": {
    "collapsed": false,
    "pycharm": {
     "name": "#%%\n"
    }
   }
  },
  {
   "cell_type": "code",
   "execution_count": null,
   "outputs": [],
   "source": [
    "CoplanarInvariants.from_detection_conics(A_craters=A_detections2).crater_triads"
   ],
   "metadata": {
    "collapsed": false,
    "pycharm": {
     "name": "#%%\n"
    }
   }
  },
  {
   "cell_type": "code",
   "execution_count": null,
   "outputs": [],
   "source": [
    "crater_triads_eff = np.zeros((5000000, 3))*-1\n",
    "for i, c in enumerate((c for c in nx.cycle_basis(graph) if len(c) == 3)):\n",
    "    crater_triads_eff[i] = c\n",
    "crater_triads_eff = crater_triads_eff[crater_triads_eff != -1]\n",
    "crater_triads_eff"
   ],
   "metadata": {
    "collapsed": false,
    "pycharm": {
     "name": "#%%\n"
    }
   }
  },
  {
   "cell_type": "code",
   "execution_count": null,
   "outputs": [],
   "source": [
    "crater_triads_eff"
   ],
   "metadata": {
    "collapsed": false,
    "pycharm": {
     "name": "#%%\n"
    }
   }
  },
  {
   "cell_type": "code",
   "execution_count": null,
   "outputs": [],
   "source": [
    "def get_cliques_by_length(G, length_clique):\n",
    "    \"\"\" Return the list of all cliques in an undirected graph G with length\n",
    "    equal to length_clique. \"\"\"\n",
    "    cliques = []\n",
    "    for c in nx.enumerate_all_cliques(G) :\n",
    "        if len(c) <= length_clique:\n",
    "            if len(c) == length_clique:\n",
    "                cliques.append(c)\n",
    "        else:\n",
    "            return cliques\n",
    "    # return empty list if nothing is found\n",
    "    return cliques\n",
    "\n",
    "get_cliques_by_length(graph, 3)"
   ],
   "metadata": {
    "collapsed": false,
    "pycharm": {
     "name": "#%%\n"
    }
   }
  },
  {
   "cell_type": "code",
   "execution_count": null,
   "outputs": [],
   "source": [],
   "metadata": {
    "collapsed": false,
    "pycharm": {
     "name": "#%%\n"
    }
   }
  }
 ],
 "metadata": {
  "kernelspec": {
   "name": "pycharm-ca2c6f67",
   "language": "python",
   "display_name": "PyCharm (crater-detection)"
  },
  "language_info": {
   "codemirror_mode": {
    "name": "ipython",
    "version": 2
   },
   "file_extension": ".py",
   "mimetype": "text/x-python",
   "name": "python",
   "nbconvert_exporter": "python",
   "pygments_lexer": "ipython2",
   "version": "2.7.6"
  }
 },
 "nbformat": 4,
 "nbformat_minor": 0
}