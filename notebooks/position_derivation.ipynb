{
 "cells": [
  {
   "cell_type": "code",
   "execution_count": 1,
   "outputs": [],
   "source": [
    "from astropy.coordinates import cartesian_to_spherical, spherical_to_cartesian\n",
    "\n",
    "import craterdetection.common.constants as const\n",
    "from craterdetection.common.camera import Camera, crater_camera_homography\n",
    "from craterdetection.common.coordinates import nadir_attitude, ENU_system\n",
    "from craterdetection.matching.database import extract_robbins_dataset, load_craters\n",
    "from craterdetection.common.conics import *"
   ],
   "metadata": {
    "collapsed": false,
    "pycharm": {
     "name": "#%%\n"
    }
   }
  },
  {
   "cell_type": "code",
   "execution_count": 2,
   "outputs": [],
   "source": [
    "lat_cat, long_cat, major_cat, minor_cat, psi_cat, crater_id = extract_robbins_dataset(\n",
    "    load_craters(\"../data/lunar_crater_database_robbins_2018.csv\", diamlims=[4, 10], ellipse_limit=1.2)\n",
    ")\n",
    "r_craters_cat = np.array(np.array(spherical_to_cartesian(const.RMOON, lat_cat, long_cat))).T[..., None]\n",
    "C_craters_cat = crater_representation(major_cat, minor_cat, psi_cat)"
   ],
   "metadata": {
    "collapsed": false,
    "pycharm": {
     "name": "#%% Load + filter craters\n"
    }
   }
  },
  {
   "cell_type": "code",
   "execution_count": 8,
   "outputs": [],
   "source": [
    "resolution = (256, 256)\n",
    "# resolution = const.CAMERA_RESOLUTION\n",
    "\n",
    "cam_lat, cam_long = map(np.radians, (60., 75.))\n",
    "cam_alt = 250\n",
    "\n",
    "cam = Camera.from_coordinates(cam_lat, cam_long, cam_alt, resolution=resolution)\n",
    "\n",
    "dist = cam_alt / np.cos(np.radians(cam.fov/2)*np.sqrt(2)*1.0)\n",
    "vicinity = (np.sqrt(np.sum(np.square(r_craters_cat - cam.r), axis=1)) < dist).ravel()\n",
    "r_craters = r_craters_cat[vicinity]\n",
    "C_craters = C_craters_cat[vicinity]\n",
    "A_craters = cam.project_crater_conics(C_craters, r_craters)"
   ],
   "metadata": {
    "collapsed": false,
    "pycharm": {
     "name": "#%%\n"
    }
   }
  },
  {
   "cell_type": "code",
   "execution_count": 9,
   "outputs": [
    {
     "data": {
      "text/plain": "array([[ True],\n       [ True],\n       [ True],\n       [ True],\n       [ True],\n       [ True],\n       [ True],\n       [ True],\n       [ True],\n       [ True],\n       [ True],\n       [ True],\n       [ True],\n       [ True],\n       [ True],\n       [ True],\n       [ True],\n       [ True],\n       [ True],\n       [ True],\n       [ True],\n       [ True],\n       [ True],\n       [ True],\n       [ True],\n       [ True],\n       [ True],\n       [ True],\n       [ True],\n       [ True],\n       [ True],\n       [ True],\n       [ True],\n       [ True],\n       [ True],\n       [ True],\n       [ True],\n       [ True],\n       [ True],\n       [ True],\n       [ True],\n       [ True],\n       [ True],\n       [ True],\n       [ True],\n       [ True],\n       [ True],\n       [ True],\n       [ True],\n       [ True],\n       [ True],\n       [ True],\n       [ True],\n       [ True],\n       [ True],\n       [ True],\n       [ True],\n       [ True],\n       [ True],\n       [ True],\n       [ True],\n       [ True],\n       [ True],\n       [ True],\n       [ True],\n       [ True],\n       [ True],\n       [ True],\n       [ True],\n       [ True],\n       [ True],\n       [ True],\n       [ True],\n       [ True],\n       [ True],\n       [ True],\n       [ True],\n       [ True],\n       [ True],\n       [ True],\n       [ True],\n       [ True],\n       [ True],\n       [ True],\n       [ True],\n       [ True],\n       [ True],\n       [ True],\n       [ True],\n       [ True],\n       [ True],\n       [ True],\n       [ True],\n       [ True],\n       [ True],\n       [ True],\n       [ True],\n       [ True],\n       [ True],\n       [ True],\n       [ True],\n       [ True],\n       [ True],\n       [ True],\n       [ True],\n       [ True],\n       [ True],\n       [ True],\n       [ True],\n       [ True],\n       [ True],\n       [ True],\n       [ True],\n       [ True],\n       [ True],\n       [ True],\n       [ True],\n       [ True],\n       [ True],\n       [ True],\n       [ True],\n       [ True],\n       [ True],\n       [ True],\n       [ True],\n       [ True],\n       [ True],\n       [ True],\n       [ True],\n       [ True],\n       [ True],\n       [ True],\n       [ True],\n       [ True],\n       [ True],\n       [ True],\n       [ True],\n       [ True],\n       [ True],\n       [ True],\n       [ True],\n       [ True],\n       [ True],\n       [ True],\n       [ True],\n       [ True],\n       [ True],\n       [ True],\n       [ True],\n       [ True],\n       [ True],\n       [ True],\n       [ True],\n       [ True],\n       [ True],\n       [ True],\n       [ True],\n       [ True],\n       [ True],\n       [ True],\n       [ True],\n       [ True],\n       [ True],\n       [ True]])"
     },
     "execution_count": 9,
     "metadata": {},
     "output_type": "execute_result"
    }
   ],
   "source": [
    "def vectorize(arr):\n",
    "    return arr.reshape(-1, np.multiply(*arr.shape[-2:]), 1)\n",
    "T_CM = cam.T\n",
    "K = cam.K()\n",
    "\n",
    "k = np.array([0., 0., 1.])[:, None]\n",
    "S = np.concatenate((np.identity(2), np.zeros((1, 2))), axis=0)\n",
    "\n",
    "B_craters = T_CM @ K.T @ A_craters @ K @ LA.inv(T_CM)\n",
    "T_EM = np.concatenate(ENU_system(r_craters), axis=-1)\n",
    "T_ME = LA.inv(T_EM)\n",
    "\n",
    "scale_i = (vectorize(S.T @ C_craters @ S).transpose(0, 2, 1) @ vectorize(S.T @ T_ME @ B_craters @ T_EM @ S)) \\\n",
    "        / (vectorize(S.T @ C_craters @ S).transpose(0, 2, 1) @ vectorize(S.T @ C_craters @ S))\n",
    "\n",
    "A = (S.T @ T_ME @ B_craters).reshape(-1, 3)\n",
    "b = (S.T @ T_ME @ B_craters @ r_craters - scale_i * S.T @ C_craters @ k).reshape(-1, 1)\n",
    "\n",
    "np.isclose(A @ cam.r, b)"
   ],
   "metadata": {
    "collapsed": false,
    "pycharm": {
     "name": "#%%\n"
    }
   }
  },
  {
   "cell_type": "code",
   "execution_count": 10,
   "outputs": [
    {
     "data": {
      "text/plain": "array([[ 257.14966226],\n       [ 959.69560471],\n       [1720.87907986]])"
     },
     "execution_count": 10,
     "metadata": {},
     "output_type": "execute_result"
    }
   ],
   "source": [
    "Q, R = LA.qr(A)\n",
    "Qb = np.dot(Q.T, b)\n",
    "LA.solve(R, Qb)"
   ],
   "metadata": {
    "collapsed": false,
    "pycharm": {
     "name": "#%%\n"
    }
   }
  },
  {
   "cell_type": "code",
   "execution_count": 11,
   "outputs": [
    {
     "data": {
      "text/plain": "array([[ 257.14966226],\n       [ 959.69560471],\n       [1720.87907986]])"
     },
     "execution_count": 11,
     "metadata": {},
     "output_type": "execute_result"
    }
   ],
   "source": [
    "cam.r"
   ],
   "metadata": {
    "collapsed": false,
    "pycharm": {
     "name": "#%%\n"
    }
   }
  },
  {
   "cell_type": "code",
   "execution_count": null,
   "outputs": [],
   "source": [],
   "metadata": {
    "collapsed": false,
    "pycharm": {
     "name": "#%%\n"
    }
   }
  }
 ],
 "metadata": {
  "kernelspec": {
   "name": "pycharm-ca2c6f67",
   "language": "python",
   "display_name": "PyCharm (crater-detection)"
  },
  "language_info": {
   "codemirror_mode": {
    "name": "ipython",
    "version": 2
   },
   "file_extension": ".py",
   "mimetype": "text/x-python",
   "name": "python",
   "nbconvert_exporter": "python",
   "pygments_lexer": "ipython2",
   "version": "2.7.6"
  }
 },
 "nbformat": 4,
 "nbformat_minor": 0
}