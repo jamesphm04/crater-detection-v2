{
 "cells": [
  {
   "cell_type": "code",
   "execution_count": 183,
   "metadata": {
    "collapsed": true
   },
   "outputs": [],
   "source": [
    "from functools import partial\n",
    "\n",
    "from common.conics import plot_conics, ConicProjector, ellipse_axes, scale_det, conic_center\n",
    "from common.coordinates import ENU_system\n",
    "from src.matching import CraterDatabase, CoplanarInvariants\n",
    "from src.common.data import DataGenerator\n",
    "from src.detection.metrics import gaussian_angle_distance\n",
    "import src.common.constants as const\n",
    "import numpy as np\n",
    "import numpy.linalg as LA\n",
    "from sklearn.linear_model import RANSACRegressor, TheilSenRegressor\n",
    "from src.matching.position_estimation import derive_position_ransac\n",
    "from scipy.stats import median_absolute_deviation\n",
    "from scipy.optimize import least_squares, minimize\n",
    "from scipy.spatial import distance_matrix\n",
    "from scipy.spatial.distance import cdist\n",
    "\n",
    "\n",
    "import matplotlib.pyplot as plt"
   ]
  },
  {
   "cell_type": "code",
   "execution_count": 184,
   "outputs": [
    {
     "name": "stdout",
     "output_type": "stream",
     "text": [
      "Surrender Python Client\n",
      "code revision : c17439eea9ae041bf49364d67a2a232fc89c1faa\n"
     ]
    },
    {
     "data": {
      "text/plain": "array([[2024.16623442],\n       [ 356.91512057],\n       [ 362.42111161]])"
     },
     "execution_count": 184,
     "metadata": {},
     "output_type": "execute_result"
    }
   ],
   "source": [
    "db = CraterDatabase.from_file(\"../data/lunar_crater_database_robbins_2018.csv\",\n",
    "                              latlims=(0, 20),\n",
    "                              longlims=(0, 20),\n",
    "                              diamlims=(7, 40)\n",
    "                              )\n",
    "gen = DataGenerator.from_robbins_dataset(file_path=\"../data/lunar_crater_database_robbins_2018.csv\", diamlims=(7, 40), axis_threshold=(1, 250))\n",
    "gen.set_coordinates(10, 10, 350, convert_to_radians=True)\n",
    "gen.position"
   ],
   "metadata": {
    "collapsed": false,
    "pycharm": {
     "name": "#%%\n"
    }
   }
  },
  {
   "cell_type": "code",
   "execution_count": 204,
   "outputs": [
    {
     "data": {
      "text/plain": "((84, 3, 3), (84, 3, 1), (84, 3, 3))"
     },
     "execution_count": 204,
     "metadata": {},
     "output_type": "execute_result"
    }
   ],
   "source": [
    "C_cat, r_cat = gen.visible_catalogue_craters()\n",
    "A_detections = gen.project_crater_conics(C_cat, r_cat)\n",
    "crater_triads, key = next(CoplanarInvariants.match_generator(\n",
    "    A_craters=A_detections,\n",
    "    max_iter=1,\n",
    "    batch_size=100\n",
    "))\n",
    "\n",
    "top_n = 5\n",
    "crater_triads = np.repeat(crater_triads[:, None, :], top_n, axis=1)\n",
    "# A_db_ = np.repeat(A_detections[crater_triads][:, None, ...], top_n, axis=1).reshape(-1, 3, 3)\n",
    "\n",
    "match_idxs, _ = db.query(key, k=top_n, return_distance=True)\n",
    "\n",
    "dist = np.abs((key[:, None, :] - db._features[match_idxs]) / key[:, None, :]).mean(-1)\n",
    "dist_filter = dist < 0.1\n",
    "r_query, C_query = db[match_idxs[dist_filter]]\n",
    "A_query = A_detections[crater_triads[dist_filter]]\n",
    "A_query, r_query, C_query = A_query.reshape(-1, 3, 3), r_query.reshape(-1, 3, 1), C_query.reshape(-1, 3, 3)\n",
    "A_query.shape, r_query.shape, C_query.shape"
   ],
   "metadata": {
    "collapsed": false,
    "pycharm": {
     "name": "#%%\n"
    }
   }
  },
  {
   "cell_type": "code",
   "execution_count": 202,
   "outputs": [
    {
     "data": {
      "text/plain": "<function numpy.lib.utils._Deprecate.__call__.<locals>.newfunc(*args, **kwds)>"
     },
     "execution_count": 202,
     "metadata": {},
     "output_type": "execute_result"
    }
   ],
   "source": [
    "k = np.array([0., 0., 1.])[:, None]\n",
    "S = np.concatenate((np.identity(2), np.zeros((1, 2))), axis=0)\n",
    "\n",
    "T = gen.T\n",
    "K = gen.K\n",
    "\n",
    "B_craters = T @ K.T @ A_query @ K @ LA.inv(T)\n",
    "T_EM = np.concatenate(ENU_system(r_query), axis=-1)\n",
    "T_ME = LA.inv(T_EM)\n",
    "\n",
    "A_ = S.T @ T_ME @ B_craters\n",
    "A = A_.reshape(-1, 3)\n",
    "b_ = S.T @ T_ME @ B_craters @ r_query\n",
    "b = b_.reshape(-1, 1)\n",
    "\n",
    "median_absolute_deviation"
   ],
   "metadata": {
    "collapsed": false,
    "pycharm": {
     "name": "#%%\n"
    }
   }
  },
  {
   "cell_type": "code",
   "execution_count": 203,
   "outputs": [
    {
     "name": "stdout",
     "output_type": "stream",
     "text": [
      "Least squares:\tPosition error: 298.21 km\n",
      "RANSAC:\t\tPosition error: 0.00 km | Inliers: 65\n",
      "Theil Sen:\tPosition error: 3150.95 km\n"
     ]
    },
    {
     "name": "stderr",
     "output_type": "stream",
     "text": [
      "C:\\Users\\w_dop\\miniconda3\\envs\\crater-detection\\lib\\site-packages\\sklearn\\utils\\validation.py:63: DataConversionWarning: A column-vector y was passed when a 1d array was expected. Please change the shape of y to (n_samples, ), for example using ravel().\n",
      "  return f(*args, **kwargs)\n",
      "C:\\Users\\w_dop\\miniconda3\\envs\\crater-detection\\lib\\site-packages\\ipykernel_launcher.py:14: FutureWarning: `rcond` parameter will change to the default of machine precision times ``max(M, N)`` where M and N are the input matrix dimensions.\n",
      "To use the future default and silence this warning we advise to pass `rcond=None`, to keep using the old, explicitly pass `rcond=-1`.\n",
      "  \n"
     ]
    }
   ],
   "source": [
    "degraded_position = gen.position + np.random.randn(3, 1)*100\n",
    "\n",
    "min_inliers = int(len(A_query)/top_n/8)\n",
    "\n",
    "ransac = RANSACRegressor(residual_threshold=1000, max_trials=10000)\n",
    "ransac.fit(A, b)\n",
    "\n",
    "theil_sen = TheilSenRegressor(n_jobs=-1, max_iter=1000, tol=1e-4, fit_intercept=False, n_subsamples=50)\n",
    "theil_sen.fit(A, b)\n",
    "\n",
    "inlier_mask = np.logical_and.reduce(ransac.inlier_mask_.reshape(b_.shape), axis=(-1, -2))\n",
    "num_inliers = inlier_mask.sum()\n",
    "\n",
    "est_pos_lsq, _, _, _ = LA.lstsq(A, b)\n",
    "\n",
    "est_pos_ransac = ransac.estimator_.coef_.T\n",
    "est_pos_theil_sen = theil_sen.coef_.T\n",
    "print(f\"Least squares:\\tPosition error: {LA.norm(est_pos_lsq - gen.position):.2f} km\")\n",
    "print(f\"RANSAC:\\t\\tPosition error: {LA.norm(est_pos_ransac - gen.position):.2f} km | Inliers: {num_inliers}\")\n",
    "print(f\"Theil Sen:\\tPosition error: {LA.norm(est_pos_theil_sen - gen.position):.2f} km\")"
   ],
   "metadata": {
    "collapsed": false,
    "pycharm": {
     "name": "#%%\n"
    }
   }
  },
  {
   "cell_type": "code",
   "execution_count": 10,
   "outputs": [
    {
     "ename": "NameError",
     "evalue": "name 'est_pos' is not defined",
     "output_type": "error",
     "traceback": [
      "\u001B[1;31m---------------------------------------------------------------------------\u001B[0m",
      "\u001B[1;31mNameError\u001B[0m                                 Traceback (most recent call last)",
      "\u001B[1;32m<ipython-input-10-c93ba6c86ec0>\u001B[0m in \u001B[0;36m<module>\u001B[1;34m\u001B[0m\n\u001B[0;32m      1\u001B[0m \u001B[0mC_inlier\u001B[0m\u001B[1;33m,\u001B[0m \u001B[0mr_inlier\u001B[0m \u001B[1;33m=\u001B[0m \u001B[0mC_query\u001B[0m\u001B[1;33m.\u001B[0m\u001B[0mreshape\u001B[0m\u001B[1;33m(\u001B[0m\u001B[1;33m-\u001B[0m\u001B[1;36m1\u001B[0m\u001B[1;33m,\u001B[0m \u001B[1;36m3\u001B[0m\u001B[1;33m,\u001B[0m \u001B[1;36m3\u001B[0m\u001B[1;33m)\u001B[0m\u001B[1;33m[\u001B[0m\u001B[0minlier_mask\u001B[0m\u001B[1;33m]\u001B[0m\u001B[1;33m,\u001B[0m \u001B[0mr_query\u001B[0m\u001B[1;33m.\u001B[0m\u001B[0mreshape\u001B[0m\u001B[1;33m(\u001B[0m\u001B[1;33m-\u001B[0m\u001B[1;36m1\u001B[0m\u001B[1;33m,\u001B[0m \u001B[1;36m3\u001B[0m\u001B[1;33m,\u001B[0m \u001B[1;36m1\u001B[0m\u001B[1;33m)\u001B[0m\u001B[1;33m[\u001B[0m\u001B[0minlier_mask\u001B[0m\u001B[1;33m]\u001B[0m\u001B[1;33m\u001B[0m\u001B[1;33m\u001B[0m\u001B[0m\n\u001B[0;32m      2\u001B[0m \u001B[1;33m\u001B[0m\u001B[0m\n\u001B[1;32m----> 3\u001B[1;33m \u001B[0mprojector\u001B[0m \u001B[1;33m=\u001B[0m \u001B[0mConicProjector\u001B[0m\u001B[1;33m(\u001B[0m\u001B[0mposition\u001B[0m\u001B[1;33m=\u001B[0m\u001B[0mest_pos\u001B[0m\u001B[1;33m,\u001B[0m \u001B[0mattitude\u001B[0m\u001B[1;33m=\u001B[0m\u001B[0mgen\u001B[0m\u001B[1;33m.\u001B[0m\u001B[0mT\u001B[0m\u001B[1;33m)\u001B[0m\u001B[1;33m\u001B[0m\u001B[1;33m\u001B[0m\u001B[0m\n\u001B[0m\u001B[0;32m      4\u001B[0m \u001B[1;33m\u001B[0m\u001B[0m\n\u001B[0;32m      5\u001B[0m \u001B[0mA_projected\u001B[0m \u001B[1;33m=\u001B[0m \u001B[0mprojector\u001B[0m\u001B[1;33m.\u001B[0m\u001B[0mproject_crater_conics\u001B[0m\u001B[1;33m(\u001B[0m\u001B[0mC_inlier\u001B[0m\u001B[1;33m,\u001B[0m \u001B[0mr_inlier\u001B[0m\u001B[1;33m)\u001B[0m\u001B[1;33m\u001B[0m\u001B[1;33m\u001B[0m\u001B[0m\n",
      "\u001B[1;31mNameError\u001B[0m: name 'est_pos' is not defined"
     ]
    }
   ],
   "source": [
    "C_inlier, r_inlier = C_query.reshape(-1, 3, 3)[inlier_mask], r_query.reshape(-1, 3, 1)[inlier_mask]\n",
    "\n",
    "projector = ConicProjector(position=est_pos, attitude=gen.T)\n",
    "\n",
    "A_projected = projector.project_crater_conics(C_inlier, r_inlier)\n",
    "A_matched = A_db[inlier_mask]"
   ],
   "metadata": {
    "collapsed": false,
    "pycharm": {
     "name": "#%%\n"
    }
   }
  },
  {
   "cell_type": "code",
   "execution_count": null,
   "outputs": [],
   "source": [
    "sigma_pix = 3\n",
    "primary_body_radius = const.RMOON\n",
    "max_alt = 500\n",
    "\n",
    "divergence = gaussian_angle_distance(A_projected, A_matched)\n",
    "\n",
    "a_i, b_i = ellipse_axes(A_projected)\n",
    "\n",
    "sigma = (0.85 / np.sqrt(a_i * b_i)) * sigma_pix\n",
    "\n",
    "reprojection_mask = ((divergence / sigma) ** 2) <= 13.276\n",
    "gen.position - derive_position_ransac(A_craters=A_matched[reprojection_mask], r_craters=r_inlier[reprojection_mask], T=gen.T, K=gen.K, min_inliers=10)"
   ],
   "metadata": {
    "collapsed": false,
    "pycharm": {
     "name": "#%%\n"
    }
   }
  },
  {
   "cell_type": "code",
   "execution_count": null,
   "outputs": [],
   "source": [
    "est_pos2, num_matches = db.query_position(A_detections, T=T, K=K, max_trials=1000)\n",
    "est_pos2 - gen.position"
   ],
   "metadata": {
    "collapsed": false,
    "pycharm": {
     "name": "#%%\n"
    }
   }
  },
  {
   "cell_type": "code",
   "execution_count": null,
   "outputs": [],
   "source": [],
   "metadata": {
    "collapsed": false,
    "pycharm": {
     "name": "#%%\n"
    }
   }
  },
  {
   "cell_type": "code",
   "execution_count": 144,
   "outputs": [
    {
     "name": "stdout",
     "output_type": "stream",
     "text": [
      "Surrender Python Client\n",
      "code revision : c17439eea9ae041bf49364d67a2a232fc89c1faa\n"
     ]
    },
    {
     "name": "stderr",
     "output_type": "stream",
     "text": [
      "Exception ignored in: <function surrender_client_base.__del__ at 0x0000017D8563ECA8>\n",
      "Traceback (most recent call last):\n",
      "  File \"C:\\Users\\w_dop\\miniconda3\\envs\\crater-detection\\lib\\site-packages\\surrender\\surrender_client_base.py\", line 59, in __del__\n",
      "    if self.isConnected():\n",
      "  File \"C:\\Users\\w_dop\\miniconda3\\envs\\crater-detection\\lib\\site-packages\\surrender\\surrender_client_base.py\", line 240, in isConnected\n",
      "    return self._stream and self._sock and self._sock.isOpen();\n",
      "RuntimeError: wrapped C/C++ object of type QTcpSocket has been deleted\n"
     ]
    },
    {
     "data": {
      "text/plain": "array([[2024.16623442],\n       [ 356.91512057],\n       [ 362.42111161]])"
     },
     "execution_count": 144,
     "metadata": {},
     "output_type": "execute_result"
    }
   ],
   "source": [],
   "metadata": {
    "collapsed": false,
    "pycharm": {
     "name": "#%%\n"
    }
   }
  },
  {
   "cell_type": "code",
   "execution_count": null,
   "outputs": [],
   "source": [],
   "metadata": {
    "collapsed": false,
    "pycharm": {
     "name": "#%%\n"
    }
   }
  }
 ],
 "metadata": {
  "kernelspec": {
   "name": "pycharm-ca2c6f67",
   "language": "python",
   "display_name": "PyCharm (crater-detection)"
  },
  "language_info": {
   "codemirror_mode": {
    "name": "ipython",
    "version": 2
   },
   "file_extension": ".py",
   "mimetype": "text/x-python",
   "name": "python",
   "nbconvert_exporter": "python",
   "pygments_lexer": "ipython2",
   "version": "2.7.6"
  }
 },
 "nbformat": 4,
 "nbformat_minor": 0
}