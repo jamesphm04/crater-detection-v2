{
 "cells": [
  {
   "cell_type": "code",
   "execution_count": 1,
   "metadata": {
    "collapsed": true
   },
   "outputs": [],
   "source": [
    "from functools import partial\n",
    "\n",
    "from astropy.coordinates import cartesian_to_spherical\n",
    "from matplotlib import ticker\n",
    "\n",
    "from common.conics import plot_conics, ConicProjector, ellipse_axes, scale_det, conic_center, ellipse_angle, \\\n",
    "    conic_matrix, MaskGenerator\n",
    "from common.coordinates import ENU_system\n",
    "from src.matching import CraterDatabase, CoplanarInvariants\n",
    "from src.common.data import DataGenerator\n",
    "from src.detection.metrics import gaussian_angle_distance\n",
    "import src.common.constants as const\n",
    "import numpy as np\n",
    "import numpy.linalg as LA\n",
    "from sklearn.linear_model import RANSACRegressor, TheilSenRegressor\n",
    "from scipy.stats import median_absolute_deviation\n",
    "from scipy.optimize import least_squares, minimize\n",
    "from scipy.spatial import distance_matrix\n",
    "from scipy.spatial.distance import cdist\n",
    "\n",
    "\n",
    "import matplotlib.pyplot as plt"
   ]
  },
  {
   "cell_type": "code",
   "execution_count": 2,
   "outputs": [],
   "source": [
    "db = CraterDatabase.from_file(\"../data/lunar_crater_database_robbins_2018.csv\",\n",
    "                              latlims=(0, 30),\n",
    "                              longlims=(0, 30),\n",
    "                              diamlims=(5, 40)\n",
    "                              )"
   ],
   "metadata": {
    "collapsed": false,
    "pycharm": {
     "name": "#%%\n"
    }
   }
  },
  {
   "cell_type": "code",
   "execution_count": 3,
   "outputs": [],
   "source": [
    "gen = MaskGenerator.from_robbins_dataset(file_path=\"../data/lunar_crater_database_robbins_2018.csv\", diamlims=(7, 40), axis_threshold=(1, 250))\n",
    "gen.set_coordinates(10, 10, 350, convert_to_radians=True)"
   ],
   "metadata": {
    "collapsed": false,
    "pycharm": {
     "name": "#%%\n"
    }
   }
  },
  {
   "cell_type": "code",
   "execution_count": 4,
   "outputs": [],
   "source": [
    "sigma_pix = 1\n",
    "A_craters = gen.craters_in_image()\n",
    "\n",
    "n_det = len(A_craters)\n",
    "# Add noise\n",
    "major_det, minor_det = ellipse_axes(A_craters)\n",
    "psi_det = ellipse_angle(A_craters)\n",
    "r_craters_det = conic_center(A_craters)\n",
    "\n",
    "major_det += np.random.uniform(-sigma_pix, sigma_pix, size=n_det)\n",
    "minor_det += np.random.uniform(-sigma_pix, sigma_pix, size=n_det)\n",
    "psi_det += np.random.normal(scale=(20/180)*np.pi, size=n_det)\n",
    "r_craters_det += np.random.normal(-sigma_pix, sigma_pix, size=r_craters_det.shape)\n",
    "\n",
    "A_detections = conic_matrix(major_det, minor_det, psi_det, *r_craters_det.T)"
   ],
   "metadata": {
    "collapsed": false,
    "pycharm": {
     "name": "#%%\n"
    }
   }
  },
  {
   "cell_type": "code",
   "execution_count": 5,
   "outputs": [
    {
     "data": {
      "text/plain": "((141, 3, 3), (141, 3, 1), (141, 3, 3))"
     },
     "execution_count": 5,
     "metadata": {},
     "output_type": "execute_result"
    }
   ],
   "source": [
    "C_cat, r_cat = gen.visible_catalogue_craters()\n",
    "\n",
    "A_query, r_query, C_query = db.query(A_detections, k=20)\n",
    "A_query.shape, r_query.shape, C_query.shape"
   ],
   "metadata": {
    "collapsed": false,
    "pycharm": {
     "name": "#%%\n"
    }
   }
  },
  {
   "cell_type": "code",
   "execution_count": 6,
   "outputs": [],
   "source": [
    "k = np.array([0., 0., 1.])[:, None]\n",
    "S = np.concatenate((np.identity(2), np.zeros((1, 2))), axis=0)\n",
    "\n",
    "T = gen.T\n",
    "K = gen.K\n",
    "\n",
    "B_craters = T @ K.T @ A_query @ K @ LA.inv(T)\n",
    "T_EM = np.concatenate(ENU_system(r_query), axis=-1)\n",
    "T_ME = LA.inv(T_EM)\n",
    "\n",
    "A_ = S.T @ T_ME @ B_craters\n",
    "A = A_.reshape(-1, 3)\n",
    "b_ = S.T @ T_ME @ B_craters @ r_query\n",
    "b = b_.reshape(-1, 1)"
   ],
   "metadata": {
    "collapsed": false,
    "pycharm": {
     "name": "#%%\n"
    }
   }
  },
  {
   "cell_type": "code",
   "execution_count": 7,
   "outputs": [
    {
     "name": "stdout",
     "output_type": "stream",
     "text": [
      "Least squares:\tPosition error: 397.79 km\n",
      "RANSAC:\t\tPosition error: 483.96 km | Inliers: 2\n"
     ]
    },
    {
     "name": "stderr",
     "output_type": "stream",
     "text": [
      "C:\\Users\\w_dop\\miniconda3\\envs\\crater-detection\\lib\\site-packages\\ipykernel_launcher.py:11: FutureWarning: `rcond` parameter will change to the default of machine precision times ``max(M, N)`` where M and N are the input matrix dimensions.\n",
      "To use the future default and silence this warning we advise to pass `rcond=None`, to keep using the old, explicitly pass `rcond=-1`.\n",
      "  # This is added back by InteractiveShellApp.init_path()\n"
     ]
    }
   ],
   "source": [
    "def _model_validator(min_alt=10, max_alt=1000, primary_body_radius=const.RMOON):\n",
    "    return lambda model, *args: (primary_body_radius + min_alt) < LA.norm(model.coef_) < (primary_body_radius + max_alt)\n",
    "\n",
    "degraded_position = gen.position + np.random.randn(3, 1)*100\n",
    "\n",
    "ransac = RANSACRegressor(residual_threshold=0.05, max_trials=1000, is_model_valid=_model_validator())\n",
    "ransac.fit(A/np.mean(b), b/np.mean(b))\n",
    "inlier_mask = np.logical_and.reduce(ransac.inlier_mask_.reshape(b_.shape), axis=(-1, -2))\n",
    "num_inliers = inlier_mask.sum()\n",
    "\n",
    "est_pos_lsq, _, _, _ = LA.lstsq(A/1e6, b/1e6)\n",
    "\n",
    "est_pos_ransac = ransac.estimator_.coef_.T\n",
    "print(f\"Least squares:\\tPosition error: {LA.norm(est_pos_lsq - gen.position):.2f} km\")\n",
    "print(f\"RANSAC:\\t\\tPosition error: {LA.norm(est_pos_ransac - gen.position):.2f} km | Inliers: {num_inliers}\")"
   ],
   "metadata": {
    "collapsed": false,
    "pycharm": {
     "name": "#%%\n"
    }
   }
  },
  {
   "cell_type": "code",
   "execution_count": 8,
   "outputs": [],
   "source": [
    "C_inlier, r_inlier = C_query.reshape(-1, 3, 3)[inlier_mask], r_query.reshape(-1, 3, 1)[inlier_mask]\n",
    "\n",
    "projector = ConicProjector(position=est_pos_ransac, attitude=gen.T)\n",
    "\n",
    "A_projected = projector.project_crater_conics(C_inlier, r_inlier)\n",
    "A_matched = A_query[inlier_mask]"
   ],
   "metadata": {
    "collapsed": false,
    "pycharm": {
     "name": "#%%\n"
    }
   }
  },
  {
   "cell_type": "code",
   "execution_count": 9,
   "outputs": [],
   "source": [
    "sigma_pix = 6\n",
    "\n",
    "divergence = gaussian_angle_distance(A_projected, A_matched)\n",
    "\n",
    "a_i, b_i = ellipse_axes(A_projected)\n",
    "\n",
    "sigma = (0.85 / np.sqrt(a_i * b_i)) * sigma_pix\n",
    "\n",
    "reprojection_mask = ((divergence / sigma) ** 2) <= 13.276\n",
    "A_verified = A_matched[reprojection_mask]\n",
    "r_verified = r_query[inlier_mask][reprojection_mask]"
   ],
   "metadata": {
    "collapsed": false,
    "pycharm": {
     "name": "#%%\n"
    }
   }
  },
  {
   "cell_type": "code",
   "execution_count": 10,
   "outputs": [],
   "source": [
    "B_verified = T @ K.T @ A_verified @ K @ LA.inv(T)\n",
    "T_EM = np.concatenate(ENU_system(r_verified), axis=-1)\n",
    "T_ME = LA.inv(T_EM)\n",
    "\n",
    "A_ = S.T @ T_ME @ B_verified\n",
    "A = A_.reshape(-1, 3)\n",
    "b_ = S.T @ T_ME @ B_verified @ r_verified\n",
    "b = b_.reshape(-1, 1)"
   ],
   "metadata": {
    "collapsed": false,
    "pycharm": {
     "name": "#%%\n"
    }
   }
  },
  {
   "cell_type": "code",
   "execution_count": 11,
   "outputs": [
    {
     "data": {
      "text/plain": "483.9590343943433"
     },
     "execution_count": 11,
     "metadata": {},
     "output_type": "execute_result"
    }
   ],
   "source": [
    "from scipy.optimize import curve_fit\n",
    "est_pos_verified = least_squares(\n",
    "    lambda x: (b - A @ x[:, None]).squeeze(),\n",
    "    x0=ransac.estimator_.coef_.squeeze()\n",
    ")\n",
    "\n",
    "LA.norm(est_pos_verified.x[:, None] - gen.position)"
   ],
   "metadata": {
    "collapsed": false,
    "pycharm": {
     "name": "#%%\n"
    }
   }
  },
  {
   "cell_type": "code",
   "execution_count": 12,
   "outputs": [
    {
     "data": {
      "text/plain": "<Figure size 576x576 with 1 Axes>",
      "image/png": "[encoded data removed]"
     },
     "metadata": {
      "needs_background": "light"
     },
     "output_type": "display_data"
    }
   ],
   "source": [
    "fig, axes = plt.subplots(figsize=(8, 8))\n",
    "plot_conics(A_verified, ax=axes, rim_color='green')\n",
    "plot_conics(A_craters, ax=axes)\n",
    "# plot_conics(A_craters, ax=axes, rim_color='cyan')\n",
    "# plot_conics(A_projected, ax=axes, rim_color='purple')"
   ],
   "metadata": {
    "collapsed": false,
    "pycharm": {
     "name": "#%%\n"
    }
   }
  },
  {
   "cell_type": "code",
   "execution_count": 13,
   "outputs": [],
   "source": [
    "from src.matching.position_estimation import PositionRegressor\n",
    "position_regressor = PositionRegressor(residual_threshold=0.1)\n"
   ],
   "metadata": {
    "collapsed": false,
    "pycharm": {
     "name": "#%%\n"
    }
   }
  },
  {
   "cell_type": "code",
   "execution_count": null,
   "outputs": [
    {
     "name": "stdout",
     "output_type": "stream",
     "text": [
      "[00003]\tRANSAC position error:     11.30 km\t| Verified position error:      11.15 km\tInliers: 12 \n",
      "[00006]\tRANSAC position error:    434.99 km\t| Verified position error:    2582.39 km\tInliers: 3 \n",
      "[00007]\tRANSAC position error:      0.76 km\t| Verified position error:       3.13 km\tInliers: 4 \n",
      "[00014]\tRANSAC position error:      2.92 km\t| Verified position error:       2.21 km\tInliers: 19 \n",
      "[00019]\tRANSAC position error:    407.45 km\t| Verified position error:     411.26 km\tInliers: 3 \n",
      "[00022]\tRANSAC position error:      4.53 km\t| Verified position error:       2.02 km\tInliers: 13 \n",
      "[00023]\tRANSAC position error:      9.56 km\t| Verified position error:       9.49 km\tInliers: 3 \n",
      "[00033]\tRANSAC position error:      6.88 km\t| Verified position error:       8.75 km\tInliers: 6 \n",
      "[00035]\tRANSAC position error:     23.49 km\t| Verified position error:      29.32 km\tInliers: 6 \n",
      "[00047]\tRANSAC position error:      6.83 km\t| Verified position error:       7.49 km\tInliers: 8 \n",
      "[00050]\tRANSAC position error:      2.90 km\t| Verified position error:       5.87 km\tInliers: 15 \n",
      "[00059]\tRANSAC position error:      1.99 km\t| Verified position error:       2.14 km\tInliers: 6 \n",
      "[00061]\tRANSAC position error:    438.86 km\t| Verified position error:     514.47 km\tInliers: 4 \n",
      "[00069]\tRANSAC position error:      2.80 km\t| Verified position error:       3.47 km\tInliers: 41 \n",
      "[00072]\tRANSAC position error:      1.68 km\t| Verified position error:       1.61 km\tInliers: 5 \n",
      "[00074]\tRANSAC position error:      2.36 km\t| Verified position error:       4.30 km\tInliers: 12 \n",
      "[00079]\tRANSAC position error:      9.33 km\t| Verified position error:       2.04 km\tInliers: 3 \n",
      "[00083]\tRANSAC position error:    214.52 km\t| Verified position error:     215.65 km\tInliers: 5 \n",
      "[00125]\tRANSAC position error:      2.47 km\t| Verified position error:       3.17 km\tInliers: 21 \n",
      "[00126]\tRANSAC position error:      2.70 km\t| Verified position error:       3.06 km\tInliers: 19 \n",
      "[00142]\tRANSAC position error:     56.56 km\t| Verified position error:       3.94 km\tInliers: 4 \n",
      "[00154]\tRANSAC position error:      8.26 km\t| Verified position error:       5.78 km\tInliers: 6 \n",
      "[00162]\tRANSAC position error:     10.57 km\t| Verified position error:       2.68 km\tInliers: 4 \n",
      "[00163]\tRANSAC position error:      6.51 km\t| Verified position error:       3.63 km\tInliers: 3 \n",
      "[00165]\tRANSAC position error:      0.90 km\t| Verified position error:       0.94 km\tInliers: 15 \n",
      "[00172]\tRANSAC position error:     18.37 km\t| Verified position error:      11.19 km\tInliers: 3 \n",
      "[00179]\tRANSAC position error:     10.11 km\t| Verified position error:       7.67 km\tInliers: 6 \n",
      "[00187]\tRANSAC position error:      2.48 km\t| Verified position error:       2.22 km\tInliers: 6 \n",
      "[00196]\tRANSAC position error:      3.59 km\t| Verified position error:       3.53 km\tInliers: 9 \n",
      "[00197]\tRANSAC position error:      5.90 km\t| Verified position error:       2.19 km\tInliers: 7 \n",
      "[00198]\tRANSAC position error:      0.67 km\t| Verified position error:       0.66 km\tInliers: 30 \n",
      "[00199]\tRANSAC position error:      4.41 km\t| Verified position error:      21.56 km\tInliers: 6 \n",
      "[00201]\tRANSAC position error:      2.81 km\t| Verified position error:       1.57 km\tInliers: 15 \n",
      "[00203]\tRANSAC position error:      9.01 km\t| Verified position error:      13.01 km\tInliers: 5 \n",
      "[00225]\tRANSAC position error:    560.48 km\t| Verified position error:     461.49 km\tInliers: 3 \n"
     ]
    }
   ],
   "source": [
    "np.seterr(\"ignore\")\n",
    "test_size = 5000\n",
    "\n",
    "attitude_test = np.empty((test_size, 3, 3), np.float64)\n",
    "true_position_test = np.full((test_size, 3, 1), np.nan, np.float64)\n",
    "pred_ransac_test = np.full((test_size, 3, 1), np.nan, np.float64)\n",
    "pred_reprojection_test = np.full((test_size, 3, 1), np.nan, np.float64)\n",
    "n_detections_test = np.zeros((test_size))\n",
    "n_inliners_test = np.zeros((test_size))\n",
    "n_verified_test = np.zeros((test_size))\n",
    "\n",
    "sigma_pix = 1.5\n",
    "\n",
    "matches = 0\n",
    "errors = 0\n",
    "for i in range(test_size):\n",
    "    n_det = 0\n",
    "    while n_det < 6:\n",
    "        gen.set_coordinates(np.random.uniform(5, 25), np.random.uniform(5, 25))\n",
    "        gen.height = np.random.uniform(150, 450)\n",
    "        gen.point_nadir()\n",
    "        A_craters = gen.craters_in_image()\n",
    "        n_det = len(A_craters)\n",
    "\n",
    "    attitude_test[i] = gen.attitude\n",
    "    true_position_test[i] = gen.position\n",
    "\n",
    "    n_detections_test[i] = n_det\n",
    "    # Add noise\n",
    "    major_det, minor_det = ellipse_axes(A_craters)\n",
    "    psi_det = ellipse_angle(A_craters)\n",
    "    r_craters_det = conic_center(A_craters)\n",
    "\n",
    "    major_det += np.random.normal(0, sigma_pix, size=n_det)\n",
    "    minor_det += np.random.normal(0, sigma_pix, size=n_det)\n",
    "    psi_det += np.random.normal(scale=(20/180)*np.pi, size=n_det)\n",
    "    r_craters_det += np.random.normal(0, sigma_pix, size=r_craters_det.shape)\n",
    "\n",
    "    A_detections = conic_matrix(major_det, minor_det, psi_det, *r_craters_det.T)\n",
    "    position_regressor = db.query_position(A_detections, T=gen.T, K=gen.K,\n",
    "                                           sigma_pix=5,\n",
    "                                           k=20, max_distance=0.05, batch_size=1000,\n",
    "                                           residual_threshold=0.03, max_trials=2000)\n",
    "    if position_regressor.ransac_match():\n",
    "        pred_ransac_test[i] = position_regressor.est_pos_ransac\n",
    "        n_inliners_test[i] = position_regressor.num_inliers\n",
    "        if position_regressor.reprojection_match():\n",
    "            pred_reprojection_test[i] = position_regressor.est_pos_verified\n",
    "            n_verified_test[i] = position_regressor.num_verified\n",
    "            print(f\"[{i:05}]\\tRANSAC position error: {LA.norm(position_regressor.est_pos_ransac - gen.position):9.2f} km\\t| \"\n",
    "                  f\"Verified position error:  {LA.norm(position_regressor.est_pos_verified - gen.position):9.2f} km\"\n",
    "                  f\"\\tInliers: {position_regressor.num_inliers} \")\n",
    "\n",
    "\n",
    "        matches += 1\n",
    "\n",
    "\n",
    "matches"
   ],
   "metadata": {
    "collapsed": false,
    "pycharm": {
     "name": "#%%\n",
     "is_executing": true
    }
   }
  },
  {
   "cell_type": "code",
   "execution_count": null,
   "outputs": [],
   "source": [
    "inlier_positions = np.logical_and.reduce(~np.isnan(pred_ransac_test), axis=(1,2))\n",
    "err_inliers = LA.norm(pred_ransac_test[inlier_positions] - true_position_test[inlier_positions], axis=1).ravel()*1000\n",
    "verified_positions = np.logical_and.reduce(~np.isnan(pred_reprojection_test), axis=(1,2))\n",
    "err_verified = LA.norm(pred_reprojection_test[verified_positions] - true_position_test[verified_positions], axis=1).ravel()*1000\n",
    "bins = np.arange(0, 25000, 200)\n",
    "fig, axes = plt.subplots(2, 1, figsize=(8, 6), sharex='all', sharey='all')\n",
    "\n",
    "axes[0].hist(err_inliers, bins=bins, color='blue', alpha=0.7)\n",
    "axes[0].xaxis.set_major_formatter(ticker.FormatStrFormatter('%.im'))\n",
    "\n",
    "axes[1].hist(err_verified, bins=bins, color='red', alpha=0.7)\n",
    "axes[1].set_xlabel(\"$||\\Delta \\mathbf{x}||_2$\")\n",
    "axes[1].xaxis.set_major_formatter(ticker.FormatStrFormatter('%.im'))\n",
    "\n",
    "fig.tight_layout()\n",
    "fig.savefig(\"../output/total_error.pdf\")\n",
    "len(err_inliers), len(err_verified)"
   ],
   "metadata": {
    "collapsed": false,
    "pycharm": {
     "name": "#%%\n"
    }
   }
  },
  {
   "cell_type": "code",
   "execution_count": null,
   "outputs": [],
   "source": [
    "fig, axes = plt.subplots(2, 1, figsize=(8, 6), sharex='all', sharey='all')\n",
    "\n",
    "\n",
    "for pred, true, color, ax in zip([pred_ransac_test[inlier_positions], pred_reprojection_test[verified_positions]],\n",
    "                            [true_position_test[inlier_positions], true_position_test[verified_positions]],\n",
    "                           [\"blue\", 'red'], axes):\n",
    "    err_r, err_lat_rad, err_lon_rad = np.array(cartesian_to_spherical(*pred.squeeze().T) -\n",
    "                                               np.array(cartesian_to_spherical(*true.squeeze().T)))\n",
    "\n",
    "    err_lat, err_lon = map(np.degrees, (err_lat_rad, err_lon_rad))\n",
    "\n",
    "    err_lon[err_lon > 180] -= 360\n",
    "\n",
    "\n",
    "    ax.hist(err_r*1000, bins=np.arange(-20000, 20000, 500), color=color, alpha=0.7)\n",
    "axes[1].set_xlabel(r'$\\Delta r$')\n",
    "axes[1].xaxis.set_major_formatter(ticker.FormatStrFormatter('%.im'))\n",
    "fig.tight_layout()\n",
    "fig.savefig(\"../output/radial_error.pdf\")"
   ],
   "metadata": {
    "collapsed": false,
    "pycharm": {
     "name": "#%%\n"
    }
   }
  },
  {
   "cell_type": "code",
   "execution_count": null,
   "outputs": [],
   "source": [
    "err_r, err_lat_rad, err_lon_rad = np.array(cartesian_to_spherical(*(pred).squeeze().T) -\n",
    "                                           np.array(cartesian_to_spherical(*(true).squeeze().T)))\n",
    "\n",
    "err_lat, err_lon = map(np.degrees, (err_lat_rad, err_lon_rad))\n",
    "fig, ax = plt.subplots(figsize=(8, 6))\n",
    "err_range = np.arange(-5000, 5000, 200)\n",
    "h = ax.hist2d(LA.norm(true_position_test[verified_positions], axis=(1,2)) * err_lon_rad * 1e3,\n",
    "              LA.norm(true_position_test[verified_positions], axis=(1,2)) * err_lat_rad * 1e3,\n",
    "              bins=err_range, cmap='viridis')\n",
    "ax.set_xlabel(r'$\\Delta x_{\\lambda}$')\n",
    "ax.set_ylabel(r'$\\Delta x_{\\varphi}$')\n",
    "ax.xaxis.set_major_formatter(ticker.FormatStrFormatter('%im'))\n",
    "ax.yaxis.set_major_formatter(ticker.FormatStrFormatter('%im'))\n",
    "plt.colorbar(h[3], ax=ax)\n",
    "fig.tight_layout()\n",
    "fig.savefig(\"../output/coordinate_error.pdf\")"
   ],
   "metadata": {
    "collapsed": false,
    "pycharm": {
     "name": "#%%\n"
    }
   }
  },
  {
   "cell_type": "code",
   "execution_count": null,
   "outputs": [],
   "source": [
    "fig, ax = plt.subplots(figsize=(8, 6))\n",
    "err_range = np.arange(-0.25, 0.25, 0.01)\n",
    "h = ax.hist2d(err_lon, err_lat, bins=err_range, cmap='viridis')\n",
    "ax.set_xlabel(r'$\\Delta \\lambda$')\n",
    "ax.set_ylabel(r'$\\Delta \\varphi$')\n",
    "ax.xaxis.set_major_formatter(ticker.FormatStrFormatter('%.2f$^{\\circ}$'))\n",
    "ax.yaxis.set_major_formatter(ticker.FormatStrFormatter('%.2f$^{\\circ}$'))\n",
    "plt.colorbar(h[3], ax=ax)\n",
    "fig.tight_layout()\n",
    "fig.savefig(\"../output/coordinate_error_degrees.pdf\")"
   ],
   "metadata": {
    "collapsed": false,
    "pycharm": {
     "name": "#%%\n"
    }
   }
  },
  {
   "cell_type": "code",
   "execution_count": null,
   "outputs": [],
   "source": [
    "err_x, err_y, err_z = ((pred_reprojection_test[matched_positions] - true_position_test[matched_positions])*1000).squeeze().T\n",
    "fig, ax = plt.subplots(2, 2, figsize=(8, 6))\n",
    "\n",
    "err_range = np.arange(-6000, 6000, 200)\n",
    "\n",
    "h = ax[0, 0].hist2d(err_x, err_y, bins=err_range, cmap='viridis')\n",
    "ax[0, 0].set_xlabel('$\\Delta X$')\n",
    "ax[0, 0].set_ylabel('$\\Delta Y$')\n",
    "\n",
    "ax[1, 0].hist2d(err_x, err_z, bins=err_range, cmap='viridis')\n",
    "ax[1, 0].set_xlabel('$\\Delta X$')\n",
    "ax[1, 0].set_ylabel('$\\Delta Z$')\n",
    "\n",
    "ax[0, 1].hist2d(err_y, err_z, bins=err_range, cmap='viridis')\n",
    "ax[0, 1].set_xlabel('$\\Delta Y$')\n",
    "ax[0, 1].set_ylabel('$\\Delta Z$')\n",
    "\n",
    "ax[1, 1].axis('off')\n",
    "# plt.colorbar(h[3], ax=ax[1, 1])\n",
    "np.nanmean(err_x)"
   ],
   "metadata": {
    "collapsed": false,
    "pycharm": {
     "name": "#%%\n"
    }
   }
  },
  {
   "cell_type": "code",
   "execution_count": null,
   "outputs": [],
   "source": [
    "dist_filter = err < 20e3\n",
    "fig, ax = plt.subplots(figsize=(8, 6))\n",
    "n = n_verified_test[matched_positions][dist_filter]\n",
    "e = err[dist_filter]\n",
    "data = []\n",
    "ticklabels = []\n",
    "medians = []\n",
    "for i, c in zip(*np.unique(n_verified_test, return_counts=True)):\n",
    "    if c < 10 or i <= 2:\n",
    "        continue\n",
    "    data.append(e[n == i])\n",
    "    ticklabels.append(int(i))\n",
    "    medians.append(np.median(e[n == i]))\n",
    "\n",
    "ax.boxplot(data, positions=ticklabels)\n",
    "ax.plot(ticklabels, medians)\n",
    "ax.yaxis.set_major_formatter(ticker.FormatStrFormatter('%im'))\n",
    "ax.set_xlabel(\"Verified matches\")\n",
    "ax.set_ylabel(\"$||\\Delta \\mathbf{x}||_2$\")\n",
    "fig.tight_layout()\n",
    "fig.savefig(\"../output/verification_accuracy_boxplot.pdf\")"
   ],
   "metadata": {
    "collapsed": false,
    "pycharm": {
     "name": "#%%\n"
    }
   }
  },
  {
   "cell_type": "code",
   "execution_count": null,
   "outputs": [],
   "source": [],
   "metadata": {
    "collapsed": false,
    "pycharm": {
     "name": "#%%\n"
    }
   }
  }
 ],
 "metadata": {
  "kernelspec": {
   "name": "pycharm-ca2c6f67",
   "language": "python",
   "display_name": "PyCharm (crater-detection)"
  },
  "language_info": {
   "codemirror_mode": {
    "name": "ipython",
    "version": 2
   },
   "file_extension": ".py",
   "mimetype": "text/x-python",
   "name": "python",
   "nbconvert_exporter": "python",
   "pygments_lexer": "ipython2",
   "version": "2.7.6"
  }
 },
 "nbformat": 4,
 "nbformat_minor": 0
}