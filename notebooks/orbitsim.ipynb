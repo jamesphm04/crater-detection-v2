{
 "cells": [
  {
   "cell_type": "code",
   "execution_count": 1,
   "id": "4d21964c-c9a5-4209-b9c6-da21309b001b",
   "metadata": {
    "pycharm": {
     "name": "#%%\n"
    }
   },
   "outputs": [],
   "source": [
    "import numpy as np\n",
    "from astropy import units as u\n",
    "from astropy.coordinates import cartesian_to_spherical\n",
    "from matplotlib import animation\n",
    "from poliastro.bodies import Moon\n",
    "from poliastro.twobody import Orbit\n",
    "\n",
    "from src import CraterDetector\n",
    "from src.common.coordinates import nadir_attitude\n",
    "from src.common.conics import *\n",
    "from src.common.data import DataGenerator\n",
    "from src.matching import CraterDatabase"
   ]
  },
  {
   "cell_type": "code",
   "execution_count": 2,
   "outputs": [],
   "source": [
    "db = CraterDatabase.from_file(\"../data/lunar_crater_database_robbins_2018.csv\",\n",
    "                              latlims=(0, 20),\n",
    "                              longlims=(0, 30),\n",
    "                              diamlims=(5, 40),\n",
    "                              radius=200,\n",
    "                              )"
   ],
   "metadata": {
    "collapsed": false,
    "pycharm": {
     "name": "#%%\n"
    }
   }
  },
  {
   "cell_type": "code",
   "execution_count": 3,
   "outputs": [
    {
     "name": "stdout",
     "output_type": "stream",
     "text": [
      "Surrender Python Client\n",
      "code revision : c17439eea9ae041bf49364d67a2a232fc89c1faa\n"
     ]
    }
   ],
   "source": [
    "cam = DataGenerator.from_robbins_dataset(file_path=\"../data/lunar_crater_database_robbins_2018.csv\",\n",
    "                                         diamlims=(4, 40),\n",
    "                                         axis_threshold=(1, 250))"
   ],
   "metadata": {
    "collapsed": false,
    "pycharm": {
     "name": "#%%\n"
    }
   }
  },
  {
   "cell_type": "code",
   "execution_count": null,
   "outputs": [],
   "source": [
    "cda = CraterDetector()\n",
    "cda.load_state_dict(torch.load(\"../blobs/CraterRCNN.pth\"))\n",
    "cda.to('cuda')\n",
    "cda.eval()\n",
    "print()"
   ],
   "metadata": {
    "collapsed": false,
    "pycharm": {
     "name": "#%%\n",
     "is_executing": true
    }
   }
  },
  {
   "cell_type": "code",
   "execution_count": null,
   "outputs": [],
   "source": [
    "from src.matching.position_estimation import systems_dynamics_matrix, Hx, HJacobian"
   ],
   "metadata": {
    "collapsed": false,
    "pycharm": {
     "name": "#%%\n",
     "is_executing": true
    }
   }
  },
  {
   "cell_type": "code",
   "execution_count": null,
   "outputs": [],
   "source": [
    "a = 1987 * u.km\n",
    "ecc = 0.005 * u.one\n",
    "inc = 90 * u.deg\n",
    "raan = 18 * u.deg\n",
    "argp = 0 * u.deg\n",
    "nu = 0 * u.deg\n",
    "\n",
    "orb = Orbit.from_classical(Moon, a, ecc, inc, raan, argp, nu)"
   ],
   "metadata": {
    "collapsed": false,
    "pycharm": {
     "name": "#%%\n",
     "is_executing": true
    }
   }
  },
  {
   "cell_type": "code",
   "execution_count": null,
   "outputs": [],
   "source": [
    "from filterpy.kalman import ExtendedKalmanFilter\n",
    "from filterpy.common import Q_discrete_white_noise\n",
    "ekf = ExtendedKalmanFilter(dim_x=6, dim_z=3)\n",
    "\n",
    "dt = 0.5\n",
    "t_range = np.arange(0, 90, dt)\n",
    "\n",
    "cam.position = np.array(orb.r)[:, None]\n",
    "cam.point_nadir()\n",
    "\n",
    "ekf.P[:3, :3] *= 25\n",
    "ekf.P[3:, 3:] *= 0.1\n",
    "ekf.Q[:3, :3] = Q_discrete_white_noise(3, dt=dt, var=1e-1)\n",
    "ekf.Q[3:, 3:] = Q_discrete_white_noise(3, dt=dt, var=1e-10)\n",
    "\n",
    "ekf.R = np.array([[ 0.6833364 ,  0.11076215, -0.09880642],\n",
    "                  [ 0.11076215,  0.0520415 , -0.007652  ],\n",
    "                  [-0.09880642, -0.007652  ,  0.05631011]])\n",
    "\n",
    "x_true = np.array(orb.r)[:, None]\n",
    "v_true = np.array(orb.v)[:, None]\n",
    "\n",
    "initialized_position = np.concatenate((np.array(orb.r) + np.random.uniform(-25, 25, 3),\n",
    "                                       np.array(orb.v) + np.random.uniform(-0.1, 0.1, 3)))[:, None]\n",
    "ekf.x = initialized_position\n",
    "print(repr(ekf))\n",
    "cam.position = x_true\n",
    "cam.point_nadir()\n",
    "\n",
    "ground_truth = np.zeros((len(t_range), 6, 1))\n",
    "measurements = np.zeros((len(t_range), 3, 1))\n",
    "predictions = np.zeros((len(t_range), 6, 1))\n",
    "uncertainty = np.zeros((len(t_range)))\n",
    "detections = np.zeros((len(t_range)))\n",
    "update_mask = np.full(len(t_range), False, dtype=bool)\n",
    "\n",
    "match_trial_args = dict(\n",
    "    sigma_pix=4,\n",
    "    k=30,\n",
    "    max_distance=0.040,\n",
    "    batch_size=2000,\n",
    "    residual_threshold=0.025,\n",
    "    max_trials=1500\n",
    ")\n",
    "\n",
    "\n",
    "for i, t in enumerate(t_range):\n",
    "    ground_truth[i] = np.concatenate((x_true, v_true))\n",
    "    predictions[i] = ekf.x\n",
    "    uncertainty[i] = LA.norm(ekf.S)\n",
    "\n",
    "    ekf.F = np.identity(6) + systems_dynamics_matrix(ekf.x)*dt\n",
    "    ekf.predict()\n",
    "\n",
    "    if t % 0.5 == 0:\n",
    "        image = cam.generate_image()\n",
    "        image = torch.as_tensor(image[None, None, ...]).to('cuda')\n",
    "        with torch.no_grad():\n",
    "            pred = cda(image)[0]\n",
    "\n",
    "        scores = pred['scores']\n",
    "        A_detections = pred['ellipse_matrices'][scores > 0.75].cpu().numpy()\n",
    "        detections[i] = len(A_detections)\n",
    "        if len(A_detections) < 4:\n",
    "            continue\n",
    "        position_regressor = db.query_position(A_detections, T=cam.T, K=cam.K,\n",
    "                                               **match_trial_args)\n",
    "\n",
    "        if position_regressor.reprojection_match():\n",
    "            latest_position_error = LA.norm(position_regressor.est_pos_verified - ekf.x[:3])\n",
    "            if latest_position_error < max(10, LA.norm(ekf.P[:3, :3])):\n",
    "                print(f\"Update! Error: {LA.norm(position_regressor.est_pos_verified - cam.position)*1000:.1f} m\")\n",
    "                update_mask[i] = True\n",
    "                measurements[i] = position_regressor.est_pos_verified\n",
    "                ekf.update(position_regressor.est_pos_verified, HJacobian_at, hx)\n",
    "\n",
    "        print(f\"[t = {t:03.1f}s, lat={cam.latitude:.1f}, long={cam.longitude:.1f}] EKF position error:  {LA.norm(ekf.x[:3] - cam.position):12.2f} km\"\n",
    "              f\"\\t Uncertainty: {LA.norm(ekf.P[:3, :3]):.2f}\")\n",
    "\n",
    "    x_true = np.array(orb.propagate(t*u.second).r)[:, None]\n",
    "    v_true = np.array(orb.propagate(t*u.second).v)[:, None]\n",
    "    cam.position = x_true\n",
    "    cam.point_nadir()"
   ],
   "metadata": {
    "collapsed": false,
    "pycharm": {
     "name": "#%%\n",
     "is_executing": true
    }
   }
  },
  {
   "cell_type": "code",
   "execution_count": null,
   "outputs": [],
   "source": [
    "y_LVLH = ground_truth[:, 3:].copy()\n",
    "y_LVLH /= LA.norm(y_LVLH, axis=(1, 2), keepdims=True)\n",
    "\n",
    "z_LVLH = ground_truth[:, :3].copy()\n",
    "z_LVLH /= LA.norm(z_LVLH, axis=(1, 2), keepdims=True)\n",
    "\n",
    "x_LVLH = np.cross(y_LVLH, z_LVLH, axis=-2)\n",
    "x_LVLH /= LA.norm(x_LVLH, axis=(1, 2), keepdims=True)\n",
    "\n",
    "T_LVLH = LA.inv(np.concatenate((x_LVLH, y_LVLH, z_LVLH), axis=-1))\n",
    "error = (ground_truth - predictions).copy()\n",
    "measurement_error = (ground_truth[update_mask, :3] - measurements[update_mask]).copy()\n",
    "along_track_error, cross_track_error, radial_error = (T_LVLH @ error[:, :3]).T[0]\n",
    "along_track_error_measurement, cross_track_error_measurement, radial_error_measurement = (T_LVLH[update_mask] @ measurement_error[:, :3]).T[0]"
   ],
   "metadata": {
    "collapsed": false,
    "pycharm": {
     "name": "#%%\n",
     "is_executing": true
    }
   }
  },
  {
   "cell_type": "code",
   "execution_count": null,
   "outputs": [],
   "source": [
    "fig = plt.figure(figsize=(12, 8))\n",
    "gs = fig.add_gridspec(3, 1)\n",
    "ax1 = fig.add_subplot(gs[:2, :])\n",
    "ax2 = fig.add_subplot(gs[2, :])\n",
    "\n",
    "ax1.plot(t_range, LA.norm(error[:, :3], axis=(1, 2)))\n",
    "ax1.plot(t_range[update_mask], LA.norm(measurement_error, axis=(1, 2)), 'rx-', alpha=0.3)\n",
    "ax1.set_ylabel(\"$||\\Delta x||_2$ [km]\")\n",
    "\n",
    "ax2.plot(t_range[np.where(detections != 0)], detections[detections != 0], 'gx-')\n",
    "ax2.set_ylabel(\"$n_{det}$\")"
   ],
   "metadata": {
    "collapsed": false,
    "pycharm": {
     "name": "#%%\n",
     "is_executing": true
    }
   }
  },
  {
   "cell_type": "code",
   "execution_count": null,
   "outputs": [],
   "source": [
    "fig = plt.figure(figsize=(12, 8))\n",
    "gs = fig.add_gridspec(3, 1)\n",
    "ax1 = fig.add_subplot(gs[:2, :])\n",
    "ax2 = fig.add_subplot(gs[2, :])\n",
    "\n",
    "ax1.plot(t_range, LA.norm(error[:, 3:], axis=(1, 2)))\n",
    "ax1.set_ylabel(r\"$||\\Delta {v}||_2$ [m/s]\")\n",
    "\n",
    "ax2.plot(t_range[np.where(detections != 0)], detections[detections != 0], 'rx-')\n",
    "ax2.set_ylabel(\"$n_{det}$\")"
   ],
   "metadata": {
    "collapsed": false,
    "pycharm": {
     "name": "#%%\n",
     "is_executing": true
    }
   }
  },
  {
   "cell_type": "code",
   "execution_count": null,
   "outputs": [],
   "source": [
    "fig, axes = plt.subplots(3, 1, figsize=(12, 6), sharex='all', sharey='all')\n",
    "\n",
    "axes[0].plot(t_range, along_track_error)\n",
    "axes[0].scatter(t_range[update_mask], along_track_error_measurement, marker='x', color='r', alpha=0.3)\n",
    "axes[0].axhline(y=0, color='black', linestyle='-')\n",
    "axes[0].set_ylabel(r'Along-track error [km]')\n",
    "axes[0].set_ylim((-2.5, 2.5))\n",
    "\n",
    "\n",
    "axes[1].plot(t_range, cross_track_error)\n",
    "axes[1].scatter(t_range[update_mask], cross_track_error_measurement, marker='x', color='r', alpha=0.3)\n",
    "axes[1].axhline(y=0, color='b', linestyle='-')\n",
    "axes[1].set_ylabel(r'Cross-track error [km]')\n",
    "axes[2].scatter(t_range[update_mask], radial_error_measurement, marker='x', color='r', alpha=0.3)\n",
    "axes[2].axhline(y=0, color='b', linestyle='-')\n",
    "axes[2].plot(t_range, radial_error)\n",
    "axes[2].set_ylabel(r'Radial error [km]')\n",
    "\n",
    "axes[2].set_xlabel(r'$t$ [s]')\n",
    "fig.tight_layout()\n",
    "fig.savefig('../output/orbit_simulation_test.png')"
   ],
   "metadata": {
    "collapsed": false,
    "pycharm": {
     "name": "#%%\n"
    }
   }
  },
  {
   "cell_type": "code",
   "execution_count": 73,
   "outputs": [
    {
     "data": {
      "text/plain": "array([0.85366807, 0.58076869, 0.18653661, 0.22824834, 0.05221067,\n       0.22254905, 0.51579322, 0.26528909, 0.76064618, 0.79645984,\n       0.62014873, 0.62263668, 0.91791353, 0.02378048, 0.1839065 ,\n       0.14475825, 0.57526394, 0.27838213, 0.79260659, 0.27005801,\n       0.25270498, 0.30886431, 0.03935296, 0.31456294, 0.17342792,\n       0.08189945, 0.51510943, 0.77383094, 0.89406338, 0.58596279,\n       0.50156146, 0.19998565, 0.29476251, 0.1685886 , 4.03189603,\n       0.04388109, 0.27057761, 0.34501344, 0.28348679, 0.17210433,\n       0.07005799, 0.06780674, 0.06842621, 0.79041143, 0.85238268,\n       0.60166871, 0.10086413, 0.49845046, 0.08527531, 0.10033999,\n       0.31438383, 0.13376695, 0.24414688, 0.31077323, 0.19534566,\n       0.24043509, 0.34591205, 0.36503849, 0.411833  , 0.03961351,\n       0.18361363, 0.16072524, 0.12990817, 0.10994763, 0.20683057,\n       0.12497824, 0.11955282, 0.11475671, 0.21015854, 0.12102347,\n       0.13213964, 0.28173709, 0.20457553, 0.1483558 , 0.14364165,\n       0.15820863, 0.07371479, 0.18185504, 0.12143594, 0.31721381,\n       0.16314832, 0.05243748, 0.02289096, 0.07001573, 0.11316841,\n       0.18900072, 0.25797499, 0.09851884, 0.08223821, 0.17560213,\n       0.16230699, 0.15950399, 0.12654691, 0.40613854, 0.38611726,\n       0.08642506, 0.30221222, 0.41194729, 0.44694505, 0.21220908,\n       0.21097572, 0.19250781, 0.24774977, 0.32101018, 0.33066059,\n       0.28362354, 0.20675504, 0.2175227 , 0.39008635, 0.51227252,\n       0.30035904, 0.03430661, 0.34284372, 0.16086394, 0.28579779,\n       0.22591739, 0.12517178, 0.17188477, 0.05195534, 0.09866804,\n       0.42453104, 0.11622648, 0.40283841, 0.17574797, 0.1356116 ,\n       0.12875127, 0.36983103, 0.31704892, 0.44380663, 0.78276505,\n       0.16828559, 0.21911123, 0.08706592, 0.23996387, 0.38978391,\n       0.32802258, 0.1966376 , 0.53443198, 0.42262874, 0.53948773,\n       0.06862332, 0.52241955, 0.48778771, 0.4108143 , 0.33557016,\n       0.34050016, 0.14103929, 0.34643039, 0.28300916, 0.47782274,\n       0.26761235, 0.14898618, 0.33617239, 0.20176106, 0.13605782,\n       0.07522411, 0.21120109, 0.60187358, 0.47041224, 0.43556961,\n       0.36727484, 0.65672159, 0.31432077, 0.20236994, 0.18658808])"
     },
     "execution_count": 73,
     "metadata": {},
     "output_type": "execute_result"
    }
   ],
   "source": [
    "np.std(measurement_error.squeeze().T, axis=0)"
   ],
   "metadata": {
    "collapsed": false,
    "pycharm": {
     "name": "#%%\n"
    }
   }
  },
  {
   "cell_type": "code",
   "execution_count": null,
   "outputs": [],
   "source": [
    "# cam2 = DataGenerator.from_robbins_dataset(file_path=\"../data/lunar_crater_database_robbins_2018.csv\",\n",
    "#                                           diamlims=(4, 40),\n",
    "#                                           axis_threshold=(1, 250),\n",
    "#                                           resolution=1024\n",
    "#                                           )"
   ],
   "metadata": {
    "collapsed": false,
    "pycharm": {
     "name": "#%%\n"
    }
   }
  },
  {
   "cell_type": "code",
   "execution_count": null,
   "outputs": [],
   "source": [
    "# fps = 30\n",
    "# n_seconds = 15\n",
    "# fig, ax = plt.subplots(figsize=(8,8))\n",
    "# cam2.position = np.array(orb.r)[:, None]\n",
    "# cam2.point_nadir()\n",
    "# image = cam2.generate_image()\n",
    "# im = ax.imshow(image, cmap='gray')\n",
    "# ax.axis('off')\n",
    "# def animation_func(i):\n",
    "#     if i % fps == 0:\n",
    "#         print('.', end ='' )\n",
    "#     cam2.position = np.array(orb.propagate(i*dt*u.second).r)[:, None]\n",
    "#     cam2.rotate('pitch', i//fps*0.003)\n",
    "#     image = cam2.generate_image()\n",
    "#     # plot_conics(cam2.craters_in_image(), ax=ax)\n",
    "#     im.set_array(image)\n",
    "#     return [im]\n",
    "#\n",
    "# anim = animation.FuncAnimation(\n",
    "#     fig,\n",
    "#     animation_func,\n",
    "#     frames = n_seconds * fps,\n",
    "#     interval = 1000 / fps, # in ms\n",
    "# )\n",
    "# fig.tight_layout()\n",
    "#\n",
    "# anim.save('../output/test_anim.mp4', fps=fps, extra_args=['-vcodec', 'libx264'])"
   ],
   "metadata": {
    "collapsed": false,
    "pycharm": {
     "name": "#%%\n"
    }
   }
  },
  {
   "cell_type": "code",
   "execution_count": null,
   "outputs": [],
   "source": [],
   "metadata": {
    "collapsed": false,
    "pycharm": {
     "name": "#%%\n"
    }
   }
  },
  {
   "cell_type": "code",
   "execution_count": null,
   "outputs": [],
   "source": [
    "fig, ax = plt.subplots(figsize=(8, 8))\n",
    "ax.axis('off')\n",
    "ax.imshow(image, cmap='gray')\n",
    "plot_conics(cam2.craters_in_image(), resolution=(1024, 1024), ax=ax)\n",
    "ax.collections"
   ],
   "metadata": {
    "collapsed": false,
    "pycharm": {
     "name": "#%%\n"
    }
   }
  },
  {
   "cell_type": "code",
   "execution_count": null,
   "outputs": [],
   "source": [
    "image.shape\n"
   ],
   "metadata": {
    "collapsed": false,
    "pycharm": {
     "name": "#%%\n"
    }
   }
  },
  {
   "cell_type": "code",
   "execution_count": null,
   "outputs": [],
   "source": [],
   "metadata": {
    "collapsed": false,
    "pycharm": {
     "name": "#%%\n"
    }
   }
  }
 ],
 "metadata": {
  "kernelspec": {
   "display_name": "PyCharm (crater-detection)",
   "language": "python",
   "name": "pycharm-ca2c6f67"
  },
  "language_info": {
   "codemirror_mode": {
    "name": "ipython",
    "version": 3
   },
   "file_extension": ".py",
   "mimetype": "text/x-python",
   "name": "python",
   "nbconvert_exporter": "python",
   "pygments_lexer": "ipython3",
   "version": "3.8.10"
  }
 },
 "nbformat": 4,
 "nbformat_minor": 5
}