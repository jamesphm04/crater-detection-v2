{
 "cells": [
  {
   "cell_type": "code",
   "execution_count": 32,
   "metadata": {
    "collapsed": true
   },
   "outputs": [],
   "source": [
    "import torch\n",
    "import torch.functional as F\n",
    "from torch import nn\n",
    "from torch.nn import Conv2d\n",
    "from torchvision.models.detection import FasterRCNN\n",
    "from torchvision.models.detection.anchor_utils import AnchorGenerator\n",
    "from torchvision.models.detection.backbone_utils import resnet_fpn_backbone\n",
    "from torchvision.models.detection.faster_rcnn import FastRCNNPredictor, TwoMLPHead\n",
    "from torchvision.models.detection.generalized_rcnn import GeneralizedRCNN\n",
    "from torchvision.models.detection.mask_rcnn import MaskRCNNHeads, MaskRCNNPredictor\n",
    "from torchvision.models.detection.roi_heads import RoIHeads\n",
    "from torchvision.models.detection.rpn import RegionProposalNetwork, RPNHead\n",
    "from torchvision.models.detection.transform import GeneralizedRCNNTransform\n",
    "from torchvision.ops import MultiScaleRoIAlign\n",
    "\n",
    "from craterdetection.detection.training import get_dataloaders"
   ]
  },
  {
   "cell_type": "code",
   "execution_count": 22,
   "outputs": [],
   "source": [
    "dataset_path = \"../data/dataset_instanced2.h5\"\n",
    "batch_size = 10\n",
    "num_workers = 4\n",
    "\n",
    "train_loader, validation_loader, test_loader = get_dataloaders(dataset_path, batch_size, num_workers)"
   ],
   "metadata": {
    "collapsed": false,
    "pycharm": {
     "name": "#%%\n"
    }
   }
  },
  {
   "cell_type": "code",
   "execution_count": 37,
   "outputs": [],
   "source": [
    "backbone = resnet_fpn_backbone('resnet18', pretrained=True, trainable_layers=5)\n",
    "\n",
    "## Input image is grayscale -> in_channels = 1 instead of 3 (COCO)\n",
    "backbone.body.conv1 = Conv2d(1, 64, kernel_size=(7, 7), stride=(2, 2), padding=(3, 3), bias=False)"
   ],
   "metadata": {
    "collapsed": false,
    "pycharm": {
     "name": "#%%\n"
    }
   }
  },
  {
   "cell_type": "code",
   "execution_count": 38,
   "outputs": [],
   "source": [
    "images, targets = next(iter(test_loader))"
   ],
   "metadata": {
    "collapsed": false,
    "pycharm": {
     "name": "#%%\n"
    }
   }
  },
  {
   "cell_type": "code",
   "execution_count": 41,
   "outputs": [
    {
     "data": {
      "text/plain": "odict_keys(['0', '1', '2', '3', 'pool'])"
     },
     "execution_count": 41,
     "metadata": {},
     "output_type": "execute_result"
    }
   ],
   "source": [
    "out = backbone(torch.cat(images)[:, None, ...])\n",
    "out.keys()"
   ],
   "metadata": {
    "collapsed": false,
    "pycharm": {
     "name": "#%%\n"
    }
   }
  },
  {
   "cell_type": "code",
   "execution_count": 33,
   "outputs": [],
   "source": [
    "class MaskRCNN(FasterRCNN):\n",
    "    def __init__(self, backbone, num_classes=None,\n",
    "                 # transform parameters\n",
    "                 min_size=800, max_size=1333,\n",
    "                 image_mean=None, image_std=None,\n",
    "                 # RPN parameters\n",
    "                 rpn_anchor_generator=None, rpn_head=None,\n",
    "                 rpn_pre_nms_top_n_train=2000, rpn_pre_nms_top_n_test=1000,\n",
    "                 rpn_post_nms_top_n_train=2000, rpn_post_nms_top_n_test=1000,\n",
    "                 rpn_nms_thresh=0.7,\n",
    "                 rpn_fg_iou_thresh=0.7, rpn_bg_iou_thresh=0.3,\n",
    "                 rpn_batch_size_per_image=256, rpn_positive_fraction=0.5,\n",
    "                 rpn_score_thresh=0.0,\n",
    "                 # Box parameters\n",
    "                 box_roi_pool=None, box_head=None, box_predictor=None,\n",
    "                 box_score_thresh=0.05, box_nms_thresh=0.5, box_detections_per_img=100,\n",
    "                 box_fg_iou_thresh=0.5, box_bg_iou_thresh=0.5,\n",
    "                 box_batch_size_per_image=512, box_positive_fraction=0.25,\n",
    "                 bbox_reg_weights=None,\n",
    "                 # Mask parameters\n",
    "                 mask_roi_pool=None, mask_head=None, mask_predictor=None):\n",
    "\n",
    "        assert isinstance(mask_roi_pool, (MultiScaleRoIAlign, type(None)))\n",
    "\n",
    "        if num_classes is not None:\n",
    "            if mask_predictor is not None:\n",
    "                raise ValueError(\"num_classes should be None when mask_predictor is specified\")\n",
    "\n",
    "        out_channels = backbone.out_channels\n",
    "\n",
    "        if mask_roi_pool is None:\n",
    "            mask_roi_pool = MultiScaleRoIAlign(\n",
    "                featmap_names=['0', '1', '2', '3'],\n",
    "                output_size=14,\n",
    "                sampling_ratio=2)\n",
    "\n",
    "        if mask_head is None:\n",
    "            mask_layers = (256, 256, 256, 256)\n",
    "            mask_dilation = 1\n",
    "            mask_head = MaskRCNNHeads(out_channels, mask_layers, mask_dilation)\n",
    "\n",
    "        if mask_predictor is None:\n",
    "            mask_predictor_in_channels = 256  # == mask_layers[-1]\n",
    "            mask_dim_reduced = 256\n",
    "            mask_predictor = MaskRCNNPredictor(mask_predictor_in_channels,\n",
    "                                               mask_dim_reduced, num_classes)\n",
    "\n",
    "        super(MaskRCNN, self).__init__(\n",
    "            backbone, num_classes,\n",
    "            # transform parameters\n",
    "            min_size, max_size,\n",
    "            image_mean, image_std,\n",
    "            # RPN-specific parameters\n",
    "            rpn_anchor_generator, rpn_head,\n",
    "            rpn_pre_nms_top_n_train, rpn_pre_nms_top_n_test,\n",
    "            rpn_post_nms_top_n_train, rpn_post_nms_top_n_test,\n",
    "            rpn_nms_thresh,\n",
    "            rpn_fg_iou_thresh, rpn_bg_iou_thresh,\n",
    "            rpn_batch_size_per_image, rpn_positive_fraction,\n",
    "            rpn_score_thresh,\n",
    "            # Box parameters\n",
    "            box_roi_pool, box_head, box_predictor,\n",
    "            box_score_thresh, box_nms_thresh, box_detections_per_img,\n",
    "            box_fg_iou_thresh, box_bg_iou_thresh,\n",
    "            box_batch_size_per_image, box_positive_fraction,\n",
    "            bbox_reg_weights)\n",
    "\n",
    "        self.roi_heads.mask_roi_pool = mask_roi_pool\n",
    "        self.roi_heads.mask_head = mask_head\n",
    "        self.roi_heads.mask_predictor = mask_predictor"
   ],
   "metadata": {
    "collapsed": false,
    "pycharm": {
     "name": "#%%\n"
    }
   }
  }
 ],
 "metadata": {
  "kernelspec": {
   "display_name": "Python 3",
   "language": "python",
   "name": "python3"
  },
  "language_info": {
   "codemirror_mode": {
    "name": "ipython",
    "version": 2
   },
   "file_extension": ".py",
   "mimetype": "text/x-python",
   "name": "python",
   "nbconvert_exporter": "python",
   "pygments_lexer": "ipython2",
   "version": "2.7.6"
  }
 },
 "nbformat": 4,
 "nbformat_minor": 0
}